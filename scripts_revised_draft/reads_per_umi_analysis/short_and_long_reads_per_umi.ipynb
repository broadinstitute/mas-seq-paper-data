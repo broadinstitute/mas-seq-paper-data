{
 "cells": [
  {
   "cell_type": "code",
   "execution_count": null,
   "id": "adult-luther",
   "metadata": {},
   "outputs": [],
   "source": [
    "import matplotlib.pylab as plt\n",
    "import numpy as np\n",
    "import pandas as pd\n",
    "import os\n",
    "import sys\n",
    "from time import time\n",
    "import logging\n",
    "import pickle\n",
    "from operator import itemgetter\n",
    "import scanpy as sc\n",
    "import argparse\n",
    "import yaml\n",
    "\n",
    "sc.settings.set_figure_params(dpi=80, facecolor='white')\n",
    "\n",
    "import matplotlib as mpl\n",
    "mpl.rcParams.update(mpl.rcParamsDefault)\n",
    "\n",
    "SMALL_SIZE = 12\n",
    "MEDIUM_SIZE = 14\n",
    "BIGGER_SIZE = 16\n",
    "\n",
    "plt.rc('font', size=SMALL_SIZE)          # controls default text sizes\n",
    "plt.rc('axes', titlesize=SMALL_SIZE)     # fontsize of the axes title\n",
    "plt.rc('axes', labelsize=MEDIUM_SIZE)    # fontsize of the x and y labels\n",
    "plt.rc('xtick', labelsize=SMALL_SIZE)    # fontsize of the tick labels\n",
    "plt.rc('ytick', labelsize=SMALL_SIZE)    # fontsize of the tick labels\n",
    "plt.rc('legend', fontsize=SMALL_SIZE)    # legend fontsize\n",
    "plt.rc('figure', titlesize=BIGGER_SIZE)  # fontsize of the figure title\n",
    "\n",
    "logger = logging.getLogger()\n",
    "logger.setLevel(logging.INFO)\n",
    "log_info = logger.warn\n",
    "\n",
    "import warnings\n",
    "warnings.filterwarnings(\"ignore\")"
   ]
  },
  {
   "cell_type": "markdown",
   "id": "medium-nature",
   "metadata": {},
   "source": [
    "## config"
   ]
  },
  {
   "cell_type": "code",
   "execution_count": null,
   "id": "blond-interpretation",
   "metadata": {},
   "outputs": [],
   "source": [
    "repo_root = '/home/jupyter/mb-ml-data-disk/MAS-seq-analysis'\n",
    "\n",
    "short_read_mol_info_h5_path = f'{repo_root}/data/t-cell-vdj/M132TS/molecule_info.h5'\n",
    "long_read_reads_per_umi_tsv = f'{repo_root}/data/t-cell-vdj/long/quant/revised/final/reads_per_umi/M132TS_MAS_15x_overall_gene_tx_expression_count_matrix.tsv'\n",
    "\n",
    "\n",
    "# inputs\n",
    "input_prefix = 'M132TS_immune.final.harmonized'\n",
    "output_path = 'output/t-cell-vdj-cite-seq'\n",
    "final_long_adata_raw_h5_path = os.path.join(repo_root, output_path, f'{input_prefix}.long.stringtie.final.raw.h5ad')"
   ]
  },
  {
   "cell_type": "code",
   "execution_count": null,
   "id": "decent-treasury",
   "metadata": {},
   "outputs": [],
   "source": [
    "final_adata_long = sc.read(final_long_adata_raw_h5_path)\n",
    "cbc_list = final_adata_long.obs.index.values"
   ]
  },
  {
   "cell_type": "markdown",
   "id": "joint-assignment",
   "metadata": {},
   "source": [
    "## short"
   ]
  },
  {
   "cell_type": "code",
   "execution_count": null,
   "id": "posted-approval",
   "metadata": {},
   "outputs": [],
   "source": [
    "import tables"
   ]
  },
  {
   "cell_type": "code",
   "execution_count": null,
   "id": "phantom-album",
   "metadata": {},
   "outputs": [],
   "source": [
    "mol_info = tables.open_file(short_read_mol_info_h5_path)\n",
    "\n",
    "counts = mol_info.root.count.read()\n",
    "all_barcodes = [bc.decode() for bc in mol_info.root.barcodes.read()]\n",
    "barcode_idx = mol_info.root.barcode_idx.read()\n",
    "barcodes = [all_barcodes[idx] for idx in barcode_idx]"
   ]
  },
  {
   "cell_type": "code",
   "execution_count": null,
   "id": "handy-crawford",
   "metadata": {},
   "outputs": [],
   "source": [
    "# subset to molecules in the T cell whitelist\n",
    "cbc_set = set(cbc_list)\n",
    "cbc_counts = [counts[idx] for idx in range(len(counts)) if barcodes[idx] in cbc_set]"
   ]
  },
  {
   "cell_type": "code",
   "execution_count": null,
   "id": "intense-bermuda",
   "metadata": {},
   "outputs": [],
   "source": [
    "fig, ax = plt.subplots()\n",
    "ax.hist(cbc_counts[:10000], range=(1, 10), bins=10)"
   ]
  },
  {
   "cell_type": "markdown",
   "id": "dressed-indicator",
   "metadata": {},
   "source": [
    "## long"
   ]
  },
  {
   "cell_type": "code",
   "execution_count": null,
   "id": "alternate-indonesia",
   "metadata": {},
   "outputs": [],
   "source": [
    "long_cbc_counts = []\n",
    "cbc_set = set(cbc_list)\n",
    "with open(long_read_reads_per_umi_tsv, 'r') as f:\n",
    "    for line in f:\n",
    "        tokens = line.strip().split('\\t')\n",
    "        if tokens[0] == 'Equivalence_Class':\n",
    "            continue\n",
    "        cbc = tokens[1]\n",
    "        if cbc in cbc_set:\n",
    "            count = int(tokens[-1])\n",
    "            long_cbc_counts.append(count)"
   ]
  },
  {
   "cell_type": "code",
   "execution_count": null,
   "id": "rental-spencer",
   "metadata": {},
   "outputs": [],
   "source": [
    "fig, ax = plt.subplots()\n",
    "ax.hist(long_cbc_counts[:10000], range=(1, 10), bins=10)"
   ]
  },
  {
   "cell_type": "markdown",
   "id": "sealed-district",
   "metadata": {},
   "source": [
    "## final plot"
   ]
  },
  {
   "cell_type": "code",
   "execution_count": null,
   "id": "theoretical-thought",
   "metadata": {},
   "outputs": [],
   "source": [
    "max_mols = 1_000_000\n",
    "cutoff = 10\n",
    "\n",
    "fig, axs = plt.subplots(ncols=2, figsize=(12, 4))\n",
    "\n",
    "axs[0].hist(cbc_counts[:max_mols], range=(1, cutoff), bins=cutoff, density=True, color='gray',\n",
    "            label=f'Mean Reads/Molecule = {np.mean(cbc_counts):.2f}')\n",
    "axs[0].set_ylabel('Fraction of Molecules')\n",
    "axs[0].set_xlabel('Reads per Molecule = (CBC, UMI, gene)')\n",
    "axs[0].set_title('Sample #2 (short-read)')\n",
    "axs[0].set_xticks(0.5 + np.arange(1, cutoff))\n",
    "axs[0].set_xticklabels([str(x) for x in np.arange(1, cutoff)])\n",
    "axs[0].legend()\n",
    "axs[0].set_ylim((0, 1))\n",
    "\n",
    "axs[1].hist(long_cbc_counts[:max_mols], range=(1, cutoff), bins=cutoff, density=True, color='gray',\n",
    "            label=f'Mean Reads/Molecule = {np.mean(long_cbc_counts):.2f}')\n",
    "axs[1].set_ylabel('Fraction of Molecules')\n",
    "axs[1].set_xlabel('Reads per Molecule = (CBC, UMI, transcript eq. class)')\n",
    "axs[1].set_title('Sample #2 (MAS-ISO-seq)')\n",
    "axs[1].set_xticks(0.5 + np.arange(1, cutoff ))\n",
    "axs[1].set_xticklabels([str(x) for x in np.arange(1, cutoff )])\n",
    "axs[1].legend()\n",
    "axs[1].set_ylim((0, 1))\n",
    "\n",
    "fig.tight_layout()\n",
    "\n",
    "fig.savefig('./reads_per_umi.pdf')"
   ]
  },
  {
   "cell_type": "code",
   "execution_count": null,
   "id": "worse-consistency",
   "metadata": {},
   "outputs": [],
   "source": []
  }
 ],
 "metadata": {
  "environment": {
   "name": "pytorch-gpu.1-7.m65",
   "type": "gcloud",
   "uri": "gcr.io/deeplearning-platform-release/pytorch-gpu.1-7:m65"
  },
  "kernelspec": {
   "display_name": "Python 3",
   "language": "python",
   "name": "python3"
  },
  "language_info": {
   "codemirror_mode": {
    "name": "ipython",
    "version": 3
   },
   "file_extension": ".py",
   "mimetype": "text/x-python",
   "name": "python",
   "nbconvert_exporter": "python",
   "pygments_lexer": "ipython3",
   "version": "3.7.10"
  }
 },
 "nbformat": 4,
 "nbformat_minor": 5
}
