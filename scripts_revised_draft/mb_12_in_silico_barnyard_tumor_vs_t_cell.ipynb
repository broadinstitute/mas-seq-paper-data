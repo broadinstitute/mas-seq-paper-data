{
 "cells": [
  {
   "cell_type": "markdown",
   "metadata": {},
   "source": [
    "## _In silico_ barnyard\n",
    "\n",
    "**Inputs and Outputs**\n",
    "- Inputs:\n",
    "  - Harmonized and annotated short-read and long-read AnnData (raw, SCT)\n",
    "- Outputs:\n",
    "  - Figures\n",
    "  - Tables of global and per-cluster DE and DS pvalues for all genes."
   ]
  },
  {
   "cell_type": "code",
   "execution_count": null,
   "metadata": {},
   "outputs": [],
   "source": [
    "import os\n",
    "import sys\n",
    "\n",
    "import matplotlib.pylab as plt\n",
    "import numpy as np\n",
    "import pandas as pd\n",
    "from time import time\n",
    "import logging\n",
    "import pickle\n",
    "from operator import itemgetter\n",
    "import json, pprint\n",
    "import tables \n",
    "\n",
    "import scanpy as sc\n",
    "import anndata\n",
    "\n",
    "from collections import defaultdict\n",
    "from itertools import groupby\n",
    "from operator import itemgetter\n",
    "from typing import List, Dict, Union, Any\n",
    "\n",
    "from time import time\n",
    "\n",
    "SMALL_SIZE = 12\n",
    "MEDIUM_SIZE = 14\n",
    "BIGGER_SIZE = 16\n",
    "\n",
    "plt.rc('font', size=SMALL_SIZE)          # controls default text sizes\n",
    "plt.rc('axes', titlesize=SMALL_SIZE)     # fontsize of the axes title\n",
    "plt.rc('axes', labelsize=MEDIUM_SIZE)    # fontsize of the x and y labels\n",
    "plt.rc('xtick', labelsize=SMALL_SIZE)    # fontsize of the tick labels\n",
    "plt.rc('ytick', labelsize=SMALL_SIZE)    # fontsize of the tick labels\n",
    "plt.rc('legend', fontsize=SMALL_SIZE)    # legend fontsize\n",
    "plt.rc('figure', titlesize=BIGGER_SIZE)  # fontsize of the figure title\n",
    "\n",
    "logger = logging.getLogger()\n",
    "logger.setLevel(logging.INFO)\n",
    "log_info = logger.warning\n",
    "\n",
    "import warnings\n",
    "warnings.filterwarnings(\"ignore\")\n",
    "\n",
    "sc.settings.set_figure_params(dpi=80, facecolor='white')"
   ]
  },
  {
   "cell_type": "code",
   "execution_count": null,
   "metadata": {},
   "outputs": [],
   "source": [
    "repo_root = '/home/jupyter/mb-ml-data-disk/MAS-seq-analysis'\n",
    "\n",
    "# inputs\n",
    "output_prefix = 'new_pipeline__revised_v2'\n",
    "input_prefix = f'M132TS_both_{output_prefix}.harmonized.barnyard'\n",
    "output_path = 'output/t-cell-vdj-cite-seq'\n",
    "\n",
    "# outputs\n",
    "final_long_adata_raw_h5_path = os.path.join(repo_root, output_path, f'{input_prefix}.long.h5ad')\n",
    "final_short_adata_raw_h5_path = os.path.join(repo_root, output_path, f'{input_prefix}.short.h5ad')\n",
    "\n",
    "# constants\n",
    "# GENE_IDS_KEY = 'gencode_overlap_gene_ids'\n",
    "# GENE_NAMES_KEY = 'gencode_overlap_gene_names'\n",
    "\n",
    "GENE_IDS_KEY = 'gene_ids'\n",
    "GENE_NAMES_KEY = 'gene_names'"
   ]
  },
  {
   "cell_type": "markdown",
   "metadata": {},
   "source": [
    "## Configuration"
   ]
  },
  {
   "cell_type": "code",
   "execution_count": null,
   "metadata": {},
   "outputs": [],
   "source": [
    "min_cells_per_transcript = 0 # 1\n",
    "min_cells_per_gene = 0 # 50\n",
    "\n",
    "group_cells_by_obs_key = 'leiden_crude'"
   ]
  },
  {
   "cell_type": "markdown",
   "metadata": {},
   "source": [
    "## Preprocess"
   ]
  },
  {
   "cell_type": "code",
   "execution_count": null,
   "metadata": {},
   "outputs": [],
   "source": [
    "adata_long = sc.read(final_long_adata_raw_h5_path)"
   ]
  },
  {
   "cell_type": "code",
   "execution_count": null,
   "metadata": {},
   "outputs": [],
   "source": [
    "adata_long"
   ]
  },
  {
   "cell_type": "code",
   "execution_count": null,
   "metadata": {},
   "outputs": [],
   "source": [
    "total_umis = adata_long.X.sum()\n",
    "log_info(f'Total UMIs: {total_umis}')"
   ]
  },
  {
   "cell_type": "markdown",
   "metadata": {},
   "source": [
    "## Filtering"
   ]
  },
  {
   "cell_type": "code",
   "execution_count": null,
   "metadata": {},
   "outputs": [],
   "source": [
    "# remove genes that are lowly expressed\n",
    "from collections import defaultdict\n",
    "gene_id_to_tx_indices_map = defaultdict(list)\n",
    "for i, gid in enumerate(adata_long.var[GENE_IDS_KEY].values):\n",
    "    gene_id_to_tx_indices_map[gid].append(i)\n",
    "\n",
    "included_gene_ids = []\n",
    "tx_counts_i = np.asarray(adata_long.X.sum(0)).flatten()\n",
    "for gid, tx_indices in gene_id_to_tx_indices_map.items():\n",
    "    if np.sum(tx_counts_i[tx_indices]) >= min_cells_per_gene:\n",
    "        included_gene_ids.append(gid)\n",
    "\n",
    "adata_long = adata_long[:, adata_long.var[GENE_IDS_KEY].values.isin(included_gene_ids)]\n",
    "\n",
    "# remove transcript that are very lowly expressed\n",
    "sc.pp.filter_genes(adata_long, min_cells=min_cells_per_transcript)\n",
    "tpm_threshold = 1_000_000 * min_cells_per_transcript / total_umis\n",
    "\n",
    "log_info(f'Removing isoforms with TPM < {tpm_threshold:.2f}')"
   ]
  },
  {
   "cell_type": "code",
   "execution_count": null,
   "metadata": {},
   "outputs": [],
   "source": [
    "adata_long"
   ]
  },
  {
   "cell_type": "code",
   "execution_count": null,
   "metadata": {},
   "outputs": [],
   "source": [
    "# mapping from gene id to spanning tx icatces\n",
    "from collections import defaultdict\n",
    "gene_id_to_tx_indices_map = defaultdict(list)\n",
    "for i, gid in enumerate(adata_long.var[GENE_IDS_KEY].values):\n",
    "    gene_id_to_tx_indices_map[gid].append(i)\n",
    "\n",
    "# useful auxiliary data structures    \n",
    "gene_ids = sorted(list(gene_id_to_tx_indices_map.keys()))\n",
    "n_genes = len(gene_ids)\n",
    "n_transcripts = adata_long.shape[1]\n",
    "gene_id_to_gene_name_map = {\n",
    "    gene_id: gene_name for gene_id, gene_name in zip(adata_long.var[GENE_IDS_KEY], adata_long.var[GENE_NAMES_KEY])}\n",
    "gene_name_to_gene_id_map = {\n",
    "    gene_name: gene_id for gene_id, gene_name in zip(adata_long.var[GENE_IDS_KEY], adata_long.var[GENE_NAMES_KEY])}\n",
    "gene_names = list(map(gene_id_to_gene_name_map.get, gene_ids))\n",
    "\n",
    "# mapping from gene id to spanning tx indices\n",
    "group_ids = adata_long.obs[group_cells_by_obs_key].values.categories.values\n",
    "group_id_to_obs_indices_map = defaultdict(list)\n",
    "for group_id in group_ids:\n",
    "    group_id_to_obs_indices_map[group_id] = [\n",
    "        idx for idx in range(len(adata_long))\n",
    "        if adata_long.obs[group_cells_by_obs_key].values[idx] == group_id]"
   ]
  },
  {
   "cell_type": "code",
   "execution_count": null,
   "metadata": {},
   "outputs": [],
   "source": [
    "import scipy\n",
    "\n",
    "# get gene expression from isoform expression\n",
    "row_indices = []\n",
    "col_indices = []\n",
    "values = []\n",
    "for j, gene_id in enumerate(gene_ids):\n",
    "    tx_indices = gene_id_to_tx_indices_map[gene_id]\n",
    "    row_indices += tx_indices\n",
    "    col_indices += [j] * len(tx_indices)\n",
    "    values += [1] * len(tx_indices)\n",
    "Y_ij = scipy.sparse.coo_matrix((values, (row_indices, col_indices)), shape=(n_transcripts, n_genes)).tocsr()\n",
    "gex_X_nj = adata_long.X @ Y_ij\n",
    "\n",
    "# normalize\n",
    "adata_long_gex = sc.AnnData(\n",
    "    X=gex_X_nj,\n",
    "    obs=adata_long.obs,\n",
    "    var=pd.DataFrame(index=pd.Index(list(map(gene_id_to_gene_name_map.get, gene_ids)))))\n",
    "\n",
    "adata_long_gex.var_names_make_unique()\n",
    "# sc.pp.normalize_per_cell(adata_long_gex)\n",
    "# sc.pp.log1p(adata_long_gex)"
   ]
  },
  {
   "cell_type": "code",
   "execution_count": null,
   "metadata": {},
   "outputs": [],
   "source": [
    "adata_short = sc.read(os.path.join(repo_root, final_short_adata_raw_h5_path))"
   ]
  },
  {
   "cell_type": "code",
   "execution_count": null,
   "metadata": {},
   "outputs": [],
   "source": [
    "adata_short"
   ]
  },
  {
   "cell_type": "code",
   "execution_count": null,
   "metadata": {},
   "outputs": [],
   "source": [
    "adata_short_final = adata_short[:, adata_short.var.index.isin(adata_long_gex.var.index.values)]\n",
    "adata_long_final = adata_long_gex[:, adata_short_final.var.index]"
   ]
  },
  {
   "cell_type": "code",
   "execution_count": null,
   "metadata": {},
   "outputs": [],
   "source": [
    "adata_short_final"
   ]
  },
  {
   "cell_type": "code",
   "execution_count": null,
   "metadata": {},
   "outputs": [],
   "source": [
    "adata_long_final"
   ]
  },
  {
   "cell_type": "markdown",
   "metadata": {},
   "source": [
    "## Discovery"
   ]
  },
  {
   "cell_type": "code",
   "execution_count": null,
   "metadata": {},
   "outputs": [],
   "source": [
    "discovery_adata_name = 'short'"
   ]
  },
  {
   "cell_type": "code",
   "execution_count": null,
   "metadata": {},
   "outputs": [],
   "source": [
    "def get_grouped_expression(adata, group_cells_by_obs_key):\n",
    "    # mapping from gene id to spanning tx indices\n",
    "    group_ids = adata.obs[group_cells_by_obs_key].values.categories.values\n",
    "    group_id_to_obs_indices_map = defaultdict(list)\n",
    "    for group_id in group_ids:\n",
    "        group_id_to_obs_indices_map[group_id] = [\n",
    "            idx for idx in range(len(adata))\n",
    "            if adata.obs[group_cells_by_obs_key].values[idx] == group_id]\n",
    "    \n",
    "    n_genes = adata.shape[1]\n",
    "    n_groups = len(group_id_to_obs_indices_map)\n",
    "    group_expr_gi = np.zeros((n_groups, n_genes), dtype=np.int)\n",
    "    for i_group, group_id in enumerate(group_ids):\n",
    "        group_expr_gi[i_group, :] = np.asarray(adata.X[group_id_to_obs_indices_map[group_id], :].sum(0)).flatten()\n",
    "        \n",
    "    return group_expr_gi"
   ]
  },
  {
   "cell_type": "code",
   "execution_count": null,
   "metadata": {},
   "outputs": [],
   "source": [
    "discovery_adata = {\n",
    "    'short': adata_short_final,\n",
    "    'long': adata_long_final}[discovery_adata_name]\n",
    "\n",
    "metacell_mg = get_grouped_expression(discovery_adata, group_cells_by_obs_key)\n",
    "normed_metacell_mg = metacell_mg / np.sum(metacell_mg, -1, keepdims=True)\n",
    "lo_expr_threshold = 1e-5\n",
    "hi_expr_threshold = 1e-4\n",
    "\n",
    "barnyard_gene_indices_list = []\n",
    "for group_a in range(2):\n",
    "    for group_b in range(2):\n",
    "        lo_in_a = normed_metacell_mg[group_a, :] < lo_expr_threshold\n",
    "        hi_in_b = normed_metacell_mg[group_b, :] > hi_expr_threshold\n",
    "        barnyard_mask_g = lo_in_a & hi_in_b\n",
    "        barnyard_gene_indices = np.where(barnyard_mask_g)[0]\n",
    "        for idx in barnyard_gene_indices:\n",
    "            barnyard_gene_indices_list.append((group_a, group_b, idx, discovery_adata.var.index.values[idx]))\n",
    "        print(f'{group_a}, {group_b}: {barnyard_mask_g.sum()}')"
   ]
  },
  {
   "cell_type": "code",
   "execution_count": null,
   "metadata": {},
   "outputs": [],
   "source": [
    "putative_tumor_gene_indices = [t[2] for t in barnyard_gene_indices_list if t[0] == 0 and t[1] == 1]\n",
    "putative_immune_gene_indices = [t[2] for t in barnyard_gene_indices_list if t[0] == 1 and t[1] == 0]\n",
    "putative_tumor_gene_names = [t[3] for t in barnyard_gene_indices_list if t[0] == 0 and t[1] == 1]\n",
    "putative_immune_gene_names = [t[3] for t in barnyard_gene_indices_list if t[0] == 1 and t[1] == 0]\n",
    "\n",
    "putative_tumor_gene_expr_in_immune_n = np.asarray(\n",
    "    discovery_adata[discovery_adata.obs['leiden_crude'] == '0'][:, putative_tumor_gene_indices].X.sum(-1)).flatten()\n",
    "putative_immune_gene_expr_in_tumor_n = np.asarray(\n",
    "    discovery_adata[discovery_adata.obs['leiden_crude'] == '1'][:, putative_immune_gene_indices].X.sum(-1)).flatten()"
   ]
  },
  {
   "cell_type": "code",
   "execution_count": null,
   "metadata": {},
   "outputs": [],
   "source": [
    "plt.hist(putative_immune_gene_expr_in_tumor_n, bins=100);"
   ]
  },
  {
   "cell_type": "code",
   "execution_count": null,
   "metadata": {},
   "outputs": [],
   "source": [
    "plt.hist(putative_tumor_gene_expr_in_immune_n, bins=100);"
   ]
  },
  {
   "cell_type": "code",
   "execution_count": null,
   "metadata": {},
   "outputs": [],
   "source": [
    "cell_purification_threshold = 1.\n",
    "\n",
    "pure_immune_cells_mask = putative_tumor_gene_expr_in_immune_n < cell_purification_threshold\n",
    "pure_tumor_cells_mask = putative_immune_gene_expr_in_tumor_n < cell_purification_threshold\n",
    "pure_immune_cell_indices = np.where((discovery_adata.obs['leiden_crude'] == '0').values)[0][pure_immune_cells_mask]\n",
    "pure_tumor_cell_indices = np.where((discovery_adata.obs['leiden_crude'] == '1').values)[0][pure_tumor_cells_mask]\n",
    "pure_both_indices = pure_immune_cell_indices.tolist() + pure_tumor_cell_indices.tolist()"
   ]
  },
  {
   "cell_type": "code",
   "execution_count": null,
   "metadata": {},
   "outputs": [],
   "source": [
    "adata_short_final_pure = adata_short_final[pure_both_indices]\n",
    "adata_long_final_pure = adata_long_final[pure_both_indices]"
   ]
  },
  {
   "cell_type": "code",
   "execution_count": null,
   "metadata": {},
   "outputs": [],
   "source": [
    "discovery_adata = {\n",
    "    'short': adata_short_final_pure,\n",
    "    'long': adata_long_final_pure}[discovery_adata_name]\n",
    "\n",
    "metacell_mg = get_grouped_expression(adata_short_final_pure, group_cells_by_obs_key)\n",
    "normed_metacell_mg = metacell_mg / np.sum(metacell_mg, -1, keepdims=True)\n",
    "lo_expr_threshold = 1e-6\n",
    "hi_expr_threshold = 1e-4\n",
    "\n",
    "barnyard_gene_indices_list = []\n",
    "for group_a in range(2):\n",
    "    for group_b in range(2):\n",
    "        lo_in_a = normed_metacell_mg[group_a, :] < lo_expr_threshold\n",
    "        hi_in_b = normed_metacell_mg[group_b, :] > hi_expr_threshold\n",
    "        barnyard_mask_g = lo_in_a & hi_in_b\n",
    "        barnyard_gene_indices = np.where(barnyard_mask_g)[0]\n",
    "        for idx in barnyard_gene_indices:\n",
    "            barnyard_gene_indices_list.append((group_a, group_b, idx, discovery_adata.var.index.values[idx]))\n",
    "        print(f'{group_a}, {group_b}: {barnyard_mask_g.sum()}')"
   ]
  },
  {
   "cell_type": "code",
   "execution_count": null,
   "metadata": {},
   "outputs": [],
   "source": [
    "final_tumor_gene_indices = [t[2] for t in barnyard_gene_indices_list if t[0] == 0 and t[1] == 1]\n",
    "final_immune_gene_indices = [t[2] for t in barnyard_gene_indices_list if t[0] == 1 and t[1] == 0]\n",
    "final_tumor_gene_names = [t[3] for t in barnyard_gene_indices_list if t[0] == 0 and t[1] == 1]\n",
    "final_immune_gene_names = [t[3] for t in barnyard_gene_indices_list if t[0] == 1 and t[1] == 0]"
   ]
  },
  {
   "cell_type": "code",
   "execution_count": null,
   "metadata": {},
   "outputs": [],
   "source": [
    "fig, ax = plt.subplots(figsize=(5, 4))\n",
    "\n",
    "adata = adata_short_final_pure.copy()\n",
    "\n",
    "contamination_threshold = 0.1\n",
    "min_counts = 50\n",
    "\n",
    "final_tumor_gene_expr_in_immune_n = np.asarray(\n",
    "    adata[adata.obs['leiden_crude'] == '0'][:, final_tumor_gene_indices].X.sum(-1)).flatten()\n",
    "final_immune_gene_expr_in_tumor_n = np.asarray(\n",
    "    adata[adata.obs['leiden_crude'] == '1'][:, final_immune_gene_indices].X.sum(-1)).flatten()\n",
    "final_tumor_gene_expr_in_tumor_n = np.asarray(\n",
    "    adata[adata.obs['leiden_crude'] == '1'][:, final_tumor_gene_indices].X.sum(-1)).flatten()\n",
    "final_immune_gene_expr_in_immune_n = np.asarray(\n",
    "    adata[adata.obs['leiden_crude'] == '0'][:, final_immune_gene_indices].X.sum(-1)).flatten()\n",
    "\n",
    "outlier_tumor_cells_n = final_immune_gene_expr_in_tumor_n > (contamination_threshold * final_tumor_gene_expr_in_tumor_n)\n",
    "outlier_tumor_cells_n = outlier_tumor_cells_n & (final_tumor_gene_expr_in_tumor_n > min_counts)\n",
    "outlier_immune_cells_n = final_tumor_gene_expr_in_immune_n > (contamination_threshold * final_immune_gene_expr_in_immune_n)\n",
    "outlier_immune_cells_n = outlier_immune_cells_n & (final_immune_gene_expr_in_immune_n > min_counts)\n",
    "\n",
    "# other statistics\n",
    "median_umi_per_cell = np.median(np.asarray(adata_short.X.sum(-1)).flat)\n",
    "tumor_purity = 100. * final_tumor_gene_expr_in_tumor_n.sum() / (final_immune_gene_expr_in_tumor_n.sum() + final_tumor_gene_expr_in_tumor_n.sum())\n",
    "immune_purity = 100. * final_immune_gene_expr_in_immune_n.sum() / (final_tumor_gene_expr_in_immune_n.sum() + final_immune_gene_expr_in_immune_n.sum())\n",
    "\n",
    "n_immune_cells = (adata.obs['leiden_crude'] == '0').sum()\n",
    "n_tumor_cells = (adata.obs['leiden_crude'] == '1').sum()\n",
    "\n",
    "# all points\n",
    "ax.scatter(\n",
    "    final_immune_gene_expr_in_immune_n,\n",
    "    final_tumor_gene_expr_in_immune_n,\n",
    "    s=1,\n",
    "    label=f'Immune (N={n_immune_cells})')\n",
    "\n",
    "ax.scatter(\n",
    "    final_immune_gene_expr_in_tumor_n,\n",
    "    final_tumor_gene_expr_in_tumor_n,\n",
    "    s=1,\n",
    "    label=f'Tumor (N={n_tumor_cells})')\n",
    "\n",
    "# outliers\n",
    "ax.scatter(\n",
    "    final_immune_gene_expr_in_immune_n[outlier_immune_cells_n],\n",
    "    final_tumor_gene_expr_in_immune_n[outlier_immune_cells_n],\n",
    "    s=50,\n",
    "    facecolor='none',\n",
    "    edgecolor='red',\n",
    "    marker='o',\n",
    "    lw=0.5,\n",
    "    label=f'Tumor in Immune > {int(100. * contamination_threshold)}% (N={outlier_immune_cells_n.sum()})')\n",
    "\n",
    "ax.scatter(\n",
    "    final_immune_gene_expr_in_tumor_n[outlier_tumor_cells_n],\n",
    "    final_tumor_gene_expr_in_tumor_n[outlier_tumor_cells_n],\n",
    "    s=50,\n",
    "    facecolor='none',\n",
    "    edgecolor='black',\n",
    "    marker='o',\n",
    "    lw=0.5,\n",
    "    label=f'Immune in Tumor > {int(100. * contamination_threshold)}% (N={outlier_tumor_cells_n.sum()})')\n",
    "\n",
    "\n",
    "plt.plot(\n",
    "    [], [], ' ',\n",
    "    label=f\"Median UMIs per cell: {int(median_umi_per_cell)}\")\n",
    "plt.plot(\n",
    "    [], [], ' ',\n",
    "    label=f\"Tumor purity: {tumor_purity:.1f}%\")\n",
    "plt.plot(\n",
    "    [], [], ' ',\n",
    "    label=f\"Immune purity: {immune_purity:.1f}%\")\n",
    "\n",
    "# ax.set_xscale('log')\n",
    "# ax.set_yscale('log')\n",
    "\n",
    "\n",
    "ax.set_xlim((-40, 2000))\n",
    "ax.set_ylim((-40, 2000))\n",
    "\n",
    "ax.set_xlabel('Immune-specific total GEX')\n",
    "ax.set_ylabel('Tumor-specific total GEX')\n",
    "\n",
    "ax.set_title(f'Illumina')\n",
    "ax.legend(fontsize=10)\n",
    "ax.set_aspect('equal')\n",
    "fig.tight_layout()\n",
    "fig.savefig(f'./output/M132TS__short_barnyard__{output_prefix}.pdf')"
   ]
  },
  {
   "cell_type": "code",
   "execution_count": null,
   "metadata": {},
   "outputs": [],
   "source": [
    "fig, ax = plt.subplots(figsize=(5, 4))\n",
    "\n",
    "adata = adata_long_final_pure.copy()\n",
    "\n",
    "contamination_threshold = 0.1\n",
    "min_counts = 100\n",
    "\n",
    "final_tumor_gene_expr_in_immune_n = np.asarray(\n",
    "    adata[adata.obs['leiden_crude'] == '0'][:, final_tumor_gene_indices].X.sum(-1)).flatten()\n",
    "final_immune_gene_expr_in_tumor_n = np.asarray(\n",
    "    adata[adata.obs['leiden_crude'] == '1'][:, final_immune_gene_indices].X.sum(-1)).flatten()\n",
    "final_tumor_gene_expr_in_tumor_n = np.asarray(\n",
    "    adata[adata.obs['leiden_crude'] == '1'][:, final_tumor_gene_indices].X.sum(-1)).flatten()\n",
    "final_immune_gene_expr_in_immune_n = np.asarray(\n",
    "    adata[adata.obs['leiden_crude'] == '0'][:, final_immune_gene_indices].X.sum(-1)).flatten()\n",
    "\n",
    "outlier_tumor_cells_n = final_immune_gene_expr_in_tumor_n > (contamination_threshold * final_tumor_gene_expr_in_tumor_n)\n",
    "outlier_tumor_cells_n = outlier_tumor_cells_n & (final_tumor_gene_expr_in_tumor_n > min_counts)\n",
    "outlier_immune_cells_n = final_tumor_gene_expr_in_immune_n > (contamination_threshold * final_immune_gene_expr_in_immune_n)\n",
    "outlier_immune_cells_n = outlier_immune_cells_n & (final_immune_gene_expr_in_immune_n > min_counts)\n",
    "\n",
    "# other statistics\n",
    "median_umi_per_cell = np.median(np.asarray(adata_long.X.sum(-1)).flat)\n",
    "tumor_purity = 100. * final_tumor_gene_expr_in_tumor_n.sum() / (final_immune_gene_expr_in_tumor_n.sum() + final_tumor_gene_expr_in_tumor_n.sum())\n",
    "immune_purity = 100. * final_immune_gene_expr_in_immune_n.sum() / (final_tumor_gene_expr_in_immune_n.sum() + final_immune_gene_expr_in_immune_n.sum())\n",
    "\n",
    "n_immune_cells = (adata.obs['leiden_crude'] == '0').sum()\n",
    "n_tumor_cells = (adata.obs['leiden_crude'] == '1').sum()\n",
    "\n",
    "# all points\n",
    "ax.scatter(\n",
    "    final_immune_gene_expr_in_immune_n,\n",
    "    final_tumor_gene_expr_in_immune_n,\n",
    "    s=1,\n",
    "    label=f'Immune (N={n_immune_cells})')\n",
    "\n",
    "ax.scatter(\n",
    "    final_immune_gene_expr_in_tumor_n,\n",
    "    final_tumor_gene_expr_in_tumor_n,\n",
    "    s=1,\n",
    "    label=f'Tumor (N={n_tumor_cells})')\n",
    "\n",
    "# outliers\n",
    "ax.scatter(\n",
    "    final_immune_gene_expr_in_immune_n[outlier_immune_cells_n],\n",
    "    final_tumor_gene_expr_in_immune_n[outlier_immune_cells_n],\n",
    "    s=50,\n",
    "    facecolor='none',\n",
    "    edgecolor='red',\n",
    "    marker='o',\n",
    "    lw=0.5,\n",
    "    label=f'Tumor in Immune > {int(100. * contamination_threshold)}% (N={outlier_immune_cells_n.sum()})')\n",
    "\n",
    "ax.scatter(\n",
    "    final_immune_gene_expr_in_tumor_n[outlier_tumor_cells_n],\n",
    "    final_tumor_gene_expr_in_tumor_n[outlier_tumor_cells_n],\n",
    "    s=50,\n",
    "    facecolor='none',\n",
    "    edgecolor='black',\n",
    "    marker='o',\n",
    "    lw=0.5,\n",
    "    label=f'Immune in Tumor > {int(100. * contamination_threshold)}% (N={outlier_tumor_cells_n.sum()})')\n",
    "\n",
    "\n",
    "plt.plot(\n",
    "    [], [], ' ',\n",
    "    label=f\"Median UMIs per cell: {int(median_umi_per_cell)}\")\n",
    "plt.plot(\n",
    "    [], [], ' ',\n",
    "    label=f\"Tumor purity: {tumor_purity:.1f}%\")\n",
    "plt.plot(\n",
    "    [], [], ' ',\n",
    "    label=f\"Immune purity: {immune_purity:.1f}%\")\n",
    "\n",
    "# ax.set_xscale('log')\n",
    "# ax.set_yscale('log')\n",
    "\n",
    "\n",
    "ax.set_xlim((-20, 1000))\n",
    "ax.set_ylim((-20, 1000))\n",
    "\n",
    "ax.set_xlabel('Immune-specific total GEX')\n",
    "ax.set_ylabel('Tumor-specific total GEX')\n",
    "\n",
    "ax.set_title(f'MAS-ISO-Seq ({output_prefix})')\n",
    "ax.legend(fontsize=10)\n",
    "\n",
    "fig.tight_layout()\n",
    "fig.savefig(f'./output/M132TS__long_barnyard__{output_prefix}.pdf')"
   ]
  },
  {
   "cell_type": "code",
   "execution_count": null,
   "metadata": {},
   "outputs": [],
   "source": []
  },
  {
   "cell_type": "code",
   "execution_count": null,
   "metadata": {},
   "outputs": [],
   "source": []
  },
  {
   "cell_type": "code",
   "execution_count": null,
   "metadata": {},
   "outputs": [],
   "source": []
  },
  {
   "cell_type": "code",
   "execution_count": null,
   "metadata": {},
   "outputs": [],
   "source": []
  },
  {
   "cell_type": "code",
   "execution_count": null,
   "metadata": {},
   "outputs": [],
   "source": []
  },
  {
   "cell_type": "code",
   "execution_count": null,
   "metadata": {},
   "outputs": [],
   "source": []
  }
 ],
 "metadata": {
  "environment": {
   "name": "pytorch-gpu.1-7.m65",
   "type": "gcloud",
   "uri": "gcr.io/deeplearning-platform-release/pytorch-gpu.1-7:m65"
  },
  "kernelspec": {
   "display_name": "Python 3",
   "language": "python",
   "name": "python3"
  },
  "language_info": {
   "codemirror_mode": {
    "name": "ipython",
    "version": 3
   },
   "file_extension": ".py",
   "mimetype": "text/x-python",
   "name": "python",
   "nbconvert_exporter": "python",
   "pygments_lexer": "ipython3",
   "version": "3.7.10"
  }
 },
 "nbformat": 4,
 "nbformat_minor": 4
}
