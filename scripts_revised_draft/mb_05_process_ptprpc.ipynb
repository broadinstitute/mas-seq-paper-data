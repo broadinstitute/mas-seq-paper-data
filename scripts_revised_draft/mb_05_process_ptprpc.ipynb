{
 "cells": [
  {
   "cell_type": "markdown",
   "metadata": {},
   "source": [
    "## Generate PTPRC CITE-seq vs. MAS-seq validation plots\n",
    "\n",
    "**Inputs and Outputs**\n",
    "- Inputs:\n",
    "  - long-reads adata object for M132TS incl. CITE-seq data (raw)\n",
    "  - manual (decision-tree-based) annotations of PTPRC\n",
    "- Outputs:\n",
    "  - Figures"
   ]
  },
  {
   "cell_type": "code",
   "execution_count": null,
   "metadata": {},
   "outputs": [],
   "source": [
    "import os\n",
    "import sys\n",
    "\n",
    "import matplotlib.pylab as plt\n",
    "import colorcet as cc\n",
    "import numpy as np\n",
    "import pandas as pd\n",
    "from time import time\n",
    "import logging\n",
    "import pickle\n",
    "import gffutils\n",
    "import pysam\n",
    "import umap\n",
    "import scanpy as sc\n",
    "import pickle\n",
    "\n",
    "SMALL_SIZE = 12\n",
    "MEDIUM_SIZE = 14\n",
    "BIGGER_SIZE = 16\n",
    "\n",
    "plt.rc('font', size=SMALL_SIZE)          # controls default text sizes\n",
    "plt.rc('axes', titlesize=SMALL_SIZE)     # fontsize of the axes title\n",
    "plt.rc('axes', labelsize=MEDIUM_SIZE)    # fontsize of the x and y labels\n",
    "plt.rc('xtick', labelsize=SMALL_SIZE)    # fontsize of the tick labels\n",
    "plt.rc('ytick', labelsize=SMALL_SIZE)    # fontsize of the tick labels\n",
    "plt.rc('legend', fontsize=SMALL_SIZE)    # legend fontsize\n",
    "plt.rc('figure', titlesize=BIGGER_SIZE)  # fontsize of the figure title\n",
    "# plt.style.use('dark_background')\n",
    "\n",
    "logger = logging.getLogger()\n",
    "logger.setLevel(logging.INFO)\n",
    "log_info = print\n",
    "\n",
    "sc.set_figure_params(dpi=80)\n",
    "sc.settings.set_figure_params(dpi=80, facecolor='white')"
   ]
  },
  {
   "cell_type": "code",
   "execution_count": null,
   "metadata": {},
   "outputs": [],
   "source": [
    "repo_root = '/home/jupyter/mb-ml-data-disk/MAS-seq-analysis'\n",
    "\n",
    "# inputs\n",
    "input_prefix = 'M132TS_immune.revised_v2.harmonized'\n",
    "output_path = 'output/t-cell-vdj-cite-seq'\n",
    "final_long_adata_raw_h5_path = os.path.join(repo_root, output_path, f'{input_prefix}.long.stringtie.final.raw.h5ad')\n",
    "transcript_eq_class_tsv_path = os.path.join(\n",
    "    repo_root, 'data/t-cell-vdj/long/quant/revised_v2/equivalence_classes',\n",
    "    'M132TS_MAS_15x_all_cbc_annotated_array_elements_padded.equivalence_class_lookup.tsv')\n",
    "\n",
    "# # manual isoform annotation quant\n",
    "# manual_adata_long_annotation_quants_path = os.path.join(repo_root, 'output/t-cell-vdj-cite-seq/manual_annotations')"
   ]
  },
  {
   "cell_type": "code",
   "execution_count": null,
   "metadata": {},
   "outputs": [],
   "source": [
    "adata_long_raw = sc.read(final_long_adata_raw_h5_path)"
   ]
  },
  {
   "cell_type": "code",
   "execution_count": null,
   "metadata": {},
   "outputs": [],
   "source": [
    "teq_pd = pd.read_csv(transcript_eq_class_tsv_path, delimiter='\\t', index_col=0)"
   ]
  },
  {
   "cell_type": "code",
   "execution_count": null,
   "metadata": {},
   "outputs": [],
   "source": [
    "from scipy.sparse import hstack as sparse_hstack\n",
    "\n",
    "def extend_adata(old_adata: sc.AnnData, new_adata: sc.AnnData) -> sc.AnnData:\n",
    "\n",
    "    old_barcodes = old_adata.obs.index.values\n",
    "    old_X = old_adata.X\n",
    "    new_barcodes = new_adata.obs.index.values\n",
    "    new_X = new_adata.X\n",
    "\n",
    "    new_barcodes_to_idx_map = {barcode: idx for idx, barcode in enumerate(new_barcodes)}\n",
    "    assert all(barcode in new_barcodes_to_idx_map for barcode in set(old_barcodes))\n",
    "    kept_new_barcode_indices = list(map(new_barcodes_to_idx_map.get, old_barcodes))\n",
    "    new_X_kept = new_X[kept_new_barcode_indices, :]\n",
    "\n",
    "    merged_var = pd.concat((old_adata.var, new_adata.var))\n",
    "    try:\n",
    "        merged_X = sparse_hstack((old_X, new_X_kept)).tocsr()\n",
    "    except:\n",
    "        merged_X = np.hstack((old_X, new_X_kept)).copy()\n",
    "\n",
    "    merged_adata = sc.AnnData(\n",
    "        X=merged_X,\n",
    "        obs=old_adata.obs,\n",
    "        var=merged_var,\n",
    "        uns=old_adata.uns,\n",
    "        obsm=old_adata.obsm)\n",
    "    \n",
    "    return merged_adata"
   ]
  },
  {
   "cell_type": "code",
   "execution_count": null,
   "metadata": {},
   "outputs": [],
   "source": [
    "# # extend adata with manual annotations\n",
    "# for dirname, _, filenames in os.walk(manual_adata_long_annotation_quants_path):\n",
    "#     for filename in filenames:\n",
    "#         manual_adata_long_path = os.path.join(dirname, filename)\n",
    "#         log_info(f'Adding manual isoform annotations from {manual_adata_long_path} ...')\n",
    "#         if manual_adata_long_path.split('.')[-1] != 'h5ad':\n",
    "#             continue\n",
    "#         manual_adata_long = sc.read(manual_adata_long_path)\n",
    "#         adata_long_raw = extend_adata(adata_long_raw, manual_adata_long)\n",
    "# adata_long_raw.X = adata_long_raw.X.tocsr()"
   ]
  },
  {
   "cell_type": "code",
   "execution_count": null,
   "metadata": {},
   "outputs": [],
   "source": [
    "adata_long_raw.var[adata_long_raw.var['gene_names'] == 'PTPRC']"
   ]
  },
  {
   "cell_type": "code",
   "execution_count": null,
   "metadata": {},
   "outputs": [],
   "source": [
    "gene_name = 'PTPRC'\n",
    "gene_id = adata_long_raw.var[adata_long_raw.var['gene_names'] == gene_name]['gene_ids'].values[0]\n",
    "\n",
    "ensembl_map = {\n",
    "    'CD45RB': ['ENST00000645247', 'ENST00000643513', 'ENST00000530727', 'ENST00000462363', 'ENST00000427110'],\n",
    "    'CD45RAB': ['ENST00000529828'],\n",
    "    'CD45RABC': ['ENST00000442510'],\n",
    "    'CD45RBC': ['ENST00000391970', 'ENST00000367367'],\n",
    "    'CD45RO': ['ENST00000367379', 'ENST00000348564'],\n",
    "}\n",
    "\n",
    "# kept_edge_types = {'c', '=', 'k', 'm', 'n', 'j'}\n",
    "kept_edge_types = {'c', '=', 'k', 'm', 'n', 'j'}"
   ]
  },
  {
   "cell_type": "code",
   "execution_count": null,
   "metadata": {},
   "outputs": [],
   "source": [
    "teq_pd"
   ]
  },
  {
   "cell_type": "code",
   "execution_count": null,
   "metadata": {},
   "outputs": [],
   "source": [
    "teq_list = adata_long_raw.var[\n",
    "    adata_long_raw.var['gene_names'] == gene_name]['transcript_eq_classes'].values.astype(int)\n",
    "\n",
    "print(f'Number of transcript equivalence classes associated with {gene_name} gene: {len(teq_list)}')"
   ]
  },
  {
   "cell_type": "code",
   "execution_count": null,
   "metadata": {},
   "outputs": [],
   "source": [
    "from collections import defaultdict\n",
    "isoform_name_to_teq_id_map = defaultdict(list)\n",
    "\n",
    "n_no_hits = 0\n",
    "n_multi_hits = 0\n",
    "n_single_hits = 0\n",
    "\n",
    "for teq_id in teq_list:\n",
    "    assignment_desc = teq_pd.loc[teq_id].Transcript_Assignments\n",
    "    assignment_tokens = assignment_desc.split(',')\n",
    "\n",
    "    # get rid of the version\n",
    "    annot_ids = [assignment_token.split(';')[0].split('.')[0] for assignment_token in assignment_tokens]\n",
    "    annot_edge_types = [assignment_token.split(';')[1] for assignment_token in assignment_tokens]\n",
    "    \n",
    "    # determine which ensembl annotated isoforms are involved \n",
    "    isoform_name_hits = set()\n",
    "    for isoform_name, ensembl_isoform_id_list in ensembl_map.items():\n",
    "        for ensembl_isoform_id in ensembl_isoform_id_list:\n",
    "            for annot_id, annot_edge_type in zip(annot_ids, annot_edge_types):\n",
    "                if annot_id == ensembl_isoform_id and (len(kept_edge_types) == 0 or annot_edge_type in kept_edge_types):\n",
    "                    isoform_name_hits.add(isoform_name)\n",
    "                    \n",
    "    if len(isoform_name_hits) == 0:\n",
    "        n_no_hits += 1\n",
    "        isoform_name_to_teq_id_map['CD45__UNASSIGNED'].append(teq_id)\n",
    "    elif len(isoform_name_hits) > 1:\n",
    "        n_multi_hits += 1\n",
    "        isoform_name_to_teq_id_map['CD45__UNASSIGNED'].append(teq_id)\n",
    "    else:\n",
    "        n_single_hits += 1\n",
    "        isoform_name = next(iter(isoform_name_hits))\n",
    "        isoform_name_to_teq_id_map[isoform_name].append(teq_id)\n",
    "        \n",
    "print(f'Number of {gene_name} equivalence classes with no ENSEMBL hit: {n_no_hits}')\n",
    "print(f'Number of {gene_name} equivalence classes with multiple ENSEMBL hits: {n_multi_hits}')\n",
    "print(f'Number of {gene_name} equivalence classes with a single confident ENSEMBL hit: {n_single_hits}')"
   ]
  },
  {
   "cell_type": "code",
   "execution_count": null,
   "metadata": {},
   "outputs": [],
   "source": [
    "for isoform_name, teq_indices in isoform_name_to_teq_id_map.items():\n",
    "    print(isoform_name)\n",
    "    for teq_index in teq_indices:\n",
    "        print(\"    \" + teq_pd.loc[teq_index].Transcript_Assignments)"
   ]
  },
  {
   "cell_type": "code",
   "execution_count": null,
   "metadata": {},
   "outputs": [],
   "source": [
    "import scipy.sparse as sp\n",
    "\n",
    "# aggregate counts\n",
    "aggr_X_list = []\n",
    "for isoform_name, teq_ids in isoform_name_to_teq_id_map.items():\n",
    "    var_mask = adata_long_raw.var['transcript_eq_classes'].astype(int).isin(teq_ids)\n",
    "    aggr_X = np.asarray(adata_long_raw[:, var_mask].X.sum(-1)).flatten()\n",
    "    aggr_X_list.append(aggr_X)\n",
    "\n",
    "aggr_X_stack = sp.csr_matrix(np.vstack(aggr_X_list).T)\n",
    "print(f'aggr_X_stack shape: {aggr_X_stack.shape}')"
   ]
  },
  {
   "cell_type": "code",
   "execution_count": null,
   "metadata": {},
   "outputs": [],
   "source": [
    "# make an AnnData\n",
    "adata_barcodes = adata_long_raw.obs.index.values\n",
    "barcode_to_adata_row_idx = {barcode: row_idx for row_idx, barcode in enumerate(adata_barcodes)}\n",
    "\n",
    "prefix = 'aggr__'\n",
    "adata_isoform_names_list = [prefix + isoform_name for isoform_name in isoform_name_to_teq_id_map.keys()]\n",
    "new_var = pd.DataFrame(\n",
    "    dict(\n",
    "        transcript_eq_classes=adata_isoform_names_list,\n",
    "        gene_eq_classes=[gene_id] * len(adata_isoform_names_list), \n",
    "        transcript_ids=adata_isoform_names_list, \n",
    "        gene_ids=[gene_id] * len(adata_isoform_names_list),\n",
    "        gene_names=[gene_name] * len(adata_isoform_names_list),\n",
    "        is_de_novo=[False] * len(adata_isoform_names_list),\n",
    "        is_gene_id_ambiguous=[False] * len(adata_isoform_names_list),\n",
    "        is_tcr_overlapping=[False] * len(adata_isoform_names_list)),\n",
    "    index=adata_isoform_names_list)\n",
    "\n",
    "new_adata = sc.AnnData(\n",
    "    X=aggr_X_stack,\n",
    "    var=new_var)\n",
    "\n",
    "new_adata.obs.index = adata_long_raw.obs.index"
   ]
  },
  {
   "cell_type": "code",
   "execution_count": null,
   "metadata": {},
   "outputs": [],
   "source": [
    "new_adata"
   ]
  },
  {
   "cell_type": "code",
   "execution_count": null,
   "metadata": {},
   "outputs": [],
   "source": [
    "ext_adata_long_raw = extend_adata(adata_long_raw, new_adata)"
   ]
  },
  {
   "cell_type": "code",
   "execution_count": null,
   "metadata": {},
   "outputs": [],
   "source": [
    "ext_adata_long_raw.var"
   ]
  },
  {
   "cell_type": "code",
   "execution_count": null,
   "metadata": {},
   "outputs": [],
   "source": [
    "# ... or select isoforms manually\n",
    "transcript_eq_classes = [\n",
    "    'aggr__CD45RO',\n",
    "    'aggr__CD45RBC',\n",
    "    'aggr__CD45RAB',\n",
    "    'aggr__CD45RABC',\n",
    "    'aggr__CD45RB',\n",
    "    'aggr__CD45__UNASSIGNED',\n",
    "]\n",
    "\n",
    "transcript_names_in_fig = [\n",
    "    'CD45RO',\n",
    "    'CD45RBC',\n",
    "    'CD45RAB',\n",
    "    'CD45RABC',\n",
    "    'CD45RB',\n",
    "    'Unassigned'\n",
    "]\n",
    "\n",
    "# genes to show total expression alongside the isoforms\n",
    "gene_names = [\n",
    "    'HNRNPLL',\n",
    "]"
   ]
  },
  {
   "cell_type": "code",
   "execution_count": null,
   "metadata": {},
   "outputs": [],
   "source": [
    "def plot_embedding_leiden(\n",
    "        adata: sc.AnnData,\n",
    "        embedding_key: str,\n",
    "        leiden_key: str,\n",
    "        markersize=2,\n",
    "        alpha=0.75,\n",
    "        xlabel='UMAP1',\n",
    "        ylabel='UMAP2',\n",
    "        label_kwargs=dict(bbox=dict(boxstyle='round', facecolor='white', alpha=0.8)),\n",
    "        x_offset=dict(),\n",
    "        y_offset=dict(),\n",
    "        fig=None,\n",
    "        ax=None,\n",
    "        show_labels=True,\n",
    "        figsize=(3, 3)):\n",
    "    \n",
    "    if ax is None or fig is None:\n",
    "        fig, ax = plt.subplots(figsize=figsize)\n",
    "\n",
    "    leiden_color_key = f'{leiden_key}_colors'\n",
    "    assert leiden_color_key in set(adata.uns.keys())\n",
    "\n",
    "    leiden_category_to_leiden_color_map = {\n",
    "        leiden_category: leiden_color\n",
    "        for leiden_color, leiden_category in zip(\n",
    "            adata.uns[leiden_color_key],\n",
    "            adata.obs[leiden_key].values.categories)}\n",
    "    cell_color_list = list(\n",
    "        map(leiden_category_to_leiden_color_map.get, adata.obs[leiden_key]))\n",
    "\n",
    "    ax.scatter(\n",
    "        adata.obsm[embedding_key][:, 0],\n",
    "        adata.obsm[embedding_key][:, 1],\n",
    "        color=cell_color_list,\n",
    "        s=markersize,\n",
    "        alpha=alpha)\n",
    "\n",
    "    ax.set_xticks([])\n",
    "    ax.set_yticks([])\n",
    "\n",
    "    ax.set_xlabel(xlabel)\n",
    "    ax.set_ylabel(ylabel)\n",
    "\n",
    "    if show_labels:\n",
    "        for leiden_category in adata.obs[leiden_key].values.categories:\n",
    "            try:\n",
    "                dx = x_offset[leiden_category]\n",
    "                dy = y_offset[leiden_category]\n",
    "            except KeyError:\n",
    "                dx = 0\n",
    "                dy = 0\n",
    "            x_values = adata.obsm[embedding_key][adata.obs[leiden_key] == leiden_category, 0] + dx\n",
    "            y_values = adata.obsm[embedding_key][adata.obs[leiden_key] == leiden_category, 1] + dy\n",
    "            x_c, y_c = np.mean(x_values), np.mean(y_values)\n",
    "            ax.text(\n",
    "                x_c, y_c, leiden_category,\n",
    "                fontsize=8,\n",
    "                ha='center',\n",
    "                **label_kwargs)"
   ]
  },
  {
   "cell_type": "code",
   "execution_count": null,
   "metadata": {},
   "outputs": [],
   "source": [
    "def plot_embedding_continuous(\n",
    "        adata: sc.AnnData,\n",
    "        embedding_key: str,\n",
    "        values: np.ndarray,\n",
    "        cmap=plt.cm.Blues,\n",
    "        markersize=2,\n",
    "        alpha=0.75,\n",
    "        xlabel='UMAP1',\n",
    "        ylabel='UMAP2',\n",
    "        fig=None,\n",
    "        ax=None,\n",
    "        sort=True,\n",
    "        figsize=(3, 3),\n",
    "        **kwargs):\n",
    "    \n",
    "    if ax is None or fig is None:\n",
    "        fig, ax = plt.subplots(figsize=figsize)\n",
    "\n",
    "    if sort:\n",
    "        order = np.argsort(values)\n",
    "    else:\n",
    "        order = np.arange(len(values))\n",
    "    scatter = ax.scatter(\n",
    "        adata.obsm[embedding_key][order, 0],\n",
    "        adata.obsm[embedding_key][order, 1],\n",
    "        c=values[order],\n",
    "        cmap=cmap,\n",
    "        s=markersize,\n",
    "        alpha=alpha,\n",
    "        **kwargs)\n",
    "\n",
    "    ax.set_xticks([])\n",
    "    ax.set_yticks([])\n",
    "\n",
    "    ax.set_xlabel(xlabel)\n",
    "    ax.set_ylabel(ylabel)\n",
    "    \n",
    "    return scatter"
   ]
  },
  {
   "cell_type": "code",
   "execution_count": null,
   "metadata": {},
   "outputs": [],
   "source": [
    "import matplotlib\n",
    "\n",
    "highlight = '#ff0000'\n",
    "\n",
    "cmap = matplotlib.colors.LinearSegmentedColormap.from_list(\n",
    "    'test',\n",
    "    ['#dcdcdc', '#dcdcdc', highlight])\n",
    "\n",
    "cmap_1 = matplotlib.colors.LinearSegmentedColormap.from_list(\n",
    "    'test',\n",
    "    ['#dcdcdc', highlight])"
   ]
  },
  {
   "cell_type": "code",
   "execution_count": null,
   "metadata": {},
   "outputs": [],
   "source": [
    "from mpl_toolkits.axes_grid1 import make_axes_locatable\n",
    "\n",
    "fig, ax = plt.subplots(figsize=(3.3, 3))\n",
    "\n",
    "scatter = plot_embedding_continuous(\n",
    "    adata_long_raw,\n",
    "    'X_umap_SCT_short',\n",
    "    values=ext_adata_long_raw.obs['CD45_TotalSeqC'],\n",
    "    ax=ax,\n",
    "    cmap=cmap_1,\n",
    "    fig=fig)\n",
    "\n",
    "ax.set_title('CD45 Total [ab]')\n",
    "div = make_axes_locatable(ax)\n",
    "color_axis = div.append_axes(\"right\", size=\"5%\", pad=0.1)\n",
    "cbar = plt.colorbar(scatter, cax=color_axis)\n",
    "cbar.ax.tick_params(labelsize=12)\n",
    "\n",
    "plt.savefig('./output/M132TS__UMAP__AB__CD45TOTAL.pdf', bbox_inches=\"tight\")"
   ]
  },
  {
   "cell_type": "code",
   "execution_count": null,
   "metadata": {},
   "outputs": [],
   "source": [
    "from mpl_toolkits.axes_grid1 import make_axes_locatable\n",
    "\n",
    "fig, ax = plt.subplots(figsize=(3.3, 3))\n",
    "\n",
    "scatter = plot_embedding_continuous(\n",
    "    ext_adata_long_raw,\n",
    "    'X_umap_SCT_short',\n",
    "    values=adata_long_raw.obs['CD45RA_TotalSeqC'],\n",
    "    ax=ax,\n",
    "    cmap=cmap,\n",
    "    fig=fig)\n",
    "\n",
    "ax.set_title('CD45RA [ab]')\n",
    "div = make_axes_locatable(ax)\n",
    "color_axis = div.append_axes(\"right\", size=\"5%\", pad=0.1)\n",
    "cbar = plt.colorbar(scatter, cax=color_axis)\n",
    "cbar.ax.tick_params(labelsize=12)\n",
    "\n",
    "plt.savefig('./output/M132TS__UMAP__AB__CD45RA.pdf', bbox_inches=\"tight\")"
   ]
  },
  {
   "cell_type": "code",
   "execution_count": null,
   "metadata": {},
   "outputs": [],
   "source": [
    "from mpl_toolkits.axes_grid1 import make_axes_locatable\n",
    "\n",
    "fig, ax = plt.subplots(figsize=(3.3, 3))\n",
    "\n",
    "scatter = plot_embedding_continuous(\n",
    "    ext_adata_long_raw,\n",
    "    'X_umap_SCT_short',\n",
    "    values=adata_long_raw.obs['CD45RO_TotalSeqC'],\n",
    "    ax=ax,\n",
    "    cmap=cmap,\n",
    "    fig=fig)\n",
    "\n",
    "ax.set_title('CD45RO [ab]')\n",
    "div = make_axes_locatable(ax)\n",
    "color_axis = div.append_axes(\"right\", size=\"5%\", pad=0.1)\n",
    "cbar = plt.colorbar(scatter, cax=color_axis)\n",
    "cbar.ax.tick_params(labelsize=12)\n",
    "\n",
    "plt.savefig('./output/M132TS__UMAP__AB__CD45RO.pdf', bbox_inches=\"tight\")"
   ]
  },
  {
   "cell_type": "code",
   "execution_count": null,
   "metadata": {},
   "outputs": [],
   "source": [
    "for idx in range(len(transcript_eq_classes)):\n",
    "\n",
    "    transcript_eq_class = transcript_eq_classes[idx]\n",
    "    transcript_label = transcript_names_in_fig[idx]\n",
    "\n",
    "    fig, ax = plt.subplots(figsize=(3, 3))\n",
    "\n",
    "    adata_gray = ext_adata_long_raw.copy()\n",
    "    adata_gray.uns['mehrtash_leiden_colors'] = ['#dcdcdc'] * len(adata_gray.uns['mehrtash_leiden_colors'])\n",
    "\n",
    "    plot_embedding_leiden(\n",
    "        adata_gray,\n",
    "        'X_umap_SCT_short',\n",
    "        'mehrtash_leiden',\n",
    "        show_labels=False,\n",
    "        alpha=0.25,\n",
    "        ax=ax,\n",
    "        fig=fig\n",
    "    )\n",
    "\n",
    "    plot_embedding_leiden(\n",
    "        ext_adata_long_raw[np.asarray(ext_adata_long_raw[:, transcript_eq_class].X.todense()).flatten() > 0, :],\n",
    "        'X_umap_SCT_short',\n",
    "        'mehrtash_leiden',\n",
    "        ax=ax,\n",
    "        fig=fig,\n",
    "        markersize=2,\n",
    "        show_labels=False)\n",
    "\n",
    "    ax.set_title(transcript_label)\n",
    "\n",
    "    plt.savefig(f'./output/M132TS__UMAP__CD45__mRNA__{transcript_label}.pdf', bbox_inches=\"tight\")"
   ]
  },
  {
   "cell_type": "code",
   "execution_count": null,
   "metadata": {},
   "outputs": [],
   "source": [
    "adata_long_norm = ext_adata_long_raw.copy()\n",
    "sc.pp.log1p(adata_long_norm)"
   ]
  },
  {
   "cell_type": "code",
   "execution_count": null,
   "metadata": {},
   "outputs": [],
   "source": [
    "values = np.asarray(\n",
    "    adata_long_norm[:, adata_long_norm.var['gene_names'] == 'PTPRC'].X.sum(-1)).flatten()\n",
    "\n",
    "from mpl_toolkits.axes_grid1 import make_axes_locatable\n",
    "\n",
    "fig, ax = plt.subplots(figsize=(3.3, 3))\n",
    "\n",
    "scatter = plot_embedding_continuous(\n",
    "    adata_long_raw,\n",
    "    'X_umap_SCT_short',\n",
    "    values=values,\n",
    "    ax=ax,\n",
    "    vmin=-0.4,\n",
    "    vmax=2.5,\n",
    "    cmap=plt.cm.Purples,\n",
    "    fig=fig)\n",
    "\n",
    "ax.set_title('CD45 Total [ab]')\n",
    "div = make_axes_locatable(ax)\n",
    "color_axis = div.append_axes(\"right\", size=\"5%\", pad=0.1)\n",
    "cbar = plt.colorbar(scatter, cax=color_axis)\n",
    "cbar.ax.tick_params(labelsize=12)\n",
    "\n",
    "plt.savefig('./output/M132TS__UMAP__CD45__mRNA__TOTAL.pdf', bbox_inches=\"tight\")"
   ]
  },
  {
   "cell_type": "markdown",
   "metadata": {},
   "source": [
    "# Plot interesting genes"
   ]
  },
  {
   "cell_type": "code",
   "execution_count": null,
   "metadata": {},
   "outputs": [],
   "source": [
    "final_short_adata_sct_h5_path = os.path.join(repo_root, output_path, f'{input_prefix}.short.stringtie.final.sct.h5ad')\n",
    "adata_short_sct = sc.read_h5ad(final_short_adata_sct_h5_path)"
   ]
  },
  {
   "cell_type": "code",
   "execution_count": null,
   "metadata": {},
   "outputs": [],
   "source": [
    "from mpl_toolkits.axes_grid1 import make_axes_locatable\n",
    "\n",
    "fig, ax = plt.subplots(figsize=(3.3, 3))\n",
    "\n",
    "gene_name = 'PTPRC'\n",
    "\n",
    "highlight = '#ff0000'\n",
    "\n",
    "cmap = matplotlib.colors.LinearSegmentedColormap.from_list(\n",
    "    'test',\n",
    "    ['#dcdcdc', highlight])\n",
    "\n",
    "scatter = plot_embedding_continuous(\n",
    "    adata_short_sct,\n",
    "    'X_umap_SCT_short',\n",
    "    values=adata_short_sct[:, adata_short_sct.var.index == gene_name].X.flatten(),\n",
    "    ax=ax,\n",
    "    cmap=cmap,\n",
    "    vmin=0,\n",
    "    vmax=3,\n",
    "    fig=fig)\n",
    "\n",
    "ax.set_title(gene_name)\n",
    "div = make_axes_locatable(ax)\n",
    "color_axis = div.append_axes(\"right\", size=\"5%\", pad=0.1)\n",
    "cbar = plt.colorbar(scatter, cax=color_axis)\n",
    "cbar.ax.tick_params(labelsize=12)\n",
    "\n",
    "plt.savefig(f'./output/M132TS__UMAP__GEX__{gene_name}.pdf', bbox_inches=\"tight\")"
   ]
  },
  {
   "cell_type": "markdown",
   "metadata": {},
   "source": [
    "## Save the extended adata object (with aggregated PTPRC counts)"
   ]
  },
  {
   "cell_type": "code",
   "execution_count": null,
   "metadata": {},
   "outputs": [],
   "source": [
    "final_long_adata_raw_ext_h5_path = os.path.join(repo_root, output_path, f'{input_prefix}.long.stringtie.final.raw.ext.h5ad')\n",
    "ext_adata_long_raw.write(final_long_adata_raw_ext_h5_path)"
   ]
  },
  {
   "cell_type": "code",
   "execution_count": null,
   "metadata": {},
   "outputs": [],
   "source": [
    "ext_adata_long_raw.var"
   ]
  },
  {
   "cell_type": "code",
   "execution_count": null,
   "metadata": {},
   "outputs": [],
   "source": []
  },
  {
   "cell_type": "code",
   "execution_count": null,
   "metadata": {},
   "outputs": [],
   "source": []
  },
  {
   "cell_type": "code",
   "execution_count": null,
   "metadata": {},
   "outputs": [],
   "source": []
  },
  {
   "cell_type": "code",
   "execution_count": null,
   "metadata": {},
   "outputs": [],
   "source": []
  },
  {
   "cell_type": "code",
   "execution_count": null,
   "metadata": {},
   "outputs": [],
   "source": []
  },
  {
   "cell_type": "code",
   "execution_count": null,
   "metadata": {},
   "outputs": [],
   "source": []
  }
 ],
 "metadata": {
  "environment": {
   "name": "pytorch-gpu.1-7.m65",
   "type": "gcloud",
   "uri": "gcr.io/deeplearning-platform-release/pytorch-gpu.1-7:m65"
  },
  "kernelspec": {
   "display_name": "Python 3",
   "language": "python",
   "name": "python3"
  },
  "language_info": {
   "codemirror_mode": {
    "name": "ipython",
    "version": 3
   },
   "file_extension": ".py",
   "mimetype": "text/x-python",
   "name": "python",
   "nbconvert_exporter": "python",
   "pygments_lexer": "ipython3",
   "version": "3.7.10"
  }
 },
 "nbformat": 4,
 "nbformat_minor": 4
}
