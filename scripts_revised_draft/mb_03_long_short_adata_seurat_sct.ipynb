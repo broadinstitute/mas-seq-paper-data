{
 "cells": [
  {
   "cell_type": "code",
   "execution_count": null,
   "id": "separate-peace",
   "metadata": {},
   "outputs": [],
   "source": [
    "library(Seurat)\n",
    "library(SeuratData)\n",
    "library(SeuratDisk)\n",
    "library(anndata)\n",
    "library(ggplot2)\n",
    "library(sctransform)\n",
    "library(Matrix)"
   ]
  },
  {
   "cell_type": "code",
   "execution_count": null,
   "id": "crude-visiting",
   "metadata": {},
   "outputs": [],
   "source": [
    "setAs(\"dgRMatrix\", to = \"dgCMatrix\", function(from){\n",
    "  as(as(from, \"CsparseMatrix\"), \"dgCMatrix\")\n",
    "})"
   ]
  },
  {
   "cell_type": "code",
   "execution_count": null,
   "id": "popular-lotus",
   "metadata": {},
   "outputs": [],
   "source": [
    "# the following variables must be set accordingly\n",
    "seurat_input_adata_path <- \"/home/jupyter/mb-ml-data-disk/MAS-seq-analysis/output/t-cell-vdj-cite-seq/\"\n",
    "seurat_output_adata_path <- \"/home/jupyter/mb-ml-data-disk/MAS-seq-analysis/output/t-cell-vdj-cite-seq/\""
   ]
  },
  {
   "cell_type": "code",
   "execution_count": null,
   "id": "featured-collection",
   "metadata": {},
   "outputs": [],
   "source": [
    "# sctransform of long-reads data\n",
    "input_h5ad_path <- paste(seurat_input_adata_path, \"M132TS_immune.revised_v2.harmonized.long.stringtie.seurat_input.h5ad\", sep = \"\")\n",
    "output_h5seurat_path <- paste(seurat_output_adata_path, \"M132TS_immune.revised_v2.harmonized.long.stringtie.seurat_output.no_mt_pct_regression.h5seurat\", sep = \"\")\n",
    "\n",
    "m132ts_long_ad <- read_h5ad(input_h5ad_path)\n",
    "m132ts_long <- CreateSeuratObject(counts = t(m132ts_long_ad$X))\n",
    "\n",
    "# m132ts_long <- LoadH5Seurat(input_h5seurat_path, meta.data = FALSE, misc = FALSE)\n",
    "# m132ts_long$nCount_RNA <- colSums(x = m132ts_long, slot = \"counts\")\n",
    "# m132ts_long@assays[[\"RNA\"]]@meta.features[[\"is_mito\"]] <- grepl(\"^MT-|MTRNR\", m132ts_long@assays[[\"RNA\"]]@meta.features[[\"gene_names\"]])\n",
    "# m132ts_long <- PercentageFeatureSet(m132ts_long, features = rownames(m132ts_long@assays[[\"RNA\"]])[m132ts_long@assays[[\"RNA\"]]@meta.features[[\"is_mito\"]]], col.name = \"percent.mt\")\n",
    "\n",
    "m132ts_long <- SCTransform(m132ts_long, verbose = TRUE, return.only.var.genes = FALSE, variable.features.n = 3000, ncells = NULL, n_genes = 10000)\n",
    "m132ts_long <- RunPCA(m132ts_long, verbose = TRUE)\n",
    "m132ts_long <- RunUMAP(m132ts_long, dims = 1:30, verbose = TRUE)\n",
    "m132ts_long <- FindNeighbors(m132ts_long, dims = 1:30, verbose = TRUE)\n",
    "m132ts_long <- FindClusters(m132ts_long, verbose = TRUE)\n",
    "DimPlot(object = m132ts_long, reduction = \"umap\")\n",
    "\n",
    "SaveH5Seurat(m132ts_long, filename = output_h5seurat_path)\n",
    "Convert(output_h5seurat_path, dest = \"h5ad\")"
   ]
  },
  {
   "cell_type": "markdown",
   "id": "curious-equilibrium",
   "metadata": {},
   "source": [
    "## Short"
   ]
  },
  {
   "cell_type": "code",
   "execution_count": null,
   "id": "formed-investment",
   "metadata": {},
   "outputs": [],
   "source": [
    "# sctransform of short-reads data\n",
    "input_h5ad_path <- paste(seurat_input_adata_path, \"M132TS_immune.revised_v2.harmonized.short.stringtie.seurat_input.h5ad\", sep = \"\")\n",
    "output_h5seurat_path <- paste(seurat_output_adata_path, \"M132TS_immune.revised_v2.harmonized.short.stringtie.seurat_output.no_mt_pct_regression.h5seurat\", sep = \"\")\n",
    "\n",
    "m132ts_short_ad <- read_h5ad(input_h5ad_path)\n",
    "m132ts_short <- CreateSeuratObject(counts = t(m132ts_short_ad$X))\n",
    "\n",
    "# Convert(input_h5ad_path, dest = \"h5seurat\", overwrite = TRUE)\n",
    "# m132ts_short <- LoadH5Seurat(input_h5seurat_path)\n",
    "# m132ts_short$nCount_RNA <- colSums(x = m132ts_short, slot = \"counts\")\n",
    "# m132ts_short <- PercentageFeatureSet(m132ts_short, pattern = \"^MT-|MTRNR\", col.name = \"percent.mt\")\n",
    "\n",
    "m132ts_short <- SCTransform(m132ts_short, verbose = TRUE, return.only.var.genes = FALSE, variable.features.n = 3000, ncells = NULL, n_genes = 10000)\n",
    "m132ts_short <- RunPCA(m132ts_short, verbose = TRUE)\n",
    "m132ts_short <- RunUMAP(m132ts_short, dims = 1:30, verbose = TRUE)\n",
    "m132ts_short <- FindNeighbors(m132ts_short, dims = 1:30, verbose = TRUE)\n",
    "m132ts_short <- FindClusters(m132ts_short, verbose = TRUE)\n",
    "DimPlot(object = m132ts_short, reduction = \"umap\")\n",
    "\n",
    "SaveH5Seurat(m132ts_short, filename = output_h5seurat_path)\n",
    "Convert(output_h5seurat_path, dest = \"h5ad\")"
   ]
  },
  {
   "cell_type": "code",
   "execution_count": null,
   "id": "dirty-aggregate",
   "metadata": {},
   "outputs": [],
   "source": []
  }
 ],
 "metadata": {
  "environment": {
   "name": "pytorch-gpu.1-7.m65",
   "type": "gcloud",
   "uri": "gcr.io/deeplearning-platform-release/pytorch-gpu.1-7:m65"
  },
  "kernelspec": {
   "display_name": "R",
   "language": "R",
   "name": "ir"
  },
  "language_info": {
   "codemirror_mode": "r",
   "file_extension": ".r",
   "mimetype": "text/x-r-source",
   "name": "R",
   "pygments_lexer": "r",
   "version": "4.1.3"
  }
 },
 "nbformat": 4,
 "nbformat_minor": 5
}
