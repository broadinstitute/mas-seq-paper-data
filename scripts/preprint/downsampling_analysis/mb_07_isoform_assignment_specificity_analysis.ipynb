{
 "cells": [
  {
   "cell_type": "markdown",
   "metadata": {},
   "source": [
    "## PTPRC isoform assignment specificity analysis\n",
    "\n",
    "GENCODE v37 vs. StringTie vs. manual (decision tree)"
   ]
  },
  {
   "cell_type": "code",
   "execution_count": 154,
   "metadata": {},
   "outputs": [],
   "source": [
    "# %matplotlib inline\n",
    "\n",
    "import os\n",
    "import sys\n",
    "import matplotlib.pylab as plt\n",
    "import matplotlib as mpl\n",
    "import numpy as np\n",
    "import pandas as pd\n",
    "import logging\n",
    "from operator import itemgetter\n",
    "\n",
    "import scanpy as sc\n",
    "import anndata\n",
    "from umap import UMAP\n",
    "\n",
    "SMALL_SIZE = 12\n",
    "MEDIUM_SIZE = 14\n",
    "BIGGER_SIZE = 16\n",
    "\n",
    "plt.rc('font', size=SMALL_SIZE)          # controls default text sizes\n",
    "plt.rc('axes', titlesize=SMALL_SIZE)     # fontsize of the axes title\n",
    "plt.rc('axes', labelsize=MEDIUM_SIZE)    # fontsize of the x and y labels\n",
    "plt.rc('xtick', labelsize=SMALL_SIZE)    # fontsize of the tick labels\n",
    "plt.rc('ytick', labelsize=SMALL_SIZE)    # fontsize of the tick labels\n",
    "plt.rc('legend', fontsize=SMALL_SIZE)    # legend fontsize\n",
    "plt.rc('figure', titlesize=BIGGER_SIZE)  # fontsize of the figure title\n",
    "\n",
    "logger = logging.getLogger()\n",
    "logger.setLevel(logging.INFO)\n",
    "log_info = logger.warning\n",
    "\n",
    "import warnings\n",
    "warnings.filterwarnings(\"ignore\")\n",
    "plt.rcParams['figure.facecolor'] = 'white'"
   ]
  },
  {
   "cell_type": "code",
   "execution_count": 155,
   "metadata": {},
   "outputs": [],
   "source": [
    "# load sample metadata\n",
    "import yaml\n",
    "\n",
    "with open('./downsampling_series_sample_metadata.yaml', 'r') as f:\n",
    "    sample_meta_dict = yaml.safe_load(f)    "
   ]
  },
  {
   "cell_type": "code",
   "execution_count": 156,
   "metadata": {},
   "outputs": [],
   "source": [
    "repo_root = '/home/jupyter/mb-ml-data-disk/MAS-seq-analysis'\n",
    "long_tx_counts_root ='data/t-cell-vdj/long/quant/ds'\n",
    "short_h5_path = 'output/t-cell-vdj-cite-seq/M132TS_immune.h5ad'\n",
    "output_root = 'output/t-cell-vdj-cite-seq/ds'\n",
    "fig_output_root = 'output/t-cell-vdj-cite-seq/ds/figures'\n",
    "misc_output_root = 'output/t-cell-vdj-cite-seq/ds/misc'\n",
    "output_prefix = 'M132TS_immune'\n",
    "\n",
    "# constants\n",
    "GENE_IDS_KEY = 'gencode_overlap_gene_ids'\n",
    "GENE_NAMES_KEY = 'gencode_overlap_gene_names'"
   ]
  },
  {
   "cell_type": "code",
   "execution_count": 177,
   "metadata": {},
   "outputs": [],
   "source": [
    "isoform_names = [\n",
    "    'CD45RABC',\n",
    "    'CD45RO',\n",
    "    'CD45RB',\n",
    "    'CD45RBC',\n",
    "    'CD45RAB',\n",
    "]\n",
    "\n",
    "leiden_ids = [\n",
    "    'SMC',\n",
    "    'EA',\n",
    "    'A IV',\n",
    "    'A I',\n",
    "    'A II',\n",
    "    'E',\n",
    "    'A III',\n",
    "    'P',\n",
    "]\n",
    "\n",
    "leiden_ids_in_plot = [\n",
    "    'SMC',\n",
    "    'EA I',\n",
    "    'A/EA',\n",
    "    'EA II',\n",
    "    'CE',\n",
    "    'TD I',\n",
    "    'TD II',\n",
    "    'P',\n",
    "]"
   ]
  },
  {
   "cell_type": "markdown",
   "metadata": {},
   "source": [
    "## StringTie"
   ]
  },
  {
   "cell_type": "code",
   "execution_count": 178,
   "metadata": {},
   "outputs": [],
   "source": [
    "sample_key = 'gencode_st2_ds_masseq'\n",
    "\n",
    "output_prefix_full = f'{output_prefix}_{sample_key}'\n",
    "\n",
    "final_long_adata_raw_h5_path = os.path.join(\n",
    "    repo_root, output_root, f'{output_prefix_full}_final_long_raw.h5ad')\n",
    "\n",
    "adata_long_raw = sc.read(os.path.join(repo_root, final_long_adata_raw_h5_path))\n",
    "transcript_names = adata_long_raw[:, adata_long_raw.var[GENE_NAMES_KEY] == 'PTPRC'].var.index.values\n",
    "transcript_ids = adata_long_raw[:, adata_long_raw.var[GENE_NAMES_KEY] == 'PTPRC'].var['de_novo_transcript_ids'].values\n",
    "\n",
    "transcript_id_to_isoform_map = {\n",
    "    'STRG.8581.7': 'CD45RBC',\n",
    "    'STRG.8581.6': 'CD45RB',\n",
    "    'STRG.8581.5': 'CD45RO',\n",
    "    'STRG.8581.4': 'CD45RO',\n",
    "    'STRG.8581.3': 'CD45RO',\n",
    "    'STRG.8581.2': 'CD45RB',\n",
    "    'STRG.8581.13': 'CD45RABC',\n",
    "    'STRG.8581.12': 'CD45RAB',\n",
    "    'STRG.8581.10': 'CD45RO',\n",
    "    'STRG.8581.1': 'CD45RO'\n",
    "}\n",
    "\n",
    "quant_type = 'st2'"
   ]
  },
  {
   "cell_type": "markdown",
   "metadata": {},
   "source": [
    "## GENCODE"
   ]
  },
  {
   "cell_type": "code",
   "execution_count": 183,
   "metadata": {},
   "outputs": [],
   "source": [
    "sample_key = 'gencode_masseq'\n",
    "\n",
    "output_prefix_full = f'{output_prefix}_{sample_key}'\n",
    "\n",
    "final_long_adata_raw_h5_path = os.path.join(\n",
    "    repo_root, output_root, f'{output_prefix_full}_final_long_raw.h5ad')\n",
    "\n",
    "adata_long_raw = sc.read(os.path.join(repo_root, final_long_adata_raw_h5_path))\n",
    "transcript_names = adata_long_raw[:, adata_long_raw.var[GENE_NAMES_KEY] == 'PTPRC'].var.index.values\n",
    "transcript_ids = adata_long_raw[:, adata_long_raw.var[GENE_NAMES_KEY] == 'PTPRC'].var['transcript_ids'].values\n",
    "\n",
    "transcript_id_to_isoform_map = {\n",
    "    'ENST00000643513.1': 'CD45RB',\n",
    "    'ENST00000530727.5': 'CD45RB',\n",
    "    'ENST00000529828.5': 'CD45RAB',\n",
    "    'ENST00000442510.8': 'CD45RABC',\n",
    "    'ENST00000427110.6': 'CD45RB',\n",
    "    'ENST00000418674.1': 'CD45RB',\n",
    "    'ENST00000391970.3': 'CD45RBC',\n",
    "    'ENST00000367379.6': 'CD45RO',\n",
    "    'ENST00000367367.8': 'CD45RBC',\n",
    "    'ENST00000348564.11': 'CD45RO'\n",
    "}\n",
    "\n",
    "quant_type = 'gencode'"
   ]
  },
  {
   "cell_type": "markdown",
   "metadata": {},
   "source": [
    "## Manual"
   ]
  },
  {
   "cell_type": "code",
   "execution_count": 168,
   "metadata": {},
   "outputs": [
    {
     "name": "stderr",
     "output_type": "stream",
     "text": [
      "WARNING: Your filename has more than two extensions: ['.v4', '.harmonized', '.long', '.stringtie', '.final', '.raw', '.h5ad'].\n",
      "Only considering the two last: ['.raw', '.h5ad'].\n",
      "WARNING: Your filename has more than two extensions: ['.v4', '.harmonized', '.long', '.stringtie', '.final', '.raw', '.h5ad'].\n",
      "Only considering the two last: ['.raw', '.h5ad'].\n",
      "Adding manual isoform annotations from /home/jupyter/mb-ml-data-disk/MAS-seq-analysis/output/t-cell-vdj-cite-seq/manual_annotations/adata_long_manual__PTPRC.h5ad ...\n"
     ]
    }
   ],
   "source": [
    "import os\n",
    "import sys\n",
    "sys.path.insert(0, '/home/jupyter/mb-ml-dev-disk/MAS-seq-analysis/sources')\n",
    "\n",
    "from adata_utils import extend_adata\n",
    "\n",
    "# inputs\n",
    "input_prefix = 'M132TS_immune.v4.harmonized'\n",
    "output_path = 'output/t-cell-vdj-cite-seq'\n",
    "\n",
    "final_long_adata_raw_h5_path = os.path.join(repo_root, output_path, f'{input_prefix}.long.stringtie.final.raw.h5ad')\n",
    "\n",
    "# manual isoform annotation quant\n",
    "manual_adata_long_annotation_quants_path = os.path.join(repo_root, 'output/t-cell-vdj-cite-seq/manual_annotations')\n",
    "\n",
    "adata_long_raw = sc.read(final_long_adata_raw_h5_path)\n",
    "\n",
    "# extend adata with manual annotations\n",
    "for dirname, _, filenames in os.walk(manual_adata_long_annotation_quants_path):\n",
    "    for filename in filenames:\n",
    "        manual_adata_long_path = os.path.join(dirname, filename)\n",
    "        log_info(f'Adding manual isoform annotations from {manual_adata_long_path} ...')\n",
    "        if manual_adata_long_path.split('.')[-1] != 'h5ad':\n",
    "            continue\n",
    "        manual_adata_long = sc.read(manual_adata_long_path)\n",
    "        adata_long_raw = extend_adata(adata_long_raw, manual_adata_long)\n",
    "adata_long_raw.X = adata_long_raw.X.tocsr()\n",
    "\n",
    "transcript_names = adata_long_raw[:, adata_long_raw.var['gene_names'] == 'manual__PTPRC'].var.index.values\n",
    "transcript_ids = adata_long_raw[:, adata_long_raw.var['gene_names'] == 'manual__PTPRC'].var.index.values\n",
    "\n",
    "transcript_id_to_isoform_map = {\n",
    "    'manual__PTPRC_O': 'CD45RO',\n",
    "    'manual__PTPRC_B': 'CD45RB',\n",
    "    'manual__PTPRC_AB': 'CD45RAB',\n",
    "    'manual__PTPRC_BC': 'CD45RBC',\n",
    "    'manual__PTPRC_ABC': 'CD45RABC',\n",
    "}\n",
    "\n",
    "quant_type = 'manual'"
   ]
  },
  {
   "cell_type": "code",
   "execution_count": 184,
   "metadata": {},
   "outputs": [],
   "source": [
    "isoform_name_to_isoform_idx_map = {\n",
    "    isoform_name: isoform_idx\n",
    "    for isoform_idx, isoform_name in enumerate(isoform_names)\n",
    "}\n",
    "\n",
    "leiden_id_to_leiden_idx_map = {\n",
    "    leiden_id: leiden_idx\n",
    "    for leiden_idx, leiden_id in enumerate(leiden_ids)\n",
    "}\n",
    "\n",
    "transcript_id_to_transcript_idx_map = {\n",
    "    transcript_id: transcript_idx for transcript_idx, transcript_id in enumerate(transcript_ids)\n",
    "}\n",
    "\n",
    "cell_leiden_indices = np.asarray(\n",
    "    list(map(leiden_id_to_leiden_idx_map.get, adata_long_raw.obs['mehrtash_leiden'].values)))\n",
    "\n",
    "n_leiden = len(leiden_ids)\n",
    "n_isoforms = len(isoform_names)\n",
    "counts_li = np.zeros((n_leiden, n_isoforms))\n",
    "unassigned_counts_l = np.zeros((n_leiden,))\n",
    "total_counts_l = np.zeros((n_leiden,))\n",
    "\n",
    "for leiden_idx in range(n_leiden):\n",
    "    x = np.asarray(adata_long_raw[cell_leiden_indices == leiden_idx][:, transcript_names].X.sum(0)).flatten()\n",
    "    unassigned = np.sum(x)\n",
    "    total_counts_l[leiden_idx] = np.sum(x)\n",
    "    for transcript_id, target_isoform_name in transcript_id_to_isoform_map.items():\n",
    "        isoform_idx = isoform_name_to_isoform_idx_map[target_isoform_name]\n",
    "        transcript_idx = transcript_id_to_transcript_idx_map[transcript_id]\n",
    "        counts_li[leiden_idx, isoform_idx] += x[transcript_idx]\n",
    "        unassigned -= x[transcript_idx]\n",
    "    unassigned_counts_l[leiden_idx] = unassigned\n",
    "    \n",
    "# normalize counts\n",
    "counts_li = counts_li / (1e-12 + np.sum(counts_li, -1)[:, None])\n",
    "cumsum_counts_li = np.cumsum(counts_li, axis=1)\n",
    "cumsum_counts_li = np.hstack((np.zeros((n_leiden, 1)), cumsum_counts_li))"
   ]
  },
  {
   "cell_type": "code",
   "execution_count": 185,
   "metadata": {},
   "outputs": [
    {
     "data": {
      "image/png": "[encoded data removed]",
      "text/plain": [
       "<Figure size 360x288 with 1 Axes>"
      ]
     },
     "metadata": {},
     "output_type": "display_data"
    }
   ],
   "source": [
    "import colorcet as cc\n",
    "\n",
    "fig, ax = plt.subplots(figsize=(5, 4))\n",
    "\n",
    "isoform_colors = [\n",
    "    cc.glasbey_bw_minc_20[7],\n",
    "    cc.glasbey_bw_minc_20[15],\n",
    "    cc.glasbey_bw_minc_20[4],\n",
    "    cc.glasbey_bw_minc_20[35],\n",
    "    cc.glasbey_bw_minc_20[28],\n",
    "]\n",
    "\n",
    "for isoform_idx in range(n_isoforms):\n",
    "    \n",
    "    try:\n",
    "        label = isoform_names[isoform_idx]\n",
    "    except:\n",
    "        label = 'Other'\n",
    "        \n",
    "    ax.bar(\n",
    "        np.arange(n_leiden),\n",
    "        height=100. * counts_li[:, isoform_idx],\n",
    "        bottom=100. * cumsum_counts_li[:, isoform_idx],\n",
    "        color=isoform_colors[isoform_idx],\n",
    "        label=label)\n",
    "        \n",
    "ax.set_ylim((0, 100.))\n",
    "ax.set_xticks(np.arange(n_leiden))\n",
    "ax.set_xticklabels(leiden_ids_in_plot, fontsize=10)\n",
    "ax.set_ylabel('Assigned Fraction (%)')\n",
    "ax.set_xlabel('Cell Type')\n",
    "\n",
    "# Shrink current axis by 20%\n",
    "box = ax.get_position()\n",
    "ax.set_position([box.x0, box.y0, box.width * 0.8, box.height])\n",
    "\n",
    "# Put a legend to the right of the current axis\n",
    "ax.legend(loc='center left', bbox_to_anchor=(1, 0.5))\n",
    "\n",
    "plt.savefig(f'./output/M132TS__stacked_bar__{quant_type}.pdf', bbox_inches='tight')"
   ]
  },
  {
   "cell_type": "code",
   "execution_count": 186,
   "metadata": {},
   "outputs": [
    {
     "data": {
      "image/png": "[encoded data removed]",
      "text/plain": [
       "<Figure size 36x288 with 1 Axes>"
      ]
     },
     "metadata": {},
     "output_type": "display_data"
    }
   ],
   "source": [
    "import colorcet as cc\n",
    "\n",
    "fig, ax = plt.subplots(figsize=(0.5, 4))\n",
    "\n",
    "# all queries aligning to the genome with MQ > 0\n",
    "TOTAL_COUNTS = 6394\n",
    "assigned_counts = np.sum(total_counts_l) - np.sum(unassigned_counts_l)\n",
    "assigned_fraction = assigned_counts / TOTAL_COUNTS\n",
    "\n",
    "assigned_color = cc.glasbey_bw_minc_20[50]\n",
    "unassigned_color = (0.7, 0.7, 0.7)\n",
    "        \n",
    "ax.bar(\n",
    "    np.arange(1),\n",
    "    height=100 * assigned_fraction,\n",
    "    color=assigned_color,\n",
    "    label=label)\n",
    "\n",
    "ax.bar(\n",
    "    np.arange(1),\n",
    "    height=100 * (1 - assigned_fraction),\n",
    "    bottom=100 * assigned_fraction,\n",
    "    color=unassigned_color,\n",
    "    label=label)\n",
    "        \n",
    "ax.set_ylim((0, 100.))\n",
    "ax.set_ylabel('Total assignment rate (%)')\n",
    "ax.set_xticks([])\n",
    "ax.set_xlim((-0.5, 0.5))\n",
    "\n",
    "plt.savefig(f'./output/M132TS__stacked_bar__{quant_type}__assignment_rate.pdf', bbox_inches='tight')"
   ]
  }
 ],
 "metadata": {
  "environment": {
   "name": "pytorch-gpu.1-7.m65",
   "type": "gcloud",
   "uri": "gcr.io/deeplearning-platform-release/pytorch-gpu.1-7:m65"
  },
  "kernelspec": {
   "display_name": "Python 3",
   "language": "python",
   "name": "python3"
  },
  "language_info": {
   "codemirror_mode": {
    "name": "ipython",
    "version": 3
   },
   "file_extension": ".py",
   "mimetype": "text/x-python",
   "name": "python",
   "nbconvert_exporter": "python",
   "pygments_lexer": "ipython3",
   "version": "3.7.10"
  }
 },
 "nbformat": 4,
 "nbformat_minor": 4
}
