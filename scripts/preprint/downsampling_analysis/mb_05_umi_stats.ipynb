{
 "cells": [
  {
   "cell_type": "markdown",
   "metadata": {},
   "source": [
    "## Extract UMI stats [M132TS Downsampling Analysis]\n",
    "\n",
    "Extracts the total number of UMIs (raw), immune component, and after all cell QC filtering from an AnnData in the downsampling series."
   ]
  },
  {
   "cell_type": "code",
   "execution_count": 2,
   "metadata": {},
   "outputs": [],
   "source": [
    "%matplotlib inline\n",
    "\n",
    "import os\n",
    "import sys\n",
    "import matplotlib.pylab as plt\n",
    "import numpy as np\n",
    "import pandas as pd\n",
    "import logging\n",
    "from operator import itemgetter\n",
    "\n",
    "import scanpy as sc\n",
    "import anndata\n",
    "\n",
    "SMALL_SIZE = 12\n",
    "MEDIUM_SIZE = 14\n",
    "BIGGER_SIZE = 16\n",
    "\n",
    "plt.rc('font', size=SMALL_SIZE)          # controls default text sizes\n",
    "plt.rc('axes', titlesize=SMALL_SIZE)     # fontsize of the axes title\n",
    "plt.rc('axes', labelsize=MEDIUM_SIZE)    # fontsize of the x and y labels\n",
    "plt.rc('xtick', labelsize=SMALL_SIZE)    # fontsize of the tick labels\n",
    "plt.rc('ytick', labelsize=SMALL_SIZE)    # fontsize of the tick labels\n",
    "plt.rc('legend', fontsize=SMALL_SIZE)    # legend fontsize\n",
    "plt.rc('figure', titlesize=BIGGER_SIZE)  # fontsize of the figure title\n",
    "\n",
    "logger = logging.getLogger()\n",
    "logger.setLevel(logging.INFO)\n",
    "log_info = logger.warning\n",
    "\n",
    "import warnings\n",
    "warnings.filterwarnings(\"ignore\")\n",
    "\n",
    "sc.settings.set_figure_params(dpi=80, facecolor='white')"
   ]
  },
  {
   "cell_type": "code",
   "execution_count": 3,
   "metadata": {},
   "outputs": [
    {
     "name": "stderr",
     "output_type": "stream",
     "text": [
      "Processing gencode_1m ...\n"
     ]
    }
   ],
   "source": [
    "# load sample metadata\n",
    "import yaml\n",
    "\n",
    "with open('./downsampling_series_sample_metadata.yaml', 'r') as f:\n",
    "    sample_meta_dict = yaml.safe_load(f)    \n",
    "\n",
    "notebook_mode = True\n",
    "\n",
    "if not notebook_mode:\n",
    "    sample_key = sys.argv[1]\n",
    "else:\n",
    "    sample_key = 'gencode_1m'\n",
    "    \n",
    "log_info(f'Processing {sample_key} ...')"
   ]
  },
  {
   "cell_type": "code",
   "execution_count": 4,
   "metadata": {},
   "outputs": [],
   "source": [
    "repo_root = '/home/jupyter/mb-ml-data-disk/MAS-seq-analysis'\n",
    "long_tx_counts_root ='data/t-cell-vdj/long/quant/ds'\n",
    "short_h5_path = 'output/t-cell-vdj-cite-seq/M132TS_immune.h5ad'\n",
    "output_root = 'output/t-cell-vdj-cite-seq/ds'\n",
    "fig_output_root = 'output/t-cell-vdj-cite-seq/ds/figures'\n",
    "misc_output_root = 'output/t-cell-vdj-cite-seq/ds/misc'\n",
    "\n",
    "output_prefix = 'M132TS_immune'\n",
    "\n",
    "ADATA_SHORT_GENE_IDS_COL = 'gene_ids'\n",
    "ADATA_LONG_GENE_IDS_COL = 'gencode_overlap_gene_ids'"
   ]
  },
  {
   "cell_type": "code",
   "execution_count": 5,
   "metadata": {},
   "outputs": [],
   "source": [
    "output_prefix_full = f'{output_prefix}_{sample_key}'\n",
    "\n",
    "raw_long_adata_h5_path = os.path.join(\n",
    "    repo_root, long_tx_counts_root, sample_meta_dict[sample_key])\n",
    "\n",
    "harmonized_long_adata_h5_path = os.path.join(\n",
    "    repo_root, output_root, f'{output_prefix_full}_harmonized_long.h5ad')\n",
    "\n",
    "final_long_adata_h5_path = os.path.join(\n",
    "    repo_root, output_root, f'{output_prefix_full}_final_long_raw.h5ad')"
   ]
  },
  {
   "cell_type": "code",
   "execution_count": 6,
   "metadata": {},
   "outputs": [],
   "source": [
    "adata_long_raw = sc.read(raw_long_adata_h5_path)\n",
    "adata_long_harmonized = sc.read(harmonized_long_adata_h5_path)\n",
    "adata_long_final = sc.read(final_long_adata_h5_path)"
   ]
  },
  {
   "cell_type": "code",
   "execution_count": 7,
   "metadata": {},
   "outputs": [],
   "source": [
    "# all UMIs\n",
    "n_umi_raw = int(adata_long_raw.X.sum())\n",
    "\n",
    "# subsetting to immune cells\n",
    "n_umi_harmonized = int(adata_long_harmonized.X.sum())\n",
    "\n",
    "# removing doublets and contamination clusters\n",
    "n_umi_final = int(adata_long_final.X.sum())"
   ]
  },
  {
   "cell_type": "code",
   "execution_count": 8,
   "metadata": {},
   "outputs": [],
   "source": [
    "with open(os.path.join(repo_root, misc_output_root, output_prefix_full + \"_n_umi_raw.txt\"), 'w') as f:\n",
    "    f.write(str(n_umi_raw) + '\\n')\n",
    "    \n",
    "with open(os.path.join(repo_root, misc_output_root, output_prefix_full + \"_n_umi_immune.txt\"), 'w') as f:\n",
    "    f.write(str(n_umi_harmonized) + '\\n')\n",
    "    \n",
    "with open(os.path.join(repo_root, misc_output_root, output_prefix_full + \"_n_umi_final.txt\"), 'w') as f:\n",
    "    f.write(str(n_umi_final) + '\\n')"
   ]
  },
  {
   "cell_type": "code",
   "execution_count": null,
   "metadata": {},
   "outputs": [],
   "source": []
  }
 ],
 "metadata": {
  "environment": {
   "name": "pytorch-gpu.1-7.m65",
   "type": "gcloud",
   "uri": "gcr.io/deeplearning-platform-release/pytorch-gpu.1-7:m65"
  },
  "kernelspec": {
   "display_name": "Python 3",
   "language": "python",
   "name": "python3"
  },
  "language_info": {
   "codemirror_mode": {
    "name": "ipython",
    "version": 3
   },
   "file_extension": ".py",
   "mimetype": "text/x-python",
   "name": "python",
   "nbconvert_exporter": "python",
   "pygments_lexer": "ipython3",
   "version": "3.7.10"
  }
 },
 "nbformat": 4,
 "nbformat_minor": 4
}
