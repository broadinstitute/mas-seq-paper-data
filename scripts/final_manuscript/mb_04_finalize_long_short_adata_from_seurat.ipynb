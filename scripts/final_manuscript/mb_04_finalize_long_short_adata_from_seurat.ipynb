{
 "cells": [
  {
   "cell_type": "markdown",
   "metadata": {},
   "source": [
    "## Finalize short and long harmonized AnnData after Seurat SCT for M132TS\n",
    "\n",
    "This notebooks takes the Seurat SCT output and previously harmonized long-reads and short-reads AnnData objects, performs a final round of filtering (e.g. doublet removal) clustering, and annotation, and outputs four analysis-ready AnnData outputs (short/long, raw/SCT)\n",
    "\n",
    "**Inputs and Outputs**\n",
    "- Inputs:\n",
    "  - harmonized long-reads and short-reads AnnData objects (raw counts, all genes)\n",
    "  - harmonized long-reads and short-reads AnnData objects (SCT counts, all genes) [from Seurat script]\n",
    "- Outputs:\n",
    "  - Four AnnData objects, each including the same cluster annotations and embeddings\n",
    "    - short raw\n",
    "    - short SCT\n",
    "    - long raw\n",
    "    - long SCT\n",
    "  - Figures"
   ]
  },
  {
   "cell_type": "code",
   "execution_count": null,
   "metadata": {},
   "outputs": [],
   "source": [
    "%matplotlib inline\n",
    "\n",
    "import matplotlib.pylab as plt\n",
    "\n",
    "import numpy as np\n",
    "import pandas as pd\n",
    "import os\n",
    "import sys\n",
    "from time import time\n",
    "import logging\n",
    "import pickle\n",
    "from operator import itemgetter\n",
    "\n",
    "import scanpy as sc\n",
    "\n",
    "SMALL_SIZE = 12\n",
    "MEDIUM_SIZE = 14\n",
    "BIGGER_SIZE = 16\n",
    "\n",
    "plt.rc('font', size=SMALL_SIZE)          # controls default text sizes\n",
    "plt.rc('axes', titlesize=SMALL_SIZE)     # fontsize of the axes title\n",
    "plt.rc('axes', labelsize=MEDIUM_SIZE)    # fontsize of the x and y labels\n",
    "plt.rc('xtick', labelsize=SMALL_SIZE)    # fontsize of the tick labels\n",
    "plt.rc('ytick', labelsize=SMALL_SIZE)    # fontsize of the tick labels\n",
    "plt.rc('legend', fontsize=SMALL_SIZE)    # legend fontsize\n",
    "plt.rc('figure', titlesize=BIGGER_SIZE)  # fontsize of the figure title\n",
    "\n",
    "logger = logging.getLogger()\n",
    "logger.setLevel(logging.INFO)\n",
    "log_info = logger.warning\n",
    "\n",
    "import warnings\n",
    "warnings.filterwarnings(\"ignore\")\n",
    "\n",
    "sc.settings.set_figure_params(dpi=80, facecolor='white')"
   ]
  },
  {
   "cell_type": "code",
   "execution_count": null,
   "metadata": {},
   "outputs": [],
   "source": [
    "repo_root = '/home/jupyter/mb-ml-data-disk/MAS-seq-analysis'\n",
    "\n",
    "# inputs\n",
    "input_prefix = 'M132TS_immune.revised_v2.harmonized'\n",
    "output_path = 'output/t-cell-vdj-cite-seq'\n",
    "\n",
    "harmonized_short_adata_h5_path = os.path.join(repo_root, output_path, f'{input_prefix}.short.stringtie.h5ad')\n",
    "harmonized_long_adata_h5_path = os.path.join(repo_root, output_path, f'{input_prefix}.long.stringtie.h5ad')\n",
    "\n",
    "harmonized_short_adata_seurat_output_h5_path = os.path.join(repo_root, output_path, f'{input_prefix}.short.stringtie.seurat_output.no_mt_pct_regression.h5ad')\n",
    "harmonized_long_adata_seurat_output_h5_path = os.path.join(repo_root, output_path, f'{input_prefix}.long.stringtie.seurat_output.no_mt_pct_regression.h5ad')\n",
    "\n",
    "# outputs\n",
    "final_short_adata_raw_h5_path = os.path.join(repo_root, output_path, f'{input_prefix}.short.stringtie.final.raw.h5ad')\n",
    "final_short_adata_sct_h5_path = os.path.join(repo_root, output_path, f'{input_prefix}.short.stringtie.final.sct.h5ad')\n",
    "final_long_adata_raw_h5_path = os.path.join(repo_root, output_path, f'{input_prefix}.long.stringtie.final.raw.h5ad')\n",
    "final_long_adata_sct_h5_path = os.path.join(repo_root, output_path, f'{input_prefix}.long.stringtie.final.sct.h5ad')"
   ]
  },
  {
   "cell_type": "code",
   "execution_count": null,
   "metadata": {},
   "outputs": [],
   "source": [
    "n_sct_features = 3000\n",
    "n_pcs = 30\n",
    "n_neighbors = 100\n",
    "n_neighbors_umap = 100\n",
    "umap_min_dist = 0.1\n",
    "umap_spread = 20.0\n",
    "metric = 'euclidean'\n",
    "\n",
    "# neglect highly expressed genes for clustering?\n",
    "neglect_high_expression_fraction = 0.0"
   ]
  },
  {
   "cell_type": "markdown",
   "metadata": {},
   "source": [
    "## Short adata final clustering (using SCT features)"
   ]
  },
  {
   "cell_type": "code",
   "execution_count": null,
   "metadata": {},
   "outputs": [],
   "source": [
    "adata_short_raw = sc.read(os.path.join(repo_root, harmonized_short_adata_h5_path))\n",
    "\n",
    "adata_short_seurat = sc.read(os.path.join(repo_root, harmonized_short_adata_seurat_output_h5_path))\n",
    "adata_short_seurat.var.set_index('_index', drop=True, inplace=True)\n",
    "adata_short_seurat.var.drop(columns=['features'], inplace=True)\n",
    "adata_short_seurat.var['gene_ids'] = adata_short_raw.var['gene_ids']\n",
    "adata_short_seurat.obs['percent.mt'] = adata_short_raw.obs['pct_counts_mt']\n",
    "adata_short_seurat.obs['nCount_RNA'] = adata_short_raw.obs['total_counts']"
   ]
  },
  {
   "cell_type": "code",
   "execution_count": null,
   "metadata": {},
   "outputs": [],
   "source": [
    "# highly variable?\n",
    "adata_short_seurat.var['rv'] = np.var(adata_short_seurat.X, axis=0)\n",
    "rv_cutoff = np.sort(adata_short_seurat.var['rv'])[::-1][n_sct_features]\n",
    "adata_short_seurat.var['hv'] = adata_short_seurat.var['rv'] > rv_cutoff\n",
    "\n",
    "# expression in range?\n",
    "expr_cutoff = np.sort(adata_short_raw.var['mean_counts'].values)[::-1][\n",
    "    int(neglect_high_expression_fraction * len(adata_short_raw.var))]\n",
    "expr_in_range = adata_short_raw.var['mean_counts'] <= expr_cutoff\n",
    "adata_short_seurat.var['eir'] = expr_in_range[adata_short_seurat.var.index]\n",
    "\n",
    "# subset to highly variable and expression-in-range features\n",
    "adata_short_seurat = adata_short_seurat[:, adata_short_seurat.var['hv'] & adata_short_seurat.var['eir']]\n",
    "\n",
    "# scale\n",
    "sc.pp.scale(adata_short_seurat)\n",
    "sc.tl.pca(adata_short_seurat, svd_solver='arpack', n_comps=n_pcs)\n",
    "sc.pp.neighbors(adata_short_seurat, n_neighbors=n_neighbors, n_pcs=n_pcs, metric=metric)"
   ]
  },
  {
   "cell_type": "code",
   "execution_count": null,
   "metadata": {},
   "outputs": [],
   "source": [
    "from umap import UMAP\n",
    "\n",
    "adata_short_seurat.obsm['X_umap'] = UMAP(\n",
    "    densmap=False,\n",
    "    min_dist=umap_min_dist,\n",
    "    spread=umap_spread,\n",
    "    n_neighbors=n_neighbors_umap,\n",
    "    metric=metric).fit_transform(adata_short_seurat.obsm['X_pca'])\n",
    "\n",
    "adata_short_seurat.obs['CD45_TotalSeqC'] = adata_short_raw.obs['CD45_TotalSeqC']\n",
    "adata_short_seurat.obs['CD45R_B220_TotalSeqC'] = adata_short_raw.obs['CD45R_B220_TotalSeqC']\n",
    "adata_short_seurat.obs['CD45RA_TotalSeqC'] = adata_short_raw.obs['CD45RA_TotalSeqC']\n",
    "adata_short_seurat.obs['CD45RO_TotalSeqC'] = adata_short_raw.obs['CD45RO_TotalSeqC']"
   ]
  },
  {
   "cell_type": "code",
   "execution_count": null,
   "metadata": {},
   "outputs": [],
   "source": [
    "sc.pl.umap(adata_short_seurat, color=['CD45RA_TotalSeqC', 'CD45RO_TotalSeqC'], s=20, vmax=8)"
   ]
  },
  {
   "cell_type": "code",
   "execution_count": null,
   "metadata": {},
   "outputs": [],
   "source": [
    "sc.pl.umap(adata_short_seurat, color=['percent.mt'], s=20, vmax=20)\n",
    "sc.pl.umap(adata_short_seurat, color=['nCount_RNA'], s=20, vmax=10000)"
   ]
  },
  {
   "cell_type": "markdown",
   "metadata": {},
   "source": [
    "## Preliminary clustering, doublet scrubbing, and proof-reading"
   ]
  },
  {
   "cell_type": "code",
   "execution_count": null,
   "metadata": {},
   "outputs": [],
   "source": [
    "sc.tl.leiden(adata_short_seurat, resolution=1.3, key_added='mehrtash_leiden')\n",
    "sc.pl.umap(adata_short_seurat, color=['mehrtash_leiden'], s=20)"
   ]
  },
  {
   "cell_type": "code",
   "execution_count": null,
   "metadata": {},
   "outputs": [],
   "source": [
    "import scrublet as scr\n",
    "\n",
    "scrub = scr.Scrublet(adata_short_raw.X, expected_doublet_rate=0.10)\n",
    "doublet_scores, predicted_doublets = scrub.scrub_doublets()\n",
    "\n",
    "adata_short_seurat.obs['doublet_scores'] = doublet_scores\n",
    "adata_short_seurat.obs['predicted_doublets'] = predicted_doublets.astype(np.int)\n",
    "adata_short_seurat.obs['predicted_doublets_0.20'] = (doublet_scores > 0.20).astype(np.int)\n",
    "adata_short_seurat.obs['predicted_doublets_0.25'] = (doublet_scores > 0.25).astype(np.int)\n",
    "adata_short_seurat.obs['predicted_doublets_0.30'] = (doublet_scores > 0.30).astype(np.int)\n",
    "adata_short_seurat.obs['predicted_doublets_0.35'] = (doublet_scores > 0.35).astype(np.int)\n",
    "adata_short_seurat.obs['predicted_doublets_0.40'] = (doublet_scores > 0.40).astype(np.int)"
   ]
  },
  {
   "cell_type": "code",
   "execution_count": null,
   "metadata": {},
   "outputs": [],
   "source": [
    "doublet_keys = [\n",
    "    'predicted_doublets',\n",
    "    'predicted_doublets_0.20',\n",
    "    'predicted_doublets_0.25',\n",
    "    'predicted_doublets_0.30',\n",
    "    'predicted_doublets_0.35',\n",
    "    'predicted_doublets_0.40'\n",
    "]\n",
    "\n",
    "sc.pl.umap(adata_short_seurat, color=doublet_keys, s=20)"
   ]
  },
  {
   "cell_type": "code",
   "execution_count": null,
   "metadata": {},
   "outputs": [],
   "source": [
    "for key in doublet_keys:\n",
    "    log_info(f'{key}, doublet fraction: {np.sum(adata_short_seurat.obs[key]) / len(adata_short_seurat):.3f}')"
   ]
  },
  {
   "cell_type": "code",
   "execution_count": null,
   "metadata": {},
   "outputs": [],
   "source": [
    "adata_short_seurat_full = sc.read(os.path.join(repo_root, harmonized_short_adata_seurat_output_h5_path))\n",
    "adata_short_seurat_full.var.set_index('_index', drop=True, inplace=True)\n",
    "adata_short_seurat_full.var.drop(columns=['features'], inplace=True)\n",
    "adata_short_seurat_full.var['gene_ids'] = adata_short_seurat.var['gene_ids']\n",
    "adata_short_seurat_full.obs['percent.mt'] = adata_short_seurat.obs['percent.mt']\n",
    "adata_short_seurat_full.obs['nCount_RNA'] = adata_short_seurat.obs['nCount_RNA']\n",
    "adata_short_seurat_full.obs['mehrtash_leiden'] = adata_short_seurat.obs['mehrtash_leiden']\n",
    "adata_short_seurat_full.raw = None\n",
    "adata_test = adata_short_seurat_full\n",
    "\n",
    "sc.tl.rank_genes_groups(adata_test, 'mehrtash_leiden', method='t-test')\n",
    "sc.pl.rank_genes_groups(adata_test, n_genes=20, sharey=False)"
   ]
  },
  {
   "cell_type": "code",
   "execution_count": null,
   "metadata": {},
   "outputs": [],
   "source": [
    "unwanted_leiden_ids = {\n",
    "    '8', # MT- high\n",
    "}\n",
    "\n",
    "final_barcodes = adata_short_seurat[\n",
    "    (~adata_short_seurat.obs['mehrtash_leiden'].isin(unwanted_leiden_ids)) &\n",
    "    (~adata_short_seurat.obs['predicted_doublets_0.25'].astype(np.bool))].obs.index"
   ]
  },
  {
   "cell_type": "markdown",
   "metadata": {},
   "source": [
    "## Final clustering"
   ]
  },
  {
   "cell_type": "code",
   "execution_count": null,
   "metadata": {},
   "outputs": [],
   "source": [
    "adata_short_raw = sc.read(os.path.join(repo_root, harmonized_short_adata_h5_path))[final_barcodes]\n",
    "adata_short_seurat = sc.read(os.path.join(repo_root, harmonized_short_adata_seurat_output_h5_path))[final_barcodes]\n",
    "adata_short_seurat.var.set_index('_index', drop=True, inplace=True)\n",
    "adata_short_seurat.var.drop(columns=['features'], inplace=True)\n",
    "adata_short_seurat.var['gene_ids'] = adata_short_raw.var['gene_ids']\n",
    "adata_short_seurat.obs['percent.mt'] = adata_short_raw.obs['pct_counts_mt']\n",
    "adata_short_seurat.obs['nCount_RNA'] = adata_short_raw.obs['total_counts']\n",
    "\n",
    "adata_short_seurat.var['rv'] = np.var(adata_short_seurat.X, axis=0)\n",
    "rv_cutoff = np.sort(adata_short_seurat.var['rv'])[::-1][n_sct_features]\n",
    "adata_short_seurat.var['hv'] = adata_short_seurat.var['rv'] > rv_cutoff\n",
    "adata_short_seurat = adata_short_seurat[:, adata_short_seurat.var['hv']]\n",
    "\n",
    "sc.pp.scale(adata_short_seurat)\n",
    "sc.tl.pca(adata_short_seurat, svd_solver='arpack', n_comps=n_pcs)\n",
    "sc.pp.neighbors(adata_short_seurat, n_neighbors=n_neighbors, n_pcs=n_pcs, metric=metric)\n",
    "\n",
    "adata_short_seurat.obsm['X_umap'] = UMAP(\n",
    "    random_state=1,\n",
    "    densmap=False,\n",
    "    min_dist=umap_min_dist,\n",
    "    spread=umap_spread,\n",
    "    n_neighbors=n_neighbors_umap,\n",
    "    metric=metric).fit_transform(adata_short_seurat.obsm['X_pca'])\n",
    "\n",
    "adata_short_seurat.obs['CD45_TotalSeqC'] = adata_short_raw.obs['CD45_TotalSeqC']\n",
    "adata_short_seurat.obs['CD45R_B220_TotalSeqC'] = adata_short_raw.obs['CD45R_B220_TotalSeqC']\n",
    "adata_short_seurat.obs['CD45RA_TotalSeqC'] = adata_short_raw.obs['CD45RA_TotalSeqC']\n",
    "adata_short_seurat.obs['CD45RO_TotalSeqC'] = adata_short_raw.obs['CD45RO_TotalSeqC']\n",
    "\n",
    "sc.pl.umap(adata_short_seurat, color=['CD45RA_TotalSeqC', 'CD45RO_TotalSeqC'], s=20, vmax=8)"
   ]
  },
  {
   "cell_type": "code",
   "execution_count": null,
   "metadata": {},
   "outputs": [],
   "source": [
    "sc.tl.leiden(adata_short_seurat, resolution=1.15, key_added='mehrtash_leiden')\n",
    "sc.pl.umap(adata_short_seurat, color=['mehrtash_leiden'], s=20)"
   ]
  },
  {
   "cell_type": "code",
   "execution_count": null,
   "metadata": {},
   "outputs": [],
   "source": [
    "# map leiden labels to cell type names\n",
    "mehrtash_leiden_names_map = {\n",
    "    '0': 'SMC',\n",
    "    '1': 'A/EE',\n",
    "    '2': 'EA',\n",
    "    '3': 'TD II',\n",
    "    '4': 'TD I',\n",
    "    '5': 'CE',\n",
    "    '6': 'P',\n",
    "    '7': 'EA II'\n",
    "}\n",
    "\n",
    "leiden_name_to_color_map = {\n",
    "    'SMC': '#00acc6',\n",
    "    'EA': '#018700',\n",
    "    'A/EE': '#8c3bff',\n",
    "    'TD II': '#6b004f',\n",
    "    'TD I': '#eb0077',\n",
    "    'CE': '#ff7ed1',\n",
    "    'P': '#ffa52f',\n",
    "    'EA II': '#708297',\n",
    "}"
   ]
  },
  {
   "cell_type": "code",
   "execution_count": null,
   "metadata": {},
   "outputs": [],
   "source": [
    "# change leiden labels to cell type names\n",
    "adata_short_seurat.obs['mehrtash_leiden'] = pd.Series(\n",
    "    index=adata_short_seurat.obs.index,\n",
    "    data=list(map(mehrtash_leiden_names_map.get, adata_short_seurat.obs['mehrtash_leiden'].values)),\n",
    "    dtype='category')\n",
    "\n",
    "# set colors\n",
    "adata_short_seurat.uns['mehrtash_leiden_colors'] = list(\n",
    "    map(leiden_name_to_color_map.get, adata_short_seurat.obs['mehrtash_leiden'].values.categories.values))"
   ]
  },
  {
   "cell_type": "code",
   "execution_count": null,
   "metadata": {},
   "outputs": [],
   "source": [
    "# import colorcet as cc\n",
    "\n",
    "# adata_short_seurat.uns['mehrtash_leiden_colors'] = leiden_color_map\n",
    "\n",
    "# def rgb_to_hex(x) -> str: \n",
    "#     r = max(0, min(int(255 * x[0]), 255))\n",
    "#     g = max(0, min(int(255 * x[1]), 255))\n",
    "#     b = max(0, min(int(255 * x[2]), 255))\n",
    "#     return \"#{0:02x}{1:02x}{2:02x}\".format(r, g, b)\n",
    "# leiden_categories = adata_short_seurat.obs['mehrtash_leiden'].values.categories\n",
    "# n_leiden = len(leiden_categories)\n",
    "# \n",
    "# leiden_color_map = {\n",
    "#     color: category\n",
    "#     for category, color in zip(\n",
    "#         adata_short_seurat.obs['mehrtash_leiden'].values.categories,\n",
    "#         leiden_color_list)}\n",
    "\n",
    "sc.pl.umap(adata_short_seurat, color=['mehrtash_leiden'], s=20)"
   ]
  },
  {
   "cell_type": "code",
   "execution_count": null,
   "metadata": {},
   "outputs": [],
   "source": [
    "adata_short_seurat_full = sc.read(os.path.join(repo_root, harmonized_short_adata_seurat_output_h5_path))[final_barcodes]\n",
    "adata_short_seurat_full.obs['mehrtash_leiden'] = adata_short_seurat.obs['mehrtash_leiden']\n",
    "adata_short_seurat_full.var.set_index('_index', drop=True, inplace=True)\n",
    "adata_short_seurat_full.var.drop(columns=['features'], inplace=True)\n",
    "adata_short_seurat_full.var['gene_ids'] = adata_short_seurat.var['gene_ids']\n",
    "adata_short_seurat_full.obs['percent.mt'] = adata_short_seurat.obs['percent.mt']\n",
    "adata_short_seurat_full.obs['nCount_RNA'] = adata_short_seurat.obs['nCount_RNA']\n",
    "adata_short_seurat_full.obs['mehrtash_leiden'] = adata_short_seurat.obs['mehrtash_leiden']\n",
    "adata_short_seurat_full.raw = None\n",
    "adata_test = adata_short_seurat_full\n",
    "\n",
    "sc.tl.rank_genes_groups(adata_test, 'mehrtash_leiden', method='t-test')\n",
    "sc.pl.rank_genes_groups(adata_test, n_genes=20, sharey=False)"
   ]
  },
  {
   "cell_type": "code",
   "execution_count": null,
   "metadata": {},
   "outputs": [],
   "source": [
    "# leiden_names = []\n",
    "# for leiden_id in adata_short_seurat.obs['mehrtash_leiden'].values:\n",
    "#     leiden_names.append(mehrtash_leiden_names_map[leiden_id])\n",
    "# new_color_map = {\n",
    "#     color: mehrtash_leiden_names_map[old_category]\n",
    "#     for color, old_category in adata_short_seurat.uns['mehrtash_leiden_colors'].items()}\n",
    "# adata_short_seurat.obs['mehrtash_leiden'] = pd.Categorical(leiden_names)\n",
    "# adata_short_seurat.uns['mehrtash_leiden_colors'] = new_color_map"
   ]
  },
  {
   "cell_type": "markdown",
   "metadata": {},
   "source": [
    "## Long adata final clustering (using SCT features)"
   ]
  },
  {
   "cell_type": "code",
   "execution_count": null,
   "metadata": {},
   "outputs": [],
   "source": [
    "n_sct_features = 5000\n",
    "n_pcs = 30\n",
    "n_neighbors = 100\n",
    "n_neighbors_umap = 100\n",
    "umap_min_dist = 0.1\n",
    "umap_spread = 20.0\n",
    "metric = 'euclidean'"
   ]
  },
  {
   "cell_type": "code",
   "execution_count": null,
   "metadata": {},
   "outputs": [],
   "source": [
    "adata_long_raw = sc.read(os.path.join(repo_root, harmonized_long_adata_h5_path))[final_barcodes]\n",
    "adata_long_seurat = sc.read(os.path.join(repo_root, harmonized_long_adata_seurat_output_h5_path))[final_barcodes]"
   ]
  },
  {
   "cell_type": "code",
   "execution_count": null,
   "metadata": {},
   "outputs": [],
   "source": [
    "adata_long_seurat.var.set_index('_index', drop=True, inplace=True)\n",
    "adata_long_seurat.var.drop(columns=['features'], inplace=True)\n",
    "adata_long_seurat.var['transcript_eq_classes'] = adata_long_raw.var['transcript_eq_classes']\n",
    "adata_long_seurat.var['gene_eq_classest'] = adata_long_raw.var['gene_eq_classes']\n",
    "adata_long_seurat.var['transcript_ids'] = adata_long_raw.var['transcript_ids']\n",
    "adata_long_seurat.var['gene_ids'] = adata_long_raw.var['gene_ids']\n",
    "adata_long_seurat.var['gene_names'] = adata_long_raw.var['gene_names']\n",
    "adata_long_seurat.var['is_de_novo'] = adata_long_raw.var['is_de_novo']\n",
    "adata_long_seurat.var['is_gene_id_ambiguous'] = adata_long_raw.var['is_gene_id_ambiguous']\n",
    "adata_long_seurat.var['is_tcr_overlapping'] = adata_long_raw.var['is_tcr_overlapping']"
   ]
  },
  {
   "cell_type": "code",
   "execution_count": null,
   "metadata": {},
   "outputs": [],
   "source": [
    "adata_long_seurat.var['rv'] = np.var(adata_long_seurat.X, axis=0)\n",
    "rv_cutoff = np.sort(adata_long_seurat.var['rv'])[::-1][n_sct_features]\n",
    "adata_long_seurat.var['hv'] = adata_long_seurat.var['rv'] > rv_cutoff\n",
    "adata_long_seurat = adata_long_seurat[:, adata_long_seurat.var['hv']]\n",
    "\n",
    "sc.pp.scale(adata_long_seurat)\n",
    "sc.tl.pca(adata_long_seurat, svd_solver='arpack', n_comps=n_pcs)\n",
    "sc.pp.neighbors(adata_long_seurat, n_neighbors=n_neighbors, n_pcs=n_pcs, metric=metric)"
   ]
  },
  {
   "cell_type": "code",
   "execution_count": null,
   "metadata": {},
   "outputs": [],
   "source": [
    "from umap import UMAP\n",
    "\n",
    "adata_long_seurat.obsm['X_umap'] = UMAP(\n",
    "    densmap=False,\n",
    "    min_dist=umap_min_dist,\n",
    "    spread=umap_spread,\n",
    "    n_neighbors=n_neighbors_umap,\n",
    "    init=adata_short_seurat.obsm['X_umap'],\n",
    "    metric=metric).fit_transform(adata_long_seurat.obsm['X_pca'])"
   ]
  },
  {
   "cell_type": "code",
   "execution_count": null,
   "metadata": {},
   "outputs": [],
   "source": [
    "sc.pl.umap(adata_long_seurat)"
   ]
  },
  {
   "cell_type": "code",
   "execution_count": null,
   "metadata": {},
   "outputs": [],
   "source": [
    "adata_long_seurat.obs['CD45_TotalSeqC'] = adata_long_raw.obs['CD45_TotalSeqC']\n",
    "adata_long_seurat.obs['CD45R_B220_TotalSeqC'] = adata_long_raw.obs['CD45R_B220_TotalSeqC']\n",
    "adata_long_seurat.obs['CD45RA_TotalSeqC'] = adata_long_raw.obs['CD45RA_TotalSeqC']\n",
    "adata_long_seurat.obs['CD45RO_TotalSeqC'] = adata_long_raw.obs['CD45RO_TotalSeqC']\n",
    "adata_long_seurat.obs['mehrtash_leiden'] = adata_short_seurat.obs['mehrtash_leiden']\n",
    "adata_long_seurat.uns['mehrtash_leiden_colors'] = adata_short_seurat.uns['mehrtash_leiden_colors']"
   ]
  },
  {
   "cell_type": "code",
   "execution_count": null,
   "metadata": {},
   "outputs": [],
   "source": [
    "sc.pl.umap(adata_long_seurat, color=['CD45_TotalSeqC', 'CD45R_B220_TotalSeqC', 'CD45RA_TotalSeqC', 'CD45RO_TotalSeqC', 'mehrtash_leiden'])"
   ]
  },
  {
   "cell_type": "markdown",
   "metadata": {},
   "source": [
    "## Save"
   ]
  },
  {
   "cell_type": "code",
   "execution_count": null,
   "metadata": {},
   "outputs": [],
   "source": [
    "mehrtash_leiden = adata_short_seurat.obs['mehrtash_leiden']\n",
    "mehrtash_leiden_colors = adata_short_seurat.uns['mehrtash_leiden_colors']\n",
    "\n",
    "adata_long_X_pca_SCT = adata_long_seurat.obsm['X_pca']\n",
    "adata_long_X_umap_SCT = adata_long_seurat.obsm['X_umap']\n",
    "\n",
    "adata_short_X_pca_SCT = adata_short_seurat.obsm['X_pca']\n",
    "adata_short_X_umap_SCT = adata_short_seurat.obsm['X_umap']"
   ]
  },
  {
   "cell_type": "code",
   "execution_count": null,
   "metadata": {},
   "outputs": [],
   "source": [
    "adata_short_raw = sc.read(os.path.join(repo_root, harmonized_short_adata_h5_path))[final_barcodes]\n",
    "\n",
    "adata_short_X_pca_raw = adata_short_raw.obsm['X_pca']\n",
    "adata_short_X_tsne_raw = adata_short_raw.obsm['X_tsne']\n",
    "\n",
    "adata_short_raw.uns.clear()\n",
    "adata_short_raw.obsm.clear()\n",
    "\n",
    "adata_short_raw.obsm['X_pca_SCT_short'] = adata_short_X_pca_SCT\n",
    "adata_short_raw.obsm['X_pca_SCT_long'] = adata_long_X_pca_SCT\n",
    "\n",
    "adata_short_raw.obsm['X_umap_SCT_short'] = adata_short_X_umap_SCT\n",
    "adata_short_raw.obsm['X_umap_SCT_long'] = adata_long_X_umap_SCT\n",
    "\n",
    "adata_short_raw.obsm['X_tsne_raw_short'] = adata_short_X_tsne_raw\n",
    "adata_short_raw.obsm['X_pca_raw_short'] = adata_short_X_pca_raw\n",
    "\n",
    "adata_short_raw.obs['mehrtash_leiden'] = mehrtash_leiden\n",
    "adata_short_raw.uns['mehrtash_leiden_colors'] = mehrtash_leiden_colors"
   ]
  },
  {
   "cell_type": "code",
   "execution_count": null,
   "metadata": {},
   "outputs": [],
   "source": [
    "adata_short_sct = sc.read(os.path.join(repo_root, harmonized_short_adata_seurat_output_h5_path))[final_barcodes]\n",
    "adata_short_sct.var.set_index('_index', drop=True, inplace=True)\n",
    "\n",
    "adata_short_sct.raw = None\n",
    "adata_short_sct.uns.clear()\n",
    "adata_short_sct.varm.clear()\n",
    "adata_short_sct.obsp.clear()\n",
    "adata_short_sct.obs = adata_short_raw.obs\n",
    "adata_short_sct.obsm = adata_short_raw.obsm\n",
    "adata_short_sct.uns = adata_short_raw.uns\n",
    "adata_short_sct.var = adata_short_raw[:, adata_short_sct.var.index].var"
   ]
  },
  {
   "cell_type": "code",
   "execution_count": null,
   "metadata": {},
   "outputs": [],
   "source": [
    "adata_long_raw = sc.read(os.path.join(repo_root, harmonized_long_adata_h5_path))[final_barcodes]\n",
    "\n",
    "adata_long_raw.uns.clear()\n",
    "adata_long_raw.obsm.clear()\n",
    "\n",
    "adata_long_raw.obsm['X_pca_SCT_short'] = adata_short_X_pca_SCT\n",
    "adata_long_raw.obsm['X_pca_SCT_long'] = adata_long_X_pca_SCT\n",
    "\n",
    "adata_long_raw.obsm['X_umap_SCT_short'] = adata_short_X_umap_SCT\n",
    "adata_long_raw.obsm['X_umap_SCT_long'] = adata_long_X_umap_SCT\n",
    "\n",
    "adata_long_raw.obsm['X_tsne_raw_short'] = adata_short_X_tsne_raw\n",
    "adata_long_raw.obsm['X_pca_raw_short'] = adata_short_X_pca_raw\n",
    "\n",
    "adata_long_raw.obs['mehrtash_leiden'] = mehrtash_leiden\n",
    "adata_long_raw.uns['mehrtash_leiden_colors'] = mehrtash_leiden_colors"
   ]
  },
  {
   "cell_type": "code",
   "execution_count": null,
   "metadata": {},
   "outputs": [],
   "source": [
    "adata_long_sct = sc.read(os.path.join(repo_root, harmonized_long_adata_seurat_output_h5_path))[final_barcodes]\n",
    "adata_long_sct.var.set_index('_index', drop=True, inplace=True)\n",
    "\n",
    "adata_long_sct.raw = None\n",
    "adata_long_sct.uns.clear()\n",
    "adata_long_sct.varm.clear()\n",
    "adata_long_sct.obsp.clear()\n",
    "adata_long_sct.obs = adata_long_raw.obs\n",
    "adata_long_sct.obsm = adata_long_raw.obsm\n",
    "adata_long_sct.uns = adata_long_raw.uns\n",
    "adata_long_sct.var = adata_long_raw[:, adata_long_sct.var.index].var"
   ]
  },
  {
   "cell_type": "code",
   "execution_count": null,
   "metadata": {},
   "outputs": [],
   "source": [
    "adata_short_raw.write(final_short_adata_raw_h5_path)\n",
    "adata_short_sct.write(final_short_adata_sct_h5_path)\n",
    "adata_long_raw.write(final_long_adata_raw_h5_path)\n",
    "adata_long_sct.write(final_long_adata_sct_h5_path)"
   ]
  },
  {
   "cell_type": "markdown",
   "metadata": {},
   "source": [
    "## Make plots"
   ]
  },
  {
   "cell_type": "code",
   "execution_count": null,
   "metadata": {},
   "outputs": [],
   "source": [
    "adata_short_raw = sc.read_h5ad(final_short_adata_raw_h5_path)\n",
    "adata_short_sct = sc.read_h5ad(final_short_adata_sct_h5_path)\n",
    "adata_long_raw = sc.read_h5ad(final_long_adata_raw_h5_path)\n",
    "adata_long_sct = sc.read_h5ad(final_long_adata_sct_h5_path)"
   ]
  },
  {
   "cell_type": "code",
   "execution_count": null,
   "metadata": {},
   "outputs": [],
   "source": [
    "adata_long_raw.X.sum() / len(adata_long_raw)"
   ]
  },
  {
   "cell_type": "code",
   "execution_count": null,
   "metadata": {},
   "outputs": [],
   "source": [
    "def plot_embedding(\n",
    "        adata: sc.AnnData,\n",
    "        embedding_key: str,\n",
    "        leiden_key: str,\n",
    "        markersize=2,\n",
    "        alpha=0.75,\n",
    "        x_offset=dict(),\n",
    "        y_offset=dict(),\n",
    "        fig=None,\n",
    "        ax=None,\n",
    "        show_labels=True,\n",
    "        figsize=(3, 3)):\n",
    "    \n",
    "    if ax is None or fig is None:\n",
    "        fig, ax = plt.subplots(figsize=figsize)\n",
    "\n",
    "    leiden_color_key = f'{leiden_key}_colors'\n",
    "    assert leiden_color_key in set(adata.uns.keys())\n",
    "\n",
    "    leiden_category_to_leiden_color_map = {\n",
    "        leiden_category: leiden_color\n",
    "        for leiden_color, leiden_category in zip(\n",
    "            adata.uns[leiden_color_key],\n",
    "            adata.obs[leiden_key].values.categories)}\n",
    "    cell_color_list = list(\n",
    "        map(leiden_category_to_leiden_color_map.get, adata.obs[leiden_key]))\n",
    "\n",
    "    ax.scatter(\n",
    "        adata.obsm[embedding_key][:, 0],\n",
    "        adata.obsm[embedding_key][:, 1],\n",
    "        color=cell_color_list,\n",
    "        s=markersize,\n",
    "        alpha=alpha)\n",
    "\n",
    "    ax.set_xticks([])\n",
    "    ax.set_yticks([])\n",
    "\n",
    "    ax.set_xlabel('UMAP1')\n",
    "    ax.set_ylabel('UMAP2')\n",
    "\n",
    "    if show_labels:\n",
    "        for leiden_category in adata.obs[leiden_key].values.categories:\n",
    "            try:\n",
    "                dx = x_offset[leiden_category]\n",
    "                dy = y_offset[leiden_category]\n",
    "            except KeyError:\n",
    "                dx = 0\n",
    "                dy = 0\n",
    "            x_values = adata.obsm[embedding_key][adata.obs[leiden_key] == leiden_category, 0] + dx\n",
    "            y_values = adata.obsm[embedding_key][adata.obs[leiden_key] == leiden_category, 1] + dy\n",
    "            x_c, y_c = np.mean(x_values), np.mean(y_values)\n",
    "            ax.text(\n",
    "                x_c, y_c, leiden_category,\n",
    "                fontsize=8,\n",
    "                bbox=dict(boxstyle='round', facecolor='white', alpha=0.8))"
   ]
  },
  {
   "cell_type": "code",
   "execution_count": null,
   "metadata": {},
   "outputs": [],
   "source": [
    "import matplotlib as mpl\n",
    "mpl.rcParams.update(mpl.rcParamsDefault)"
   ]
  },
  {
   "cell_type": "code",
   "execution_count": null,
   "metadata": {},
   "outputs": [],
   "source": [
    "adata = adata_short_raw\n",
    "embedding_key = 'X_umap_SCT_short'\n",
    "leiden_key = 'mehrtash_leiden'\n",
    "x_offset = {'A IV': -22}\n",
    "y_offset = {'A IV': -2}\n",
    "\n",
    "fig, ax = plt.subplots(figsize=(3, 3))\n",
    "\n",
    "plot_embedding(\n",
    "    adata, embedding_key, leiden_key,\n",
    "    markersize=2,\n",
    "    alpha=0.5,\n",
    "    x_offset=x_offset,\n",
    "    y_offset=y_offset,\n",
    "    fig=fig,\n",
    "    show_labels=False,\n",
    "    ax=ax)\n",
    "\n",
    "fig.tight_layout()\n",
    "\n",
    "plt.savefig('./output/M132TS__UMAP__short.pdf')"
   ]
  },
  {
   "cell_type": "code",
   "execution_count": null,
   "metadata": {},
   "outputs": [],
   "source": [
    "adata = adata_long_raw\n",
    "embedding_key = 'X_umap_SCT_long'\n",
    "leiden_key = 'mehrtash_leiden'\n",
    "x_offset = {'A IV': -7}\n",
    "y_offset = {'A IV': -16}\n",
    "\n",
    "fig, ax = plt.subplots(figsize=(3, 3))\n",
    "\n",
    "plot_embedding(\n",
    "    adata, embedding_key, leiden_key,\n",
    "    markersize=2,\n",
    "    alpha=0.5,\n",
    "    x_offset=x_offset,\n",
    "    y_offset=y_offset,\n",
    "    show_labels=False,\n",
    "    fig=fig,\n",
    "    ax=ax)\n",
    "\n",
    "plt.savefig('./output/M132TS__UMAP__long.pdf')"
   ]
  },
  {
   "cell_type": "markdown",
   "metadata": {},
   "source": [
    "## Gene-level concordance between short and long"
   ]
  },
  {
   "cell_type": "code",
   "execution_count": null,
   "metadata": {},
   "outputs": [],
   "source": [
    "ADATA_SHORT_GENE_IDS_COL = 'gene_ids'\n",
    "ADATA_LONG_GENE_IDS_COL = 'gene_ids'\n",
    "LEIDEN_OBS_COL = 'mehrtash_leiden'"
   ]
  },
  {
   "cell_type": "code",
   "execution_count": null,
   "metadata": {},
   "outputs": [],
   "source": [
    "barcode_groups_dict = dict()\n",
    "barcode_groups_dict['All T Cells'] = np.ones((len(adata_long_raw),), dtype=np.bool)\n",
    "for leiden_label in adata_long_raw.obs[LEIDEN_OBS_COL].values.categories:\n",
    "    barcode_groups_dict[leiden_label] = adata_long_raw.obs[LEIDEN_OBS_COL].values == leiden_label\n",
    "\n",
    "ax_title_dict = {\n",
    "    'All T Cells': 'All T Cells',\n",
    "    'A/EE': 'Activated / Early Exhausted',\n",
    "    'CE': 'Cytotoxic Effector',\n",
    "    'EA': 'Early Activated',\n",
    "    'EA II': 'Early Activated II',\n",
    "    'P': 'Proliferating',\n",
    "    'SMC': 'Stem-like Memory',\n",
    "    'TD I': 'Termially Differentiated I',\n",
    "    'TD II': 'Terminally Differentiated II'\n",
    "}\n",
    "\n",
    "output_suffix_dict = {\n",
    "    'All T Cells': 'all',\n",
    "    'A/EE': 'a_ee',\n",
    "    'CE': 'ce',\n",
    "    'EA': 'ea',\n",
    "    'EA II': 'ea2',\n",
    "    'P': 'p',\n",
    "    'SMC': 'smc',\n",
    "    'TD I': 'td1',\n",
    "    'TD II': 'td2'\n",
    "}\n",
    "\n",
    "color_map = {\n",
    "    adata_long_raw.obs[LEIDEN_OBS_COL].values.categories[i]: adata_long_raw.uns[f'{LEIDEN_OBS_COL}_colors'][i]\n",
    "    for i in range(len(adata_long_raw.obs[LEIDEN_OBS_COL].values.categories))}\n",
    "color_map['All T Cells'] = 'black'"
   ]
  },
  {
   "cell_type": "code",
   "execution_count": null,
   "metadata": {},
   "outputs": [],
   "source": [
    "from itertools import groupby\n",
    "from operator import itemgetter\n",
    "import matplotlib.ticker as tck\n",
    "from sklearn.metrics import r2_score\n",
    "\n",
    "# drop gencode version suffix ...\n",
    "drop_version = lambda entry: entry.split('.')[0] if entry.find('ENS') == 0 else entry\n",
    "\n",
    "for barcode_group_key in barcode_groups_dict.keys():\n",
    "\n",
    "    barcode_mask = barcode_groups_dict[barcode_group_key]\n",
    "    \n",
    "    total_tx_expr_long = np.asarray(adata_long_raw[barcode_mask].X.sum(0)).flatten()\n",
    "    total_gene_expr_short = np.asarray(adata_short_raw[barcode_mask].X.sum(0)).flatten()\n",
    "    \n",
    "    short_gene_ids = list(map(drop_version, adata_short_raw.var[ADATA_SHORT_GENE_IDS_COL].values))\n",
    "    long_gene_ids = list(map(drop_version, adata_long_raw.var[ADATA_LONG_GENE_IDS_COL].values))\n",
    "    mutual_gene_ids_set = set(long_gene_ids).intersection(short_gene_ids)\n",
    "    mutual_gene_ids_list = list(mutual_gene_ids_set)\n",
    "    \n",
    "    gene_id_to_tx_indices_map = dict()\n",
    "    for g in groupby(sorted(list(enumerate(long_gene_ids)), key=itemgetter(1)), key=itemgetter(1)):\n",
    "        gene_id = g[0]\n",
    "        tx_indices = list(map(itemgetter(0), g[1]))    \n",
    "        gene_id_to_tx_indices_map[gene_id] = tx_indices\n",
    "\n",
    "    total_gene_expr_long = []\n",
    "    for gene_id in mutual_gene_ids_list:\n",
    "        total_gene_expr_long.append(np.sum(total_tx_expr_long[gene_id_to_tx_indices_map[gene_id]]))\n",
    "    total_gene_expr_long = np.asarray(total_gene_expr_long)\n",
    "    short_gene_ids_to_idx_map = {\n",
    "        gene_id: idx for idx, gene_id in enumerate(short_gene_ids)}\n",
    "    mutual_indices_in_short = list(map(short_gene_ids_to_idx_map.get, mutual_gene_ids_list))\n",
    "    total_gene_expr_short = total_gene_expr_short[mutual_indices_in_short]\n",
    "    \n",
    "    total_gene_expr_short_tpm = 1_000_000 * total_gene_expr_short / np.sum(total_gene_expr_short)\n",
    "    total_gene_expr_long_tpm = 1_000_000 * total_gene_expr_long / np.sum(total_gene_expr_long)\n",
    "    \n",
    "\n",
    "    fig, ax = plt.subplots(figsize=(3.5, 3.5))\n",
    "\n",
    "    ax.plot([1e-1, 1e5], [1e-1, 1e5], '--', lw=1, color='black')\n",
    "    \n",
    "    ax.scatter(total_gene_expr_short_tpm, total_gene_expr_long_tpm, s=1, alpha=0.2, color=color_map[barcode_group_key], rasterized=True)\n",
    "    r2 = r2_score(np.log1p(total_gene_expr_short_tpm), np.log1p(total_gene_expr_long_tpm))\n",
    "    ax.text(0.15, 3e4, f'$R^2$ = {r2:.2f}', fontsize=10)\n",
    "    ax.set_xscale('log')\n",
    "    ax.set_yscale('log')\n",
    "    ax.set_xticks([1e-1, 1e1, 1e3, 1e5])\n",
    "    ax.set_yticks([1e-1, 1e1, 1e3, 1e5])\n",
    "    ax.xaxis.set_minor_locator(tck.AutoMinorLocator())\n",
    "    ax.yaxis.set_minor_locator(tck.AutoMinorLocator())\n",
    "    ax.set_xlim((1e-1, 1e5))\n",
    "    ax.set_ylim((1e-1, 1e5))\n",
    "    ax.set_aspect('equal')\n",
    "    # ax.set_title('M132TS')\n",
    "    ax.set_xlabel('Short-reads GEX (TPM)')\n",
    "    ax.set_ylabel('MAS-ISO-seq GEX (TPM)')\n",
    "    ax.set_title(ax_title_dict[barcode_group_key])\n",
    "    \n",
    "    fig.tight_layout()\n",
    "\n",
    "    plt.savefig(f'./output/M132TS__short_long_gex_concordance__{output_suffix_dict[barcode_group_key]}.pdf')"
   ]
  },
  {
   "cell_type": "code",
   "execution_count": null,
   "metadata": {},
   "outputs": [],
   "source": []
  }
 ],
 "metadata": {
  "environment": {
   "name": "pytorch-gpu.1-7.m65",
   "type": "gcloud",
   "uri": "gcr.io/deeplearning-platform-release/pytorch-gpu.1-7:m65"
  },
  "kernelspec": {
   "display_name": "Python 3",
   "language": "python",
   "name": "python3"
  },
  "language_info": {
   "codemirror_mode": {
    "name": "ipython",
    "version": 3
   },
   "file_extension": ".py",
   "mimetype": "text/x-python",
   "name": "python",
   "nbconvert_exporter": "python",
   "pygments_lexer": "ipython3",
   "version": "3.7.10"
  }
 },
 "nbformat": 4,
 "nbformat_minor": 4
}
