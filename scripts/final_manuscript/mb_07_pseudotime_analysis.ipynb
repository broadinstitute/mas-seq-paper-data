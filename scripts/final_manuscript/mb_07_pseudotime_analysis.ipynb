{
 "cells": [
  {
   "cell_type": "markdown",
   "metadata": {},
   "source": [
    "## Diffusion Pesudotime (DPT) analysis\n",
    "\n",
    "**Inputs and Outputs**\n",
    "- Inputs:\n",
    "  - harmonized short-reads and long-reads adata object (raw)\n",
    "  - harmonized short-reads and long-reads adata object (SCT)\n",
    "  - manual (decision-tree-based) annotations of PTPRC\n",
    "  - (optional) a list of splice factors\n",
    "- Outputs:\n",
    "  - DPT figures\n",
    "  - (optional) splice factors correlated with PTPRC isoforms"
   ]
  },
  {
   "cell_type": "code",
   "execution_count": null,
   "metadata": {},
   "outputs": [],
   "source": [
    "import os\n",
    "import sys\n",
    "\n",
    "import matplotlib.pylab as plt\n",
    "import colorcet as cc\n",
    "import numpy as np\n",
    "import pandas as pd\n",
    "from time import time\n",
    "import logging\n",
    "import pickle\n",
    "import gffutils\n",
    "import pysam\n",
    "import umap\n",
    "import scanpy as sc\n",
    "import pickle\n",
    "\n",
    "SMALL_SIZE = 12\n",
    "MEDIUM_SIZE = 14\n",
    "BIGGER_SIZE = 16\n",
    "\n",
    "plt.rc('font', size=SMALL_SIZE)          # controls default text sizes\n",
    "plt.rc('axes', titlesize=SMALL_SIZE)     # fontsize of the axes title\n",
    "plt.rc('axes', labelsize=MEDIUM_SIZE)    # fontsize of the x and y labels\n",
    "plt.rc('xtick', labelsize=SMALL_SIZE)    # fontsize of the tick labels\n",
    "plt.rc('ytick', labelsize=SMALL_SIZE)    # fontsize of the tick labels\n",
    "plt.rc('legend', fontsize=SMALL_SIZE)    # legend fontsize\n",
    "plt.rc('figure', titlesize=BIGGER_SIZE)  # fontsize of the figure title\n",
    "\n",
    "logger = logging.getLogger()\n",
    "logger.setLevel(logging.INFO)\n",
    "log_info = print\n",
    "\n",
    "sc.set_figure_params(dpi=80)\n",
    "sc.settings.set_figure_params(dpi=80, facecolor='white')"
   ]
  },
  {
   "cell_type": "code",
   "execution_count": null,
   "metadata": {},
   "outputs": [],
   "source": [
    "repo_root = '/home/jupyter/mb-ml-data-disk/MAS-seq-analysis'\n",
    "\n",
    "# inputs\n",
    "input_prefix = 'M132TS_immune.revised_v2.harmonized'\n",
    "output_path = 'output/t-cell-vdj-cite-seq'\n",
    "\n",
    "final_short_adata_raw_h5_path = os.path.join(repo_root, output_path, f'{input_prefix}.short.stringtie.final.raw.h5ad')\n",
    "final_short_adata_sct_h5_path = os.path.join(repo_root, output_path, f'{input_prefix}.short.stringtie.final.sct.h5ad')\n",
    "final_long_adata_raw_h5_path = os.path.join(repo_root, output_path, f'{input_prefix}.long.stringtie.final.raw.ext.h5ad')\n",
    "\n",
    "# manual isoform annotation quant\n",
    "manual_adata_long_annotation_quants_path = os.path.join(repo_root, 'output/t-cell-vdj-cite-seq/manual_annotations')"
   ]
  },
  {
   "cell_type": "markdown",
   "metadata": {},
   "source": [
    "## Configuration"
   ]
  },
  {
   "cell_type": "code",
   "execution_count": null,
   "metadata": {},
   "outputs": [],
   "source": [
    "min_cells_per_transcript = 2\n",
    "group_cells_by_obs_key = 'mehrtash_leiden'"
   ]
  },
  {
   "cell_type": "markdown",
   "metadata": {},
   "source": [
    "## Preprocess"
   ]
  },
  {
   "cell_type": "code",
   "execution_count": null,
   "metadata": {},
   "outputs": [],
   "source": [
    "adata_short_sct = sc.read(final_short_adata_sct_h5_path)\n",
    "adata_short_raw = sc.read(final_short_adata_raw_h5_path)"
   ]
  },
  {
   "cell_type": "code",
   "execution_count": null,
   "metadata": {},
   "outputs": [],
   "source": [
    "# from scipy.sparse import hstack as sparse_hstack\n",
    "\n",
    "# def extend_adata(old_adata: sc.AnnData, new_adata: sc.AnnData) -> sc.AnnData:\n",
    "\n",
    "#     old_barcodes = old_adata.obs.index.values\n",
    "#     old_X = old_adata.X\n",
    "#     new_barcodes = new_adata.obs.index.values\n",
    "#     new_X = new_adata.X\n",
    "\n",
    "#     new_barcodes_to_idx_map = {barcode: idx for idx, barcode in enumerate(new_barcodes)}\n",
    "#     assert all(barcode in new_barcodes_to_idx_map for barcode in set(old_barcodes))\n",
    "#     kept_new_barcode_indices = list(map(new_barcodes_to_idx_map.get, old_barcodes))\n",
    "#     new_X_kept = new_X[kept_new_barcode_indices, :]\n",
    "\n",
    "#     merged_var = pd.concat((old_adata.var, new_adata.var))\n",
    "#     try:\n",
    "#         merged_X = sparse_hstack((old_X, new_X_kept)).tocsr()\n",
    "#     except:\n",
    "#         merged_X = np.hstack((old_X, new_X_kept)).copy()\n",
    "\n",
    "#     merged_adata = sc.AnnData(\n",
    "#         X=merged_X,\n",
    "#         obs=old_adata.obs,\n",
    "#         var=merged_var,\n",
    "#         uns=old_adata.uns,\n",
    "#         obsm=old_adata.obsm)\n",
    "    \n",
    "#     return merged_adata"
   ]
  },
  {
   "cell_type": "code",
   "execution_count": null,
   "metadata": {},
   "outputs": [],
   "source": [
    "adata_long_raw = sc.read(final_long_adata_raw_h5_path)\n",
    "\n",
    "# # extend adata with manual annotations\n",
    "# for dirname, _, filenames in os.walk(manual_adata_long_annotation_quants_path):\n",
    "#     for filename in filenames:\n",
    "#         manual_adata_long_path = os.path.join(dirname, filename)\n",
    "#         log_info(f'Adding manual isoform annotations from {manual_adata_long_path} ...')\n",
    "#         if manual_adata_long_path.split('.')[-1] != 'h5ad':\n",
    "#             continue\n",
    "#         manual_adata_long = sc.read(manual_adata_long_path)\n",
    "#         adata_long_raw = extend_adata(adata_long_raw, manual_adata_long)\n",
    "# adata_long_raw.X = adata_long_raw.X.tocsr()"
   ]
  },
  {
   "cell_type": "code",
   "execution_count": null,
   "metadata": {},
   "outputs": [],
   "source": [
    "# recover raw data\n",
    "adata = adata_short_sct.copy()\n",
    "adata.raw = adata_short_raw\n",
    "adata.X = adata.X.astype('float64')"
   ]
  },
  {
   "cell_type": "markdown",
   "metadata": {},
   "source": [
    "## Preprocessing"
   ]
  },
  {
   "cell_type": "code",
   "execution_count": null,
   "metadata": {},
   "outputs": [],
   "source": [
    "n_sct_features = 3000\n",
    "n_pcs = 20\n",
    "n_neighbors = 50\n",
    "metric = 'euclidean'\n",
    "\n",
    "adata.var['rv'] = np.var(adata.X, axis=0)\n",
    "rv_cutoff = np.sort(adata.var['rv'])[::-1][n_sct_features]\n",
    "adata.var['hv'] = adata.var['rv'] > rv_cutoff\n",
    "adata = adata[:, adata.var['hv']]\n",
    "sc.pp.scale(adata)\n",
    "sc.tl.pca(adata, svd_solver='arpack', n_comps=n_pcs)\n",
    "sc.pp.neighbors(adata, n_neighbors=n_neighbors, n_pcs=n_pcs, metric=metric)"
   ]
  },
  {
   "cell_type": "code",
   "execution_count": null,
   "metadata": {},
   "outputs": [],
   "source": [
    "sc.tl.draw_graph(adata, random_state=3)"
   ]
  },
  {
   "cell_type": "code",
   "execution_count": null,
   "metadata": {},
   "outputs": [],
   "source": [
    "fig, ax = plt.subplots(figsize=(4, 4))\n",
    "sc.pl.draw_graph(adata, color='mehrtash_leiden', legend_fontsize='x-small', ax=ax, size=16)"
   ]
  },
  {
   "cell_type": "markdown",
   "metadata": {},
   "source": [
    "## (Optional) Denoising the graph\n",
    "\n",
    "We skip this step."
   ]
  },
  {
   "cell_type": "code",
   "execution_count": null,
   "metadata": {},
   "outputs": [],
   "source": [
    "sc.tl.diffmap(adata)\n",
    "sc.pp.neighbors(adata, n_neighbors=n_neighbors, use_rep='X_diffmap')\n",
    "\n",
    "sc.tl.draw_graph(adata)\n",
    "\n",
    "fig, ax = plt.subplots(figsize=(4, 4))\n",
    "sc.pl.draw_graph(adata, color='mehrtash_leiden', legend_fontsize='x-small', ax=ax, size=8)"
   ]
  },
  {
   "cell_type": "markdown",
   "metadata": {},
   "source": [
    "## Clustering with PAGA"
   ]
  },
  {
   "cell_type": "code",
   "execution_count": null,
   "metadata": {},
   "outputs": [],
   "source": [
    "sc.tl.paga(adata, groups='mehrtash_leiden')"
   ]
  },
  {
   "cell_type": "code",
   "execution_count": null,
   "metadata": {},
   "outputs": [],
   "source": [
    "fig, ax = plt.subplots(figsize=(4, 4))\n",
    "sc.pl.paga(\n",
    "    adata,\n",
    "    color=['mehrtash_leiden'],\n",
    "    threshold=0.1,\n",
    "    ax=ax,\n",
    "    fontsize='x-small',\n",
    "    fontoutline=3)"
   ]
  },
  {
   "cell_type": "code",
   "execution_count": null,
   "metadata": {},
   "outputs": [],
   "source": [
    "# sc.tl.draw_graph(adata, init_pos='paga')"
   ]
  },
  {
   "cell_type": "code",
   "execution_count": null,
   "metadata": {},
   "outputs": [],
   "source": [
    "fig, ax = plt.subplots(figsize=(4, 4))\n",
    "sc.pl.draw_graph(adata, color='mehrtash_leiden', legend_fontsize='x-small', ax=ax, size=16)"
   ]
  },
  {
   "cell_type": "code",
   "execution_count": null,
   "metadata": {},
   "outputs": [],
   "source": [
    "adata_paga = adata.copy()"
   ]
  },
  {
   "cell_type": "markdown",
   "metadata": {},
   "source": [
    "## Difficusion Pseudotime Analysis\n",
    "\n",
    "Adapated from https://scanpy-tutorials.readthedocs.io/en/latest/paga-paul15.html.  We are replacing Seurat's SCT with [Paul15] normalization recipe."
   ]
  },
  {
   "cell_type": "code",
   "execution_count": null,
   "metadata": {},
   "outputs": [],
   "source": [
    "dpt_clusters = [\n",
    "    'SMC',\n",
    "    'EA',\n",
    "    'A/EE',\n",
    "    'CE',\n",
    "    'TD II',\n",
    "]\n",
    "\n",
    "adata_dpt = adata_paga.copy()\n",
    "adata_dpt = adata_dpt[adata_dpt.obs['mehrtash_leiden'].isin(dpt_clusters), :]"
   ]
  },
  {
   "cell_type": "code",
   "execution_count": null,
   "metadata": {},
   "outputs": [],
   "source": [
    "adata_dpt.uns['iroot'] = np.flatnonzero(adata_dpt.obs['mehrtash_leiden']  == 'SMC')[0]"
   ]
  },
  {
   "cell_type": "code",
   "execution_count": null,
   "metadata": {},
   "outputs": [],
   "source": [
    "sc.tl.dpt(adata_dpt)"
   ]
  },
  {
   "cell_type": "code",
   "execution_count": null,
   "metadata": {},
   "outputs": [],
   "source": [
    "adata_raw = adata_dpt.raw.to_adata()\n",
    "sc.pp.log1p(adata_raw)\n",
    "sc.pp.scale(adata_raw)\n",
    "adata_dpt.raw = adata_raw"
   ]
  },
  {
   "cell_type": "code",
   "execution_count": null,
   "metadata": {},
   "outputs": [],
   "source": [
    "sc.set_figure_params(dpi=80)\n",
    "sc.pl.draw_graph(adata_dpt, color=['mehrtash_leiden', 'dpt_pseudotime'], legend_loc='on data', legend_fontsize='xx-small', legend_fontoutline=2)"
   ]
  },
  {
   "cell_type": "code",
   "execution_count": null,
   "metadata": {},
   "outputs": [],
   "source": [
    "adata_dpt"
   ]
  },
  {
   "cell_type": "code",
   "execution_count": null,
   "metadata": {},
   "outputs": [],
   "source": [
    "sc.pl.draw_graph(adata_dpt, color=['mehrtash_leiden', 'dpt_pseudotime', 'HNRNPLL', 'CD2BP2'], legend_loc='on data', legend_fontsize='x-small', size=50, cmap=plt.cm.jet)"
   ]
  },
  {
   "cell_type": "markdown",
   "metadata": {},
   "source": [
    "## Add DPT coordinates to long adata"
   ]
  },
  {
   "cell_type": "code",
   "execution_count": null,
   "metadata": {},
   "outputs": [],
   "source": [
    "adata_long_dpt = adata_long_raw.copy()[adata_dpt.obs.index]\n",
    "adata_long_dpt.obs['dpt_pseudotime'] = adata_dpt.obs['dpt_pseudotime']\n",
    "adata_long_dpt.obsm['X_draw_graph_fa'] = adata_dpt.obsm['X_draw_graph_fa']\n",
    "adata_long_dpt.uns['draw_graph'] = adata_dpt.uns['draw_graph']"
   ]
  },
  {
   "cell_type": "code",
   "execution_count": null,
   "metadata": {},
   "outputs": [],
   "source": [
    "# # select isoforms for a gene\n",
    "# gene_name = 'PTPRC'\n",
    "# transcript_names = adata_long_dpt[:, adata_long_dpt.var['gene_names'] == gene_name].var.index.values.tolist()"
   ]
  },
  {
   "cell_type": "code",
   "execution_count": null,
   "metadata": {},
   "outputs": [],
   "source": [
    "# ... or select isoforms manually\n",
    "transcript_ids = [\n",
    "    'aggr__CD45RABC',\n",
    "    'aggr__CD45RBC',\n",
    "    'aggr__CD45RAB',\n",
    "    'aggr__CD45RB',\n",
    "    'aggr__CD45RO',\n",
    "]\n",
    "\n",
    "transcript_names_in_fig = [\n",
    "    'CD45RABC',\n",
    "    'CD45RBC',\n",
    "    'CD45RAB',\n",
    "    'CD45RB',\n",
    "    'CD45RO',\n",
    "]\n",
    "\n",
    "# genes to show total expression alongside the isoforms\n",
    "gene_names = ['HNRNPLL']"
   ]
  },
  {
   "cell_type": "code",
   "execution_count": null,
   "metadata": {},
   "outputs": [],
   "source": [
    "# define pseudotime range for plotting\n",
    "sorted_pseudotime = np.sort(adata_long_dpt.obs['dpt_pseudotime'].values)\n",
    "min_pseudotime = sorted_pseudotime[int(0.0001 * len(sorted_pseudotime))]\n",
    "max_pseudotime = sorted_pseudotime[int(0.999 * len(sorted_pseudotime))]\n",
    "plt.plot(sorted_pseudotime, np.arange(len(sorted_pseudotime)))\n",
    "plt.xlabel('pseudotime')\n",
    "plt.ylabel('cell rank')\n",
    "plt.axvline(min_pseudotime, color='black')\n",
    "plt.axvline(max_pseudotime, color='black')"
   ]
  },
  {
   "cell_type": "code",
   "execution_count": null,
   "metadata": {},
   "outputs": [],
   "source": [
    "sc.set_figure_params(dpi=80)\n",
    "sc.pl.draw_graph(adata_long_dpt, color=['dpt_pseudotime'] + transcript_ids, legend_loc='on data', legend_fontsize='xx-small', cmap=plt.cm.Blues)"
   ]
  },
  {
   "cell_type": "code",
   "execution_count": null,
   "metadata": {},
   "outputs": [],
   "source": [
    "sc.pl.draw_graph(\n",
    "    adata_dpt,\n",
    "    color=['mehrtash_leiden', 'dpt_pseudotime'] + gene_names,\n",
    "    legend_loc='on data',\n",
    "    legend_fontsize='x-small',\n",
    "    size=50,\n",
    "    cmap=plt.cm.Blues)"
   ]
  },
  {
   "cell_type": "markdown",
   "metadata": {},
   "source": [
    "## Generate expression gradient bars along pseudotime"
   ]
  },
  {
   "cell_type": "code",
   "execution_count": null,
   "metadata": {},
   "outputs": [],
   "source": [
    "from sklearn.neighbors import KNeighborsRegressor\n",
    "\n",
    "def gaussian_kernel(distances, width):\n",
    "    return np.exp(-distances**2 / width**2)\n",
    "\n",
    "def get_kr_smooth(x, y, n_neighbors=50, kernel_width=0.1, x_plot=None):\n",
    "    if x_plot is None:\n",
    "        x_plot = x\n",
    "    good_indices = np.isfinite(x)\n",
    "    x = x[good_indices]\n",
    "    y = y[good_indices]\n",
    "    weights = lambda distances: gaussian_kernel(distances, kernel_width)\n",
    "    reg = KNeighborsRegressor(n_neighbors=n_neighbors, weights=weights)\n",
    "    reg.fit(x[:, None], y)\n",
    "    y_knn = reg.predict(x_plot[:, None]) \n",
    "    return y_knn"
   ]
  },
  {
   "cell_type": "code",
   "execution_count": null,
   "metadata": {},
   "outputs": [],
   "source": [
    "# constants\n",
    "GENE_IDS_KEY = 'gene_ids'\n",
    "GENE_NAMES_KEY = 'gene_names'\n",
    "\n",
    "# mapping from gene id to spanning tx icatces\n",
    "from collections import defaultdict\n",
    "gene_id_to_tx_indices_map = defaultdict(list)\n",
    "for i, gid in enumerate(adata_long_raw.var[GENE_IDS_KEY].values):\n",
    "    if isinstance(gid, str):\n",
    "        gene_id_to_tx_indices_map[gid].append(i)\n",
    "\n",
    "# useful auxiliary data structures    \n",
    "gene_ids = sorted(list(gene_id_to_tx_indices_map.keys()))\n",
    "n_genes = len(gene_ids)\n",
    "n_transcripts = adata_long_raw.shape[1]\n",
    "gene_id_to_gene_name_map = {\n",
    "    gene_id: gene_name for gene_id, gene_name in zip(adata_long_raw.var[GENE_IDS_KEY], adata_long_raw.var[GENE_NAMES_KEY])}\n",
    "gene_name_to_gene_id_map = {\n",
    "    gene_name: gene_id for gene_id, gene_name in zip(adata_long_raw.var[GENE_IDS_KEY], adata_long_raw.var[GENE_NAMES_KEY])}"
   ]
  },
  {
   "cell_type": "code",
   "execution_count": null,
   "metadata": {},
   "outputs": [],
   "source": [
    "import scipy\n",
    "\n",
    "# get gene expression from isoform expression\n",
    "row_indices = []\n",
    "col_indices = []\n",
    "values = []\n",
    "for j, gene_id in enumerate(gene_ids):\n",
    "    tx_indices = gene_id_to_tx_indices_map[gene_id]\n",
    "    row_indices += tx_indices\n",
    "    col_indices += [j] * len(tx_indices)\n",
    "    values += [1] * len(tx_indices)\n",
    "Y_ij = scipy.sparse.coo_matrix((values, (row_indices, col_indices)), shape=(n_transcripts, n_genes)).tocsr()\n",
    "gex_X_nj = adata_long_raw.X @ Y_ij\n",
    "\n",
    "# normalize\n",
    "adata_long_gex = sc.AnnData(\n",
    "    X=gex_X_nj,\n",
    "    obs=adata_long_raw.obs,\n",
    "    var=pd.DataFrame(index=pd.Index(list(map(gene_id_to_gene_name_map.get, gene_ids)))))\n",
    "\n",
    "adata_long_gex.var_names_make_unique()\n",
    "adata_long_gex = adata_long_gex[adata_long_dpt.obs.index].copy()\n",
    "# sc.pp.normalize_per_cell(adata_long_gex)\n",
    "# sc.pp.log1p(adata_long_gex)\n",
    "\n",
    "adata_short_gex = adata_short_raw[adata_long_dpt.obs.index].copy()"
   ]
  },
  {
   "cell_type": "code",
   "execution_count": null,
   "metadata": {},
   "outputs": [],
   "source": [
    "# for normalization\n",
    "log1p_transform = False\n",
    "simplex_transform = True\n",
    "normalize_separately = False\n",
    "final_trans = lambda x: x # np.power(x, 0.5)\n",
    "\n",
    "# for smoothing and plotting\n",
    "kernel_width = 0.005\n",
    "x_plot_num_points = 1000\n",
    "\n",
    "adata_gex = adata_short_gex\n",
    "\n",
    "n_neighbors = adata_long_dpt.shape[0] - 1\n",
    "\n",
    "heatmaps = []\n",
    "x = adata_long_dpt.obs['dpt_pseudotime'].values\n",
    "\n",
    "for transcript_id in transcript_ids:\n",
    "    \n",
    "    # get the raw isoform expression counts\n",
    "    try:\n",
    "        y = np.asarray(adata_long_dpt[:, adata_long_dpt.var.index.values == transcript_id].X.todense()).flatten()\n",
    "    except:\n",
    "        y = adata_long_dpt[:, adata_long_dpt.var.index.values == transcript_id].X.flatten().copy()\n",
    "    \n",
    "    # transform\n",
    "    if log1p_transform:\n",
    "        y = np.log1p(y)\n",
    "    \n",
    "    x_plot = np.linspace(min_pseudotime, max_pseudotime, num=x_plot_num_points)\n",
    "    y_smooth = get_kr_smooth(x, y, x_plot=x_plot, n_neighbors=n_neighbors, kernel_width=kernel_width)\n",
    "    heatmaps.append(y_smooth)\n",
    "\n",
    "\n",
    "for gene_name in gene_names:\n",
    "    \n",
    "    # get the raw isoform expression counts\n",
    "    try:\n",
    "        y = np.asarray(adata_gex[:, adata_gex.var.index.values == gene_name].X.todense()).flatten()\n",
    "    except:\n",
    "        y = adata_gex[:, adata_gex.var.index.values == gene_name].X.flatten().copy()\n",
    "    \n",
    "    # transform\n",
    "    if log1p_transform:\n",
    "        y = np.log1p(y)\n",
    "    \n",
    "    x_plot = np.linspace(min_pseudotime, max_pseudotime, num=x_plot_num_points)\n",
    "    y_smooth = get_kr_smooth(x, y, x_plot=x_plot, n_neighbors=n_neighbors, kernel_width=kernel_width)\n",
    "    heatmaps.append(y_smooth)\n",
    "\n",
    "heatmaps = np.asarray(heatmaps)\n",
    "\n",
    "heatmap_tx_inds = np.arange(0, len(transcript_ids))\n",
    "heatmap_gene_inds = np.arange(len(transcript_ids), len(transcript_ids) + len(gene_names))\n",
    "\n",
    "if simplex_transform:\n",
    "    heatmaps[heatmap_tx_inds] = heatmaps[heatmap_tx_inds] / (\n",
    "        np.sum(heatmaps[heatmap_tx_inds], 0)[None, :] + 1e-12)\n",
    "    \n",
    "if normalize_separately:\n",
    "    heatmaps[heatmap_tx_inds] = heatmaps[heatmap_tx_inds] / (\n",
    "        np.max(heatmaps[heatmap_tx_inds], axis=1)[:, None] + 1e-12)\n",
    "\n",
    "heatmaps[heatmap_gene_inds] = heatmaps[heatmap_gene_inds] / (\n",
    "    np.max(heatmaps[heatmap_gene_inds], axis=1)[:, None] + 1e-12)\n",
    "\n",
    "heatmaps = final_trans(heatmaps)"
   ]
  },
  {
   "cell_type": "code",
   "execution_count": null,
   "metadata": {},
   "outputs": [],
   "source": [
    "def hex_to_rgb(value):\n",
    "    value = value.lstrip('#')\n",
    "    lv = len(value)\n",
    "    return np.asarray(tuple(int(value[i:i + lv // 3], 16) for i in range(0, lv, lv // 3))) / 255.\n",
    "\n",
    "leiden_id_to_leiden_color_map = {\n",
    "    adata_long_dpt.obs['mehrtash_leiden'].values.categories[i]: hex_to_rgb(adata_long_dpt.uns['mehrtash_leiden_colors'][i])\n",
    "    for i in range(len(adata_long_dpt.obs['mehrtash_leiden'].values.categories))}\n",
    "\n",
    "cell_colors_nc = np.asarray(list(map(leiden_id_to_leiden_color_map.get, adata_long_dpt.obs['mehrtash_leiden'].values)))\n",
    "\n",
    "cluster_img_xc = np.zeros((len(x_plot), 3))\n",
    "pt_array = adata_long_dpt.obs['dpt_pseudotime'].values\n",
    "k = 5\n",
    "for i, pt in enumerate(x_plot):\n",
    "    indices = np.argsort(np.abs(pt_array - pt))\n",
    "    color = np.mean(cell_colors_nc[indices][:k], axis=0)\n",
    "    cluster_img_xc[i] = color"
   ]
  },
  {
   "cell_type": "code",
   "execution_count": null,
   "metadata": {},
   "outputs": [],
   "source": [
    "# Create figure and adjust figure height to number of colormaps\n",
    "nrows = len(transcript_ids) + len(gene_names) + 4\n",
    "figh = 0.35 + 0.15 + (nrows + (nrows - 1) * 0.1) * 0.22\n",
    "fig, axs = plt.subplots(nrows=nrows + 1, figsize=(2, figh))\n",
    "fig.subplots_adjust(top=1 - 0.35 / figh, bottom=0.15 / figh,\n",
    "                    left=0.2, right=0.99)\n",
    "\n",
    "max_value = 0.7 * np.max(heatmaps)\n",
    "min_value = np.min(heatmaps)\n",
    "heatmap_sum = np.asarray(heatmaps).sum(0)\n",
    "\n",
    "n = len(transcript_names_in_fig)\n",
    "for ax, name, heatmap in zip(axs[:n], transcript_names_in_fig, heatmaps[:n]):\n",
    "    img = np.vstack((heatmap, heatmap))\n",
    "    ax.imshow(img, aspect='auto', cmap=plt.cm.gray_r, vmin=0., vmax=max_value)\n",
    "    ax.text(-0.05, 0.5, name, va='center', ha='right', fontsize=10,\n",
    "            transform=ax.transAxes)\n",
    "\n",
    "m = len(gene_names)\n",
    "for ax, name, heatmap in zip(axs[(n + 1):(n + m + 1)], gene_names, heatmaps[n:(n + m)]):\n",
    "    img = np.vstack((heatmap, heatmap))\n",
    "    vmax = np.max(heatmap)\n",
    "    vmax = max_value\n",
    "    ax.imshow(img, aspect='auto', cmap=plt.cm.Reds, vmin=0, vmax=vmax)\n",
    "    ax.text(-0.05, 0.5, name, va='center', ha='right', fontsize=10,\n",
    "            transform=ax.transAxes)\n",
    "\n",
    "# cluster\n",
    "ax = axs[-3]\n",
    "img = np.vstack((cluster_img_xc[None, ...], cluster_img_xc[None, ...]))\n",
    "ax.imshow(img, aspect='auto')\n",
    "ax.text(-0.05, 0.5, 'Cluster', va='center', ha='right', fontsize=10, transform=ax.transAxes)\n",
    "\n",
    "# pseudotime\n",
    "ax = axs[-1]\n",
    "img = np.vstack((x_plot, x_plot))\n",
    "ax.imshow(img, aspect='auto', cmap=plt.cm.Blues, vmin=min_pseudotime, vmax=max_pseudotime)\n",
    "ax.text(-0.05, 0.5, 'Pseudotime', va='center', ha='right', fontsize=10, transform=ax.transAxes)\n",
    "    \n",
    "# Turn off *all* ticks & spines, not just the ones with colormaps.\n",
    "for ax in axs:\n",
    "    ax.set_axis_off()\n",
    "    \n",
    "plt.savefig('./output/M132TS__pseudotime__PTPRC.pdf', bbox_inches=\"tight\")"
   ]
  },
  {
   "cell_type": "markdown",
   "metadata": {},
   "source": [
    "## Make final plots"
   ]
  },
  {
   "cell_type": "code",
   "execution_count": null,
   "metadata": {},
   "outputs": [],
   "source": [
    "def plot_embedding_leiden(\n",
    "        adata: sc.AnnData,\n",
    "        embedding_key: str,\n",
    "        leiden_key: str,\n",
    "        markersize=2,\n",
    "        alpha=0.75,\n",
    "        xlabel='UMAP1',\n",
    "        ylabel='UMAP2',\n",
    "        label_kwargs=dict(bbox=dict(boxstyle='round', facecolor='white', alpha=0.8)),\n",
    "        x_offset=dict(),\n",
    "        y_offset=dict(),\n",
    "        fig=None,\n",
    "        ax=None,\n",
    "        show_labels=True,\n",
    "        figsize=(3, 3)):\n",
    "    \n",
    "    if ax is None or fig is None:\n",
    "        fig, ax = plt.subplots(figsize=figsize)\n",
    "\n",
    "    leiden_color_key = f'{leiden_key}_colors'\n",
    "    assert leiden_color_key in set(adata.uns.keys())\n",
    "\n",
    "    leiden_category_to_leiden_color_map = {\n",
    "        leiden_category: leiden_color\n",
    "        for leiden_color, leiden_category in zip(\n",
    "            adata.uns[leiden_color_key],\n",
    "            adata.obs[leiden_key].values.categories)}\n",
    "    cell_color_list = list(\n",
    "        map(leiden_category_to_leiden_color_map.get, adata.obs[leiden_key]))\n",
    "\n",
    "    ax.scatter(\n",
    "        adata.obsm[embedding_key][:, 0],\n",
    "        adata.obsm[embedding_key][:, 1],\n",
    "        color=cell_color_list,\n",
    "        s=markersize,\n",
    "        alpha=alpha)\n",
    "\n",
    "    ax.set_xticks([])\n",
    "    ax.set_yticks([])\n",
    "\n",
    "    ax.set_xlabel(xlabel)\n",
    "    ax.set_ylabel(ylabel)\n",
    "\n",
    "    if show_labels:\n",
    "        for leiden_category in adata.obs[leiden_key].values.categories:\n",
    "            try:\n",
    "                dx = x_offset[leiden_category]\n",
    "                dy = y_offset[leiden_category]\n",
    "            except KeyError:\n",
    "                dx = 0\n",
    "                dy = 0\n",
    "            x_values = adata.obsm[embedding_key][adata.obs[leiden_key] == leiden_category, 0] + dx\n",
    "            y_values = adata.obsm[embedding_key][adata.obs[leiden_key] == leiden_category, 1] + dy\n",
    "            x_c, y_c = np.mean(x_values), np.mean(y_values)\n",
    "            ax.text(\n",
    "                x_c, y_c, leiden_category,\n",
    "                fontsize=8,\n",
    "                ha='center',\n",
    "                **label_kwargs)\n",
    "\n",
    "def plot_embedding_continuous(\n",
    "        adata: sc.AnnData,\n",
    "        embedding_key: str,\n",
    "        values: np.ndarray,\n",
    "        cmap=plt.cm.Blues,\n",
    "        markersize=2,\n",
    "        alpha=0.75,\n",
    "        xlabel='UMAP1',\n",
    "        ylabel='UMAP2',\n",
    "        fig=None,\n",
    "        ax=None,\n",
    "        sort=True,\n",
    "        figsize=(3, 3),\n",
    "        **kwargs):\n",
    "    \n",
    "    if ax is None or fig is None:\n",
    "        fig, ax = plt.subplots(figsize=figsize)\n",
    "\n",
    "    if sort:\n",
    "        order = np.argsort(values)\n",
    "    else:\n",
    "        order = np.arange(len(values))\n",
    "    scatter = ax.scatter(\n",
    "        adata.obsm[embedding_key][order, 0],\n",
    "        adata.obsm[embedding_key][order, 1],\n",
    "        c=values[order],\n",
    "        cmap=cmap,\n",
    "        s=markersize,\n",
    "        alpha=alpha,\n",
    "        **kwargs)\n",
    "\n",
    "    ax.set_xticks([])\n",
    "    ax.set_yticks([])\n",
    "\n",
    "    ax.set_xlabel(xlabel)\n",
    "    ax.set_ylabel(ylabel)\n",
    "    \n",
    "    return scatter"
   ]
  },
  {
   "cell_type": "code",
   "execution_count": null,
   "metadata": {},
   "outputs": [],
   "source": [
    "fig, ax = plt.subplots(figsize=(3, 3))\n",
    "\n",
    "excluded_clusters = list(set(adata.obs['mehrtash_leiden'].values.categories).difference(set(dpt_clusters)))\n",
    "adata_excluded = adata[adata.obs['mehrtash_leiden'].values.isin(excluded_clusters), :].copy()\n",
    "adata_excluded.uns['mehrtash_leiden_colors'] = ['#c0c0c0'] * len(excluded_clusters)\n",
    "\n",
    "plot_embedding_leiden(\n",
    "    adata_excluded,\n",
    "    'X_draw_graph_fa',\n",
    "    'mehrtash_leiden',\n",
    "    xlabel='FA1',\n",
    "    ylabel='FA2',\n",
    "    label_kwargs=dict(\n",
    "        color='gray',\n",
    "        bbox=dict(boxstyle='round', facecolor='white', edgecolor='gray', alpha=0.8)),\n",
    "    ax=ax,\n",
    "    fig=fig\n",
    ")\n",
    "\n",
    "plot_embedding_leiden(\n",
    "    adata_dpt,\n",
    "    'X_draw_graph_fa',\n",
    "    'mehrtash_leiden',\n",
    "    xlabel='FA1',\n",
    "    ylabel='FA2',\n",
    "    ax=ax,\n",
    "    fig=fig\n",
    ")\n",
    "\n",
    "fig.tight_layout()\n",
    "plt.savefig('./output/M132TS__FA__clusters.pdf')"
   ]
  },
  {
   "cell_type": "code",
   "execution_count": null,
   "metadata": {},
   "outputs": [],
   "source": [
    "import sklearn\n",
    "\n",
    "fig, ax = plt.subplots(figsize=(3, 3))\n",
    "\n",
    "plot_embedding_continuous(\n",
    "    adata_dpt,\n",
    "    'X_draw_graph_fa',\n",
    "    adata_dpt.obs['dpt_pseudotime'],\n",
    "    xlabel='FA1',\n",
    "    ylabel='FA2',\n",
    "    ax=ax,\n",
    "    fig=fig)\n",
    "\n",
    "fig.tight_layout()\n",
    "plt.savefig('./output/M132TS__FA__pseudotime.pdf')"
   ]
  },
  {
   "cell_type": "code",
   "execution_count": null,
   "metadata": {},
   "outputs": [],
   "source": [
    "from mpl_toolkits.axes_grid1 import make_axes_locatable\n",
    "\n",
    "fig, ax = plt.subplots(figsize=(3, 3))\n",
    "\n",
    "gene_name = 'HNRNPLL'\n",
    "gex = np.log1p(np.asarray(adata_short_raw[adata_dpt.obs.index, adata_short_raw.var.index == gene_name].X.todense()).flatten())\n",
    "scatter = plot_embedding_continuous(\n",
    "    adata_dpt,\n",
    "    'X_draw_graph_fa',\n",
    "    values=gex,\n",
    "    xlabel='FA1',\n",
    "    ylabel='FA2',\n",
    "    ax=ax,\n",
    "    fig=fig,\n",
    "    vmin=0.5,\n",
    "    vmax=1,\n",
    "    alpha=0.5,\n",
    "    cmap=plt.cm.Reds\n",
    ")\n",
    "\n",
    "div = make_axes_locatable(ax)\n",
    "color_axis = div.append_axes(\"right\", size=\"5%\", pad=0.1)\n",
    "cbar = plt.colorbar(scatter, cax=color_axis)\n",
    "cbar.ax.tick_params(labelsize=12) \n",
    "\n",
    "plt.savefig('./output/M132TS__FA__HNRNPLL.pdf', bbox_inches=\"tight\")"
   ]
  },
  {
   "cell_type": "markdown",
   "metadata": {},
   "source": [
    "## Correltion analysis between splicing factors and pseudotime"
   ]
  },
  {
   "cell_type": "code",
   "execution_count": null,
   "metadata": {},
   "outputs": [],
   "source": [
    "# load annotations\n",
    "splicing_factor_df = pd.read_csv(\n",
    "    os.path.join(\n",
    "        repo_root,\n",
    "        'resources/QuickGO-annotations-1625175581785-20210701.tsv'),\n",
    "    delimiter='\\t')\n",
    "\n",
    "splicing_factor_gene_symbols = np.unique(splicing_factor_df['SYMBOL'].values)\n",
    "expressed_splicing_factor_gene_symbols = list(set(splicing_factor_gene_symbols).intersection(adata_raw.var.index.values))\n",
    "expressed_splicing_factor_df = splicing_factor_df.iloc[\n",
    "    splicing_factor_df['SYMBOL'].isin(expressed_splicing_factor_gene_symbols).values]\n",
    "print(f'Expressed splicing factors: {len(expressed_splicing_factor_gene_symbols)}')"
   ]
  },
  {
   "cell_type": "code",
   "execution_count": null,
   "metadata": {},
   "outputs": [],
   "source": [
    "adata_corr = adata_short_raw.copy()\n",
    "sc.pp.normalize_total(adata_corr)\n",
    "sc.pp.log1p(adata_corr)\n",
    "\n",
    "pt_array = adata_long_dpt.obs['dpt_pseudotime'].values"
   ]
  },
  {
   "cell_type": "code",
   "execution_count": null,
   "metadata": {},
   "outputs": [],
   "source": [
    "def plot_correlation(gene_name: str):\n",
    "    \n",
    "    x_plot_num_points = 1000\n",
    "    n_neighbors = adata_dpt.shape[0]\n",
    "    kernel_width = 0.02\n",
    "\n",
    "    gex_array = np.asarray(adata_corr[adata_dpt.obs.index, adata_corr.var.index == gene_name].X.todense()).flatten()\n",
    "\n",
    "    x_plot = np.linspace(0., 1., num=x_plot_num_points)\n",
    "    y_smooth = get_kr_smooth(pt_array, gex_array, x_plot=x_plot, n_neighbors=n_neighbors, kernel_width=kernel_width)\n",
    "    \n",
    "    fig, axs = plt.subplots(ncols=2, figsize=(9, 4))\n",
    "    \n",
    "    ax = axs[0]\n",
    "    ax.plot(x_plot, y_smooth)\n",
    "    ax.set_xlabel('Pseudotime')\n",
    "    ax.set_ylabel('Smoothed expression')\n",
    "    ax.set_title(gene_name)\n",
    "    \n",
    "    ax = axs[1]\n",
    "    scatter = plot_embedding_continuous(\n",
    "        adata_dpt,\n",
    "        'X_draw_graph_fa',\n",
    "        values=gex_array,\n",
    "        xlabel='FA1',\n",
    "        ylabel='FA2',\n",
    "        ax=ax,\n",
    "        fig=fig,\n",
    "        alpha=0.5,\n",
    "        cmap=plt.cm.Reds)\n",
    "\n",
    "    div = make_axes_locatable(ax)\n",
    "    color_axis = div.append_axes(\"right\", size=\"5%\", pad=0.1)\n",
    "    cbar = plt.colorbar(scatter, cax=color_axis)\n",
    "    cbar.ax.tick_params(labelsize=12)\n",
    "\n",
    "    return fig"
   ]
  },
  {
   "cell_type": "code",
   "execution_count": null,
   "metadata": {},
   "outputs": [],
   "source": [
    "gene_name = 'HNRNPA2B1'\n",
    "fig = plot_correlation(gene_name)\n",
    "fig.savefig(f'./output/M132TS__pseudotime_trend__{gene_name}.pdf')"
   ]
  },
  {
   "cell_type": "code",
   "execution_count": null,
   "metadata": {},
   "outputs": [],
   "source": [
    "from scipy.stats import spearmanr\n",
    "\n",
    "log_frequency = 200\n",
    "\n",
    "spearman_correlations = []\n",
    "spearman_pvals = []\n",
    "total_expressions = []\n",
    "\n",
    "for i, gene_name in enumerate(expressed_splicing_factor_gene_symbols):\n",
    "    \n",
    "    gex_array = np.asarray(adata_corr[adata_dpt.obs.index, adata_corr.var.index == gene_name].X.todense()).flatten()\n",
    "    \n",
    "    spearman_out = spearmanr(pt_array, gex_array)\n",
    "    spearman_correlations.append(spearman_out.correlation)\n",
    "    spearman_pvals.append(spearman_out.pvalue)\n",
    "    total_expressions.append(np.sum(gex_array))\n",
    "    \n",
    "    if i % log_frequency == 0:\n",
    "        log_info(f'Processing {i} ...')"
   ]
  },
  {
   "cell_type": "code",
   "execution_count": null,
   "metadata": {},
   "outputs": [],
   "source": [
    "# BH correction\n",
    "from statsmodels.stats.multitest import multipletests\n",
    "\n",
    "_, spearman_pvals_adj, _, _ = multipletests(\n",
    "    spearman_pvals,\n",
    "    alpha=0.10,\n",
    "    method='fdr_bh')"
   ]
  },
  {
   "cell_type": "code",
   "execution_count": null,
   "metadata": {},
   "outputs": [],
   "source": [
    "# generate concatenated GO terms\n",
    "concat_go_terms = []\n",
    "for gene_name in expressed_splicing_factor_gene_symbols:\n",
    "    concat_go_term = ', '.join(\n",
    "        sorted(set(expressed_splicing_factor_df[expressed_splicing_factor_df['SYMBOL'].values == gene_name]['GO NAME'].values)))\n",
    "    concat_go_terms.append(concat_go_term)"
   ]
  },
  {
   "cell_type": "code",
   "execution_count": null,
   "metadata": {},
   "outputs": [],
   "source": [
    "# make a dataframe\n",
    "splicing_factors_df = pd.DataFrame({\n",
    "    'gene_names': expressed_splicing_factor_gene_symbols,\n",
    "    'total_expression': total_expressions,\n",
    "    'go_terms': concat_go_terms,\n",
    "    'pseudotime_spearman_corr': spearman_correlations,\n",
    "    'pseudotime_spearman_pval': spearman_pvals,\n",
    "    'pseudotime_spearman_pval_adj': spearman_pvals_adj,\n",
    "})"
   ]
  },
  {
   "cell_type": "code",
   "execution_count": null,
   "metadata": {},
   "outputs": [],
   "source": [
    "splicing_factors_df = splicing_factors_df.sort_values(by='pseudotime_spearman_corr', axis=0, ascending=False)\n",
    "splicing_factors_df.reset_index(drop=True)"
   ]
  },
  {
   "cell_type": "code",
   "execution_count": null,
   "metadata": {},
   "outputs": [],
   "source": [
    "splicing_factors_df.to_csv('./output/M132TS__splicing_factor_corr.csv')"
   ]
  },
  {
   "cell_type": "markdown",
   "metadata": {},
   "source": [
    "## CD45 isoforms linear regression analysis"
   ]
  },
  {
   "cell_type": "code",
   "execution_count": null,
   "metadata": {},
   "outputs": [],
   "source": [
    "pred_transcript_ids = [\n",
    "    'aggr__CD45RABC',\n",
    "    'aggr__CD45RBC',\n",
    "    'aggr__CD45RAB',\n",
    "    'aggr__CD45RB',\n",
    "    'aggr__CD45RO',\n",
    "]"
   ]
  },
  {
   "cell_type": "code",
   "execution_count": null,
   "metadata": {},
   "outputs": [],
   "source": [
    "adata_gex = adata_short_raw[adata_dpt.obs.index].copy()"
   ]
  },
  {
   "cell_type": "code",
   "execution_count": null,
   "metadata": {},
   "outputs": [],
   "source": [
    "adata_long_norm = adata_long_raw[adata_dpt.obs.index].copy()"
   ]
  },
  {
   "cell_type": "code",
   "execution_count": null,
   "metadata": {},
   "outputs": [],
   "source": [
    "y = np.asarray(adata_long_norm[:, pred_transcript_ids].X.todense())"
   ]
  },
  {
   "cell_type": "code",
   "execution_count": null,
   "metadata": {},
   "outputs": [],
   "source": [
    "from sklearn.linear_model import LinearRegression, RidgeCV\n",
    "from sklearn.metrics import r2_score, explained_variance_score\n",
    "\n",
    "ev_score_list = []\n",
    "\n",
    "for gene_name in expressed_splicing_factor_gene_symbols:\n",
    "\n",
    "    x = np.asarray(adata_gex[:, gene_name].X.todense()).flatten()\n",
    "    fit = RidgeCV().fit(x[:, None], y)\n",
    "    y_pred = fit.predict(x[:, None])\n",
    "    \n",
    "    ev = explained_variance_score(y, y_pred)\n",
    "    ev_score_list.append(ev)"
   ]
  },
  {
   "cell_type": "code",
   "execution_count": null,
   "metadata": {},
   "outputs": [],
   "source": [
    "# make a dataframe\n",
    "splicing_factors_ptprc_df = pd.DataFrame({\n",
    "    'gene_names': expressed_splicing_factor_gene_symbols,\n",
    "    'total_expression': total_expressions,\n",
    "    'go_terms': concat_go_terms,\n",
    "    'ptprc_isoforms_explained_variance_score': ev_score_list,\n",
    "})"
   ]
  },
  {
   "cell_type": "code",
   "execution_count": null,
   "metadata": {},
   "outputs": [],
   "source": [
    "splicing_factors_ptprc_df = splicing_factors_ptprc_df.sort_values(\n",
    "    by='ptprc_isoforms_explained_variance_score', axis=0, ascending=False)\n",
    "splicing_factors_ptprc_df = splicing_factors_ptprc_df.reset_index(drop=True)"
   ]
  },
  {
   "cell_type": "code",
   "execution_count": null,
   "metadata": {},
   "outputs": [],
   "source": [
    "splicing_factors_ptprc_df"
   ]
  },
  {
   "cell_type": "code",
   "execution_count": null,
   "metadata": {},
   "outputs": [],
   "source": [
    "splicing_factors_ptprc_df.to_csv('./output/M132TS__splicing_factor_PTPRC.csv')"
   ]
  },
  {
   "cell_type": "code",
   "execution_count": null,
   "metadata": {},
   "outputs": [],
   "source": []
  },
  {
   "cell_type": "code",
   "execution_count": null,
   "metadata": {},
   "outputs": [],
   "source": []
  }
 ],
 "metadata": {
  "environment": {
   "name": "pytorch-gpu.1-7.m65",
   "type": "gcloud",
   "uri": "gcr.io/deeplearning-platform-release/pytorch-gpu.1-7:m65"
  },
  "kernelspec": {
   "display_name": "Python 3",
   "language": "python",
   "name": "python3"
  },
  "language_info": {
   "codemirror_mode": {
    "name": "ipython",
    "version": 3
   },
   "file_extension": ".py",
   "mimetype": "text/x-python",
   "name": "python",
   "nbconvert_exporter": "python",
   "pygments_lexer": "ipython3",
   "version": "3.7.10"
  }
 },
 "nbformat": 4,
 "nbformat_minor": 4
}
