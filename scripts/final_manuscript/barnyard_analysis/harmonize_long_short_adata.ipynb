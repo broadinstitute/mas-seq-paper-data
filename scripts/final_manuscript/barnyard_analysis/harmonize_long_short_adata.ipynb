{
 "cells": [
  {
   "cell_type": "code",
   "execution_count": null,
   "metadata": {},
   "outputs": [],
   "source": [
    "import matplotlib.pylab as plt\n",
    "import numpy as np\n",
    "import pandas as pd\n",
    "import os\n",
    "import sys\n",
    "from time import time\n",
    "import logging\n",
    "import pickle\n",
    "from operator import itemgetter\n",
    "import scanpy as sc\n",
    "import argparse\n",
    "import yaml\n",
    "\n",
    "SMALL_SIZE = 12\n",
    "MEDIUM_SIZE = 14\n",
    "BIGGER_SIZE = 16\n",
    "\n",
    "plt.rc('font', size=SMALL_SIZE)          # controls default text sizes\n",
    "plt.rc('axes', titlesize=SMALL_SIZE)     # fontsize of the axes title\n",
    "plt.rc('axes', labelsize=MEDIUM_SIZE)    # fontsize of the x and y labels\n",
    "plt.rc('xtick', labelsize=SMALL_SIZE)    # fontsize of the tick labels\n",
    "plt.rc('ytick', labelsize=SMALL_SIZE)    # fontsize of the tick labels\n",
    "plt.rc('legend', fontsize=SMALL_SIZE)    # legend fontsize\n",
    "plt.rc('figure', titlesize=BIGGER_SIZE)  # fontsize of the figure title\n",
    "\n",
    "logger = logging.getLogger()\n",
    "logger.setLevel(logging.INFO)\n",
    "log_info = logger.warn\n",
    "\n",
    "import warnings\n",
    "warnings.filterwarnings(\"ignore\")\n",
    "\n",
    "sc.settings.set_figure_params(dpi=80, facecolor='white')"
   ]
  },
  {
   "cell_type": "code",
   "execution_count": null,
   "metadata": {},
   "outputs": [],
   "source": [
    "parser = argparse.ArgumentParser(description='Harmonize short-read and long-reads AnnData objects')\n",
    "\n",
    "parser.add_argument(\n",
    "    '-s',\n",
    "    '--short',\n",
    "    help='Path to short-reads AnnData objects',\n",
    "    required=True)\n",
    "\n",
    "parser.add_argument(\n",
    "    '-l',\n",
    "    '--long',\n",
    "    help='Path to long-reads AnnData objects',\n",
    "    required=True)\n",
    "\n",
    "parser.add_argument(\n",
    "    '-o',\n",
    "    '--output-path',\n",
    "    help='Output path',\n",
    "    required=True)\n",
    "\n",
    "parser.add_argument(\n",
    "    '-p',\n",
    "    '--output-prefix',\n",
    "    help='Output prefix',\n",
    "    required=True)\n",
    "\n",
    "\n",
    "# input\n",
    "notebook_mode = True\n",
    "\n",
    "if notebook_mode:\n",
    "    short_h5_path = '/home/jupyter/mb-ml-data-disk/MAS-seq-analysis/output/t-cell-vdj-cite-seq/M132TS_both.h5ad'\n",
    "    long_h5_path = '/home/jupyter/mb-ml-data-disk/MAS-seq-analysis/data/t-cell-vdj/long/quant/revised_v2/M132TS_MAS_15x_clr_gene_tx_expression_count_matrix_tx_gene_counts_adata.h5ad'\n",
    "    output_prefix = 'M132TS_final_10x_clr'\n",
    "    output_path = '/home/jupyter/mb-ml-dev-disk/MAS-seq-analysis/notebooks/cd8_t_cell_vdj_citeseq__paper__sandbox/barnyard_analysis/revised_v2'\n",
    "    args = f'-s {short_h5_path} -l {long_h5_path} -o {output_path} -p {output_prefix}'.split(' ')\n",
    "    args = vars(parser.parse_args(args))\n",
    "\n",
    "else:\n",
    "    args = vars(parser.parse_args())"
   ]
  },
  {
   "cell_type": "code",
   "execution_count": null,
   "metadata": {},
   "outputs": [],
   "source": [
    "# constants\n",
    "ADATA_SHORT_GENE_IDS_COL = 'gene_ids'\n",
    "ADATA_LONG_GENE_IDS_COL = 'gene_ids'\n",
    "KNOWN_GENE_PREFIX = 'ENSG'\n",
    "DE_NOVO_GENE_PREFIX = 'MASG'\n",
    "\n",
    "# traits to propagate from short adata to long adata\n",
    "adata_short_obs_col_propagate = [\n",
    "    'CD45_TotalSeqC',\n",
    "    'CD45R_B220_TotalSeqC',\n",
    "    'CD45RA_TotalSeqC',\n",
    "    'CD45RO_TotalSeqC',\n",
    "    'leiden_crude']\n",
    "\n",
    "adata_short_obsm_col_propagate = [\n",
    "    'X_pca',\n",
    "    'X_umap']\n",
    "\n",
    "# input\n",
    "short_h5_path = args['short']\n",
    "long_h5_path = args['long']\n",
    "\n",
    "# output\n",
    "output_prefix = args['output_prefix']\n",
    "output_path = args['output_path']\n",
    "\n",
    "# make sure the output path exists\n",
    "os.makedirs(output_path, exist_ok=True)\n",
    "\n",
    "harmonized_long_adata_h5_path = os.path.join(\n",
    "    output_path, f'{output_prefix}.harmonized.barnyard.long.h5ad')\n",
    "harmonized_short_adata_h5_path = os.path.join(\n",
    "    output_path, f'{output_prefix}.harmonized.barnyard.short.h5ad')\n",
    "\n",
    "harmonized_long_adata_mutual_genes_h5_path = os.path.join(\n",
    "    output_path, f'{output_prefix}.harmonized.mutual_genes.barnyard.long.h5ad')\n",
    "harmonized_short_adata_mutual_genes_h5_path = os.path.join(\n",
    "    output_path, f'{output_prefix}.harmonized.mutual_genes.barnyard.short.h5ad')\n",
    "\n",
    "# metrics container\n",
    "metrics = dict()"
   ]
  },
  {
   "cell_type": "code",
   "execution_count": null,
   "metadata": {},
   "outputs": [],
   "source": [
    "# load short anndata\n",
    "log_info('Loading short-reads AnnData object...')\n",
    "adata_short = sc.read(short_h5_path).raw.to_adata()\n",
    "assert 'leiden_crude' in adata_short.obs.columns\n",
    "\n",
    "# load long anndata\n",
    "log_info('Loading long-reads AnnData object...')\n",
    "adata_long = sc.read(long_h5_path)\n",
    "adata_long.var_names_make_unique()\n",
    "adata_long.obs = adata_long.obs.drop('Cell Barcode', axis=1)"
   ]
  },
  {
   "cell_type": "code",
   "execution_count": null,
   "metadata": {},
   "outputs": [],
   "source": [
    "log_info('Inferring mutual barcodes and genes...')"
   ]
  },
  {
   "cell_type": "code",
   "execution_count": null,
   "metadata": {},
   "outputs": [],
   "source": [
    "n_barcodes_short = adata_short.X.shape[0]\n",
    "n_barcodes_long = adata_long.X.shape[0]\n",
    "metrics['n_barcodes_short'] = int(n_barcodes_short)\n",
    "metrics['n_barcodes_long'] = int(n_barcodes_long)"
   ]
  },
  {
   "cell_type": "code",
   "execution_count": null,
   "metadata": {},
   "outputs": [],
   "source": [
    "adata_gene_info_set = set(zip(\n",
    "    adata_long.var[ADATA_LONG_GENE_IDS_COL].values,\n",
    "    adata_long.var['is_de_novo'].values,\n",
    "    adata_long.var['is_gene_id_ambiguous'].values))\n",
    "\n",
    "gene_ids_set = set(map(itemgetter(0), adata_gene_info_set))\n",
    "n_total_genes_long = len(gene_ids_set)\n",
    "n_total_genes_short = len(adata_short.var)\n",
    "n_de_novo_genes_long = sum(map(lambda gene_id: gene_id.find(DE_NOVO_GENE_PREFIX) == 0, gene_ids_set))\n",
    "n_gencode_genes_long = sum(map(lambda gene_id: gene_id.find(KNOWN_GENE_PREFIX) == 0, gene_ids_set))\n",
    "\n",
    "metrics['n_total_genes_long'] = int(n_total_genes_long)\n",
    "metrics['n_total_genes_short'] = int(n_total_genes_short)\n",
    "metrics['n_gencode_genes_long'] = int(n_total_genes_long)\n",
    "metrics['n_de_novo_genes_long'] = int(n_total_genes_long)"
   ]
  },
  {
   "cell_type": "code",
   "execution_count": null,
   "metadata": {},
   "outputs": [],
   "source": [
    "from collections import Counter\n",
    "\n",
    "adata_short_gene_id_set = set(adata_short.var[ADATA_SHORT_GENE_IDS_COL].values)\n",
    "adata_long_gene_id_set = set(adata_long.var[ADATA_LONG_GENE_IDS_COL].values)\n",
    "\n",
    "# drop gencode version suffix ...\n",
    "drop_version = lambda entry: entry.split('.')[0] if entry.find('ENS') == 0 else entry\n",
    "\n",
    "unversioned_adata_short_gene_id_counter = Counter([\n",
    "    drop_version(entry) for entry in adata_short_gene_id_set])\n",
    "unversioned_adata_long_gene_id_counter = Counter([\n",
    "    drop_version(entry) for entry in adata_long_gene_id_set])\n",
    "\n",
    "ver_unambiguous_adata_short_gene_id_list = [\n",
    "    gene_id for gene_id in unversioned_adata_short_gene_id_counter.keys()\n",
    "    if unversioned_adata_short_gene_id_counter[gene_id] == 1]\n",
    "ver_unambiguous_adata_long_gene_id_list = [\n",
    "    gene_id for gene_id in unversioned_adata_long_gene_id_counter.keys()\n",
    "    if unversioned_adata_long_gene_id_counter[gene_id] == 1]\n",
    "\n",
    "gene_id_ambiguous_adata_long_unversioned_gene_id_set = set(map(\n",
    "    drop_version,\n",
    "    adata_long[:, adata_long.var['is_gene_id_ambiguous']].var[ADATA_LONG_GENE_IDS_COL].values))\n",
    "\n",
    "final_unversioned_unambiguous_mutual_gene_id_set = \\\n",
    "    set(ver_unambiguous_adata_long_gene_id_list) \\\n",
    "    .intersection(ver_unambiguous_adata_short_gene_id_list) \\\n",
    "    .difference(gene_id_ambiguous_adata_long_unversioned_gene_id_set)\n",
    "\n",
    "metrics['n_adata_short_gene_id_set'] = len(adata_short_gene_id_set)\n",
    "metrics['n_adata_long_gene_id_set'] = len(adata_long_gene_id_set)\n",
    "metrics['n_ver_unambiguous_adata_short'] = len(ver_unambiguous_adata_short_gene_id_list)\n",
    "metrics['n_ver_unambiguous_adata_long'] = len(ver_unambiguous_adata_long_gene_id_list)\n",
    "metrics['n_gene_id_ambiguous_adata'] = len(gene_id_ambiguous_adata_long_unversioned_gene_id_set)\n",
    "metrics['n_final_unversioned_unambiguous_mutual_gene_id_set'] = len(final_unversioned_unambiguous_mutual_gene_id_set)"
   ]
  },
  {
   "cell_type": "code",
   "execution_count": null,
   "metadata": {},
   "outputs": [],
   "source": [
    "final_adata_short_mutual_keep_var_indices = [\n",
    "    var_idx\n",
    "    for var_idx, gene_id in enumerate(adata_short.var[ADATA_SHORT_GENE_IDS_COL])\n",
    "    if drop_version(gene_id) in final_unversioned_unambiguous_mutual_gene_id_set]\n",
    "\n",
    "final_adata_long_mutual_keep_var_indices = [\n",
    "    var_idx\n",
    "    for var_idx, gene_id in enumerate(adata_long.var[ADATA_LONG_GENE_IDS_COL])\n",
    "    if drop_version(gene_id) in final_unversioned_unambiguous_mutual_gene_id_set]\n",
    "\n",
    "# sort both by gene_ids\n",
    "final_adata_short_mutual_keep_var_indices = sorted(\n",
    "    final_adata_short_mutual_keep_var_indices,\n",
    "    key=lambda idx: drop_version(adata_short.var[ADATA_SHORT_GENE_IDS_COL].values[idx]))\n",
    "\n",
    "final_adata_long_mutual_keep_var_indices = sorted(\n",
    "    final_adata_long_mutual_keep_var_indices,\n",
    "    key=lambda idx: drop_version(adata_long.var[ADATA_LONG_GENE_IDS_COL].values[idx]))"
   ]
  },
  {
   "cell_type": "code",
   "execution_count": null,
   "metadata": {},
   "outputs": [],
   "source": [
    "# subset long adata barcodes to short adata\n",
    "adata_short_barcodes_set = set(adata_short.obs.index.values)\n",
    "adata_long_keep_indices = []\n",
    "found_barcodes_set = set()\n",
    "for idx, bc in enumerate(adata_long.obs.index.values):\n",
    "    if bc in adata_short_barcodes_set:\n",
    "        adata_long_keep_indices.append(idx)\n",
    "        found_barcodes_set.add(bc)\n",
    "not_found_barcodes_set = adata_short_barcodes_set.difference(found_barcodes_set)\n",
    "\n",
    "found_barcodes_list = sorted(list(found_barcodes_set))\n",
    "\n",
    "adata_short_barcode_index_map = {\n",
    "    bc: idx for idx, bc in enumerate(adata_short.obs.index.values)}\n",
    "final_adata_short_keep_obs_indices = [\n",
    "    adata_short_barcode_index_map[barcode]\n",
    "    for barcode in found_barcodes_list]\n",
    "\n",
    "adata_long_barcode_index_map = {\n",
    "    bc: idx for idx, bc in enumerate(adata_long.obs.index.values)}\n",
    "final_adata_long_keep_obs_indices = [\n",
    "    adata_long_barcode_index_map[barcode]\n",
    "    for barcode in found_barcodes_list]\n",
    "final_adata_long_not_keep_obs_indices = sorted(list(set(adata_long_barcode_index_map.values()).difference(\n",
    "    final_adata_long_keep_obs_indices)))"
   ]
  },
  {
   "cell_type": "code",
   "execution_count": null,
   "metadata": {},
   "outputs": [],
   "source": [
    "# finally, slice\n",
    "log_info('Generating harmonized AnnData objects...')\n",
    "adata_short_mutual_barcodes = adata_short[final_adata_short_keep_obs_indices]\n",
    "adata_short_mutual_barcodes_genes = adata_short_mutual_barcodes[:, final_adata_short_mutual_keep_var_indices]\n",
    "adata_long_empty_barcodes = adata_long[final_adata_long_not_keep_obs_indices]\n",
    "adata_long_mutual_barcodes = adata_long[final_adata_long_keep_obs_indices]\n",
    "adata_long_mutual_genes = adata_long[:, final_adata_long_mutual_keep_var_indices]\n",
    "adata_long_mutual_barcodes_genes = adata_long_mutual_barcodes[:, final_adata_long_mutual_keep_var_indices]\n",
    "adata_long_empty_barcodes_mutual_genes = adata_long_empty_barcodes[:, final_adata_long_mutual_keep_var_indices]"
   ]
  },
  {
   "cell_type": "code",
   "execution_count": null,
   "metadata": {},
   "outputs": [],
   "source": [
    "n_mutual_barcodes = len(final_adata_long_keep_obs_indices)\n",
    "metrics['n_mutual_barcodes'] = int(n_mutual_barcodes)\n",
    "metrics['pct_mutual_barcodes'] = float(100. * (n_mutual_barcodes / n_barcodes_short))\n",
    "\n",
    "# UMI statistics\n",
    "metrics['mean_umi_per_barcode_short'] = float(np.mean(\n",
    "    np.asarray(adata_short.X.sum(-1)).flatten()))\n",
    "metrics['median_umi_per_barcode_short'] = float(np.median(\n",
    "    np.asarray(adata_short.X.sum(-1)).flatten()))\n",
    "\n",
    "metrics['mean_umi_per_barcode_long'] = float(np.mean(\n",
    "    np.asarray(adata_long.X.sum(-1)).flatten()))\n",
    "metrics['median_umi_per_barcode_long'] = float(np.median(\n",
    "    np.asarray(adata_long.X.sum(-1)).flatten()))\n",
    "\n",
    "metrics['mean_umi_per_mutual_barcode_short'] = float(np.mean(\n",
    "    np.asarray(adata_short_mutual_barcodes.X.sum(-1)).flatten()))\n",
    "metrics['median_umi_per_mutual_barcode_short'] = float(np.median(\n",
    "    np.asarray(adata_short_mutual_barcodes.X.sum(-1)).flatten()))\n",
    "\n",
    "metrics['mean_umi_per_mutual_barcode_long'] = float(np.mean(\n",
    "    np.asarray(adata_long_mutual_barcodes.X.sum(-1)).flatten()))\n",
    "metrics['median_umi_per_mutual_barcode_long'] = float(np.median(\n",
    "    np.asarray(adata_long_mutual_barcodes.X.sum(-1)).flatten()))\n",
    "\n",
    "metrics['mean_umi_per_empty_barcode_long'] = float(np.mean(\n",
    "    np.asarray(adata_long_empty_barcodes.X.sum(-1)).flatten()))\n",
    "metrics['median_umi_per_empty_barcode_long'] = float(np.median(\n",
    "    np.asarray(adata_long_empty_barcodes.X.sum(-1)).flatten()))\n",
    "\n",
    "metrics['pct_umis_in_empty_barcodes_long'] = float(100. * adata_long_empty_barcodes.X.sum() / adata_long.X.sum())\n",
    "metrics['pct_umis_in_empty_barcodes_mutual_genes_long'] = float(100. * adata_long_empty_barcodes_mutual_genes.X.sum() / adata_long_mutual_genes.X.sum())"
   ]
  },
  {
   "cell_type": "code",
   "execution_count": null,
   "metadata": {},
   "outputs": [],
   "source": [
    "for col in adata_short_obs_col_propagate:\n",
    "    try:\n",
    "        adata_long_mutual_barcodes.obs[col] = adata_short_mutual_barcodes.obs[col].values.copy()\n",
    "        adata_long_mutual_barcodes_genes.obs[col] = adata_short_mutual_barcodes_genes.obs[col].values.copy()\n",
    "    except:\n",
    "        log_info(f'WARNING: Could not propagate {col}!')\n",
    "    \n",
    "for col in adata_short_obsm_col_propagate:\n",
    "    try:\n",
    "        adata_long_mutual_barcodes.obsm[col] = adata_short_mutual_barcodes.obsm[col].copy()\n",
    "        adata_long_mutual_barcodes_genes.obsm[col] = adata_short_mutual_barcodes_genes.obsm[col].copy()\n",
    "    except:\n",
    "        log_info(f'WARNING: Could not propagate {col}!')"
   ]
  },
  {
   "cell_type": "code",
   "execution_count": null,
   "metadata": {},
   "outputs": [],
   "source": [
    "# save\n",
    "log_info('Saving harmonized AnnData objects...')\n",
    "adata_long_mutual_barcodes.write(harmonized_long_adata_h5_path)\n",
    "adata_short_mutual_barcodes.write(harmonized_short_adata_h5_path)\n",
    "adata_long_mutual_barcodes_genes.write(harmonized_long_adata_mutual_genes_h5_path)\n",
    "adata_short_mutual_barcodes_genes.write(harmonized_short_adata_mutual_genes_h5_path)"
   ]
  },
  {
   "cell_type": "code",
   "execution_count": null,
   "metadata": {},
   "outputs": [],
   "source": [
    "log_info('Generating plots...')"
   ]
  },
  {
   "cell_type": "code",
   "execution_count": null,
   "metadata": {},
   "outputs": [],
   "source": [
    "# highest expressed genes\n",
    "with plt.rc_context():\n",
    "    sc.pl.highest_expr_genes(adata_short_mutual_barcodes_genes, n_top=50, show=False)\n",
    "    plt.savefig(\n",
    "        os.path.join(\n",
    "            output_path,\n",
    "            f'{output_prefix}.highly_expressed_genes.short.png'),\n",
    "        bbox_inches=\"tight\")"
   ]
  },
  {
   "cell_type": "code",
   "execution_count": null,
   "metadata": {},
   "outputs": [],
   "source": [
    "new_adata_long_index = list(f'{gs} ({teq})' for gs, teq in zip(\n",
    "    adata_long_mutual_barcodes_genes.var['gene_names'],\n",
    "    adata_long_mutual_barcodes_genes.var['transcript_eq_classes']))\n",
    "adata_long_mutual_barcodes_genes.var['genes_names_teq'] = new_adata_long_index\n",
    "adata_long_mutual_barcodes_genes.var.set_index('genes_names_teq', inplace=True, drop=True)"
   ]
  },
  {
   "cell_type": "code",
   "execution_count": null,
   "metadata": {},
   "outputs": [],
   "source": [
    "# highest expressed isoforms\n",
    "with plt.rc_context():\n",
    "    sc.pl.highest_expr_genes(adata_long_mutual_barcodes_genes, n_top=50, show=False)\n",
    "    plt.savefig(\n",
    "        os.path.join(\n",
    "            output_path,\n",
    "            f'{output_prefix}.highly_expressed_genes.long.png'),\n",
    "        bbox_inches=\"tight\")"
   ]
  },
  {
   "cell_type": "code",
   "execution_count": null,
   "metadata": {},
   "outputs": [],
   "source": [
    "total_tx_expr_long = np.asarray(adata_long_mutual_barcodes_genes.X.sum(0)).flatten()\n",
    "total_gene_expr_short = np.asarray(adata_short_mutual_barcodes_genes.X.sum(0)).flatten()"
   ]
  },
  {
   "cell_type": "code",
   "execution_count": null,
   "metadata": {},
   "outputs": [],
   "source": [
    "short_gene_ids = list(map(drop_version, adata_short_mutual_barcodes_genes.var[ADATA_SHORT_GENE_IDS_COL].values))\n",
    "long_gene_ids = list(map(drop_version, adata_long_mutual_barcodes_genes.var[ADATA_LONG_GENE_IDS_COL].values))"
   ]
  },
  {
   "cell_type": "code",
   "execution_count": null,
   "metadata": {},
   "outputs": [],
   "source": [
    "from itertools import groupby\n",
    "from operator import itemgetter\n",
    "\n",
    "gene_id_to_tx_indices_map = dict()\n",
    "for g in groupby(enumerate(long_gene_ids), key=itemgetter(1)):\n",
    "    gene_id = g[0]\n",
    "    tx_indices = list(map(itemgetter(0), g[1]))\n",
    "    gene_id_to_tx_indices_map[gene_id] = tx_indices\n",
    "    \n",
    "total_gene_expr_long = []\n",
    "for gene_id in short_gene_ids:\n",
    "    total_gene_expr_long.append(np.sum(total_tx_expr_long[gene_id_to_tx_indices_map[gene_id]]))\n",
    "total_gene_expr_long = np.asarray(total_gene_expr_long)"
   ]
  },
  {
   "cell_type": "code",
   "execution_count": null,
   "metadata": {},
   "outputs": [],
   "source": [
    "total_gene_expr_short_tpm = 1_000_000 * total_gene_expr_short / np.sum(total_gene_expr_short)\n",
    "total_gene_expr_long_tpm = 1_000_000 * total_gene_expr_long / np.sum(total_gene_expr_long)"
   ]
  },
  {
   "cell_type": "code",
   "execution_count": null,
   "metadata": {},
   "outputs": [],
   "source": [
    "import matplotlib as mpl\n",
    "mpl.rcParams.update(mpl.rcParamsDefault)"
   ]
  },
  {
   "cell_type": "code",
   "execution_count": null,
   "metadata": {},
   "outputs": [],
   "source": [
    "import matplotlib.ticker as tck\n",
    "from sklearn.metrics import r2_score\n",
    "\n",
    "fig, ax = plt.subplots(figsize=(4, 4))\n",
    "\n",
    "ax.plot([1e-1, 1e5], [1e-1, 1e5], '--', lw=1, color='black')\n",
    "ax.scatter(total_gene_expr_short_tpm, total_gene_expr_long_tpm, s=1, alpha=0.2, color='gray')\n",
    "r2 = r2_score(np.log1p(total_gene_expr_short_tpm), np.log1p(total_gene_expr_long_tpm))\n",
    "ax.text(0.15, 3e4, f'$R^2$ = {r2:.2f}', fontsize=10)\n",
    "ax.set_xscale('log')\n",
    "ax.set_yscale('log')\n",
    "ax.set_xticks([1e-1, 1e1, 1e3, 1e5])\n",
    "ax.set_yticks([1e-1, 1e1, 1e3, 1e5])\n",
    "ax.xaxis.set_minor_locator(tck.AutoMinorLocator())\n",
    "ax.yaxis.set_minor_locator(tck.AutoMinorLocator())\n",
    "ax.set_xlim((1e-1, 1e5))\n",
    "ax.set_ylim((1e-1, 1e5))\n",
    "ax.set_aspect('equal')\n",
    "# ax.set_title('M132TS')\n",
    "ax.set_xlabel('NGS total expression (TPM)')\n",
    "ax.set_ylabel('MAS-seq total expression (TPM)')\n",
    "\n",
    "fig.tight_layout()\n",
    "\n",
    "plt.savefig(\n",
    "    os.path.join(\n",
    "        output_path,\n",
    "        f'{output_prefix}.gex.short.long.concordance.png'),\n",
    "    bbox_inches=\"tight\")"
   ]
  },
  {
   "cell_type": "code",
   "execution_count": null,
   "metadata": {},
   "outputs": [],
   "source": [
    "metrics['gex_concordance_r2'] = float(r2)"
   ]
  },
  {
   "cell_type": "code",
   "execution_count": null,
   "metadata": {},
   "outputs": [],
   "source": [
    "log_info('Saving metrics...')\n",
    "with open(os.path.join(output_path, f'{output_prefix}.metrics.yaml'), 'w+') as f:\n",
    "    yaml.dump(metrics, f)"
   ]
  },
  {
   "cell_type": "code",
   "execution_count": null,
   "metadata": {},
   "outputs": [],
   "source": [
    "log_info('Done!')"
   ]
  },
  {
   "cell_type": "code",
   "execution_count": null,
   "metadata": {},
   "outputs": [],
   "source": []
  }
 ],
 "metadata": {
  "environment": {
   "name": "pytorch-gpu.1-7.m65",
   "type": "gcloud",
   "uri": "gcr.io/deeplearning-platform-release/pytorch-gpu.1-7:m65"
  },
  "kernelspec": {
   "display_name": "Python 3",
   "language": "python",
   "name": "python3"
  },
  "language_info": {
   "codemirror_mode": {
    "name": "ipython",
    "version": 3
   },
   "file_extension": ".py",
   "mimetype": "text/x-python",
   "name": "python",
   "nbconvert_exporter": "python",
   "pygments_lexer": "ipython3",
   "version": "3.7.10"
  }
 },
 "nbformat": 4,
 "nbformat_minor": 4
}
