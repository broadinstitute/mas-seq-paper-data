{
 "cells": [
  {
   "cell_type": "markdown",
   "metadata": {},
   "source": [
    "## Harmonize long-read and short-read AnnData objects for M132TS\n",
    "\n",
    "This notebooks harmonizes long-read and short-read AnnData objects (e.g. mutual barcodes, mutual genes, etc.) and produces several AnnData outputs and figures, including a scrubbed AnnData object for Seurat SCT analysis.\n",
    "\n",
    "**Inputs and Outputs**\n",
    "- Inputs:\n",
    "  - `M132TS_immune.h5ad`: short-reads AnnData object (immune component)\n",
    "  - `M132TS_MAS_15x_overall_gene_tx_expression_count_matrix_tx_gene_counts_adata.h5ad`: long-reads counts matrix (raw)\n",
    "- Outputs:\n",
    "  - harmonized long-reads and short-reads AnnData objects (raw counts, all genes)\n",
    "  - harmonized long-reads and short-reads AnnData objects (raw counts, all genes, metadata and unstructured data removed [for Seurat SCT analysis])\n",
    "  - harmonized long-reads and short-reads AnnData objects (raw counts, mutual genes)\n",
    "  - short vs. long gene expression concordance\n",
    "  - gene- and transcript- level saturation curves + fit"
   ]
  },
  {
   "cell_type": "code",
   "execution_count": null,
   "metadata": {},
   "outputs": [],
   "source": [
    "%matplotlib inline\n",
    "\n",
    "import matplotlib.pylab as plt\n",
    "\n",
    "import numpy as np\n",
    "import pandas as pd\n",
    "import os\n",
    "import sys\n",
    "from time import time\n",
    "import logging\n",
    "import pickle\n",
    "from operator import itemgetter\n",
    "\n",
    "import scanpy as sc\n",
    "\n",
    "SMALL_SIZE = 12\n",
    "MEDIUM_SIZE = 14\n",
    "BIGGER_SIZE = 16\n",
    "\n",
    "plt.rc('font', size=SMALL_SIZE)          # controls default text sizes\n",
    "plt.rc('axes', titlesize=SMALL_SIZE)     # fontsize of the axes title\n",
    "plt.rc('axes', labelsize=MEDIUM_SIZE)    # fontsize of the x and y labels\n",
    "plt.rc('xtick', labelsize=SMALL_SIZE)    # fontsize of the tick labels\n",
    "plt.rc('ytick', labelsize=SMALL_SIZE)    # fontsize of the tick labels\n",
    "plt.rc('legend', fontsize=SMALL_SIZE)    # legend fontsize\n",
    "plt.rc('figure', titlesize=BIGGER_SIZE)  # fontsize of the figure title\n",
    "\n",
    "logger = logging.getLogger()\n",
    "logger.setLevel(logging.INFO)\n",
    "log_info = logger.warning\n",
    "\n",
    "import warnings\n",
    "warnings.filterwarnings(\"ignore\")\n",
    "\n",
    "sc.settings.set_figure_params(dpi=80, facecolor='white')"
   ]
  },
  {
   "cell_type": "code",
   "execution_count": null,
   "metadata": {},
   "outputs": [],
   "source": [
    "repo_root = '/home/jupyter/mb-ml-data-disk/MAS-seq-analysis'\n",
    "\n",
    "short_h5_path = 'output/t-cell-vdj-cite-seq/M132TS_immune.h5ad'\n",
    "long_tx_counts_h5_path = 'data/t-cell-vdj/long/quant/revised_v2/M132TS_MAS_15x_overall_gene_tx_expression_count_matrix_tx_gene_counts_adata.h5ad'\n",
    "prefix = 'M132TS_immune.revised_v2'\n",
    "\n",
    "# raw output (only harmonized in terms of keeping matching cell barcodes)\n",
    "harmonized_long_adata_h5_path = os.path.join(\n",
    "    repo_root, f'output/t-cell-vdj-cite-seq/{prefix}.harmonized.long.stringtie.h5ad')\n",
    "harmonized_short_adata_h5_path = os.path.join(\n",
    "    repo_root, f'output/t-cell-vdj-cite-seq/{prefix}.harmonized.short.stringtie.h5ad')\n",
    "\n",
    "# additionally, only mutual genes are retained\n",
    "harmonized_long_adata_mutual_genes_h5_path = os.path.join(\n",
    "    repo_root, f'output/t-cell-vdj-cite-seq/{prefix}.harmonized.long.stringtie.mutual_genes.h5ad')\n",
    "harmonized_short_adata_mutual_genes_h5_path = os.path.join(\n",
    "    repo_root, f'output/t-cell-vdj-cite-seq/{prefix}.harmonized.short.stringtie.mutual_genes.h5ad')\n",
    "\n",
    "# this output is to be consumed by Seurat to generate SCT scaled data\n",
    "# - most metadata is removed\n",
    "harmonized_long_adata_seurat_input_h5_path = os.path.join(\n",
    "    repo_root, f'output/t-cell-vdj-cite-seq/{prefix}.harmonized.long.stringtie.seurat_input.h5ad')\n",
    "harmonized_short_adata_seurat_input_h5_path = os.path.join(\n",
    "    repo_root, f'output/t-cell-vdj-cite-seq/{prefix}.harmonized.short.stringtie.seurat_input.h5ad')"
   ]
  },
  {
   "cell_type": "code",
   "execution_count": null,
   "metadata": {},
   "outputs": [],
   "source": [
    "adata_short = sc.read(os.path.join(repo_root, short_h5_path)).raw.to_adata()"
   ]
  },
  {
   "cell_type": "code",
   "execution_count": null,
   "metadata": {},
   "outputs": [],
   "source": [
    "adata_long = sc.read(os.path.join(repo_root, long_tx_counts_h5_path))\n",
    "adata_long.var_names_make_unique()\n",
    "adata_long.obs = adata_long.obs.drop('Cell Barcode', axis=1)"
   ]
  },
  {
   "cell_type": "code",
   "execution_count": null,
   "metadata": {},
   "outputs": [],
   "source": [
    "adata_short"
   ]
  },
  {
   "cell_type": "code",
   "execution_count": null,
   "metadata": {},
   "outputs": [],
   "source": [
    "adata_long"
   ]
  },
  {
   "cell_type": "code",
   "execution_count": null,
   "metadata": {},
   "outputs": [],
   "source": [
    "adata_long.var"
   ]
  },
  {
   "cell_type": "code",
   "execution_count": null,
   "metadata": {},
   "outputs": [],
   "source": [
    "## todo: is this the right number?\n",
    "long_total_reads = 27_159_273\n",
    "long_total_umis = adata_long.X.sum()\n",
    "long_reads_per_umi = long_total_reads / long_total_umis "
   ]
  },
  {
   "cell_type": "code",
   "execution_count": null,
   "metadata": {},
   "outputs": [],
   "source": [
    "print(f'Number of UMIs per read (long-read dataset): {long_reads_per_umi:.3f}')"
   ]
  },
  {
   "cell_type": "code",
   "execution_count": null,
   "metadata": {},
   "outputs": [],
   "source": [
    "adata_long.var"
   ]
  },
  {
   "cell_type": "code",
   "execution_count": null,
   "metadata": {},
   "outputs": [],
   "source": [
    "ADATA_SHORT_GENE_IDS_COL = 'gene_ids'\n",
    "ADATA_LONG_GENE_IDS_COL = 'gene_ids'"
   ]
  },
  {
   "cell_type": "markdown",
   "metadata": {},
   "source": [
    "## Align long adata to short adata"
   ]
  },
  {
   "cell_type": "code",
   "execution_count": null,
   "metadata": {},
   "outputs": [],
   "source": [
    "adata_gene_info_set = set(zip(\n",
    "    adata_long.var[ADATA_LONG_GENE_IDS_COL].values,\n",
    "    adata_long.var['is_de_novo'].values,\n",
    "    adata_long.var['is_gene_id_ambiguous'].values))\n",
    "\n",
    "gene_ids_set = set(map(itemgetter(0), adata_gene_info_set))\n",
    "n_total_genes = len(gene_ids_set)\n",
    "n_de_novo_genes = sum(map(lambda gene_id: gene_id.find('MASG') == 0, gene_ids_set))\n",
    "n_gencode_genes = sum(map(lambda gene_id: gene_id.find('ENSG') == 0, gene_ids_set))\n",
    "\n",
    "print(f'all long adata genes: {n_total_genes}')\n",
    "print(f'gencode long adata genes: {n_gencode_genes}')\n",
    "print(f'de novo long adata genes: {n_de_novo_genes}')"
   ]
  },
  {
   "cell_type": "code",
   "execution_count": null,
   "metadata": {},
   "outputs": [],
   "source": [
    "from collections import Counter\n",
    "\n",
    "adata_short_gene_id_set = set(adata_short.var[ADATA_SHORT_GENE_IDS_COL].values)\n",
    "adata_long_gene_id_set = set(adata_long.var[ADATA_LONG_GENE_IDS_COL].values)\n",
    "\n",
    "# drop gencode version suffix ...\n",
    "drop_version = lambda entry: entry.split('.')[0] if entry.find('ENS') == 0 else entry\n",
    "\n",
    "unversioned_adata_short_gene_id_counter = Counter([\n",
    "    drop_version(entry) for entry in adata_short_gene_id_set])\n",
    "unversioned_adata_long_gene_id_counter = Counter([\n",
    "    drop_version(entry) for entry in adata_long_gene_id_set])\n",
    "\n",
    "ver_unambiguous_adata_short_gene_id_list = [\n",
    "    gene_id for gene_id in unversioned_adata_short_gene_id_counter.keys()\n",
    "    if unversioned_adata_short_gene_id_counter[gene_id] == 1]\n",
    "ver_unambiguous_adata_long_gene_id_list = [\n",
    "    gene_id for gene_id in unversioned_adata_long_gene_id_counter.keys()\n",
    "    if unversioned_adata_long_gene_id_counter[gene_id] == 1]\n",
    "\n",
    "gene_id_ambiguous_adata_long_unversioned_gene_id_set = set(map(\n",
    "    drop_version,\n",
    "    adata_long[:, adata_long.var['is_gene_id_ambiguous']].var[ADATA_LONG_GENE_IDS_COL].values))\n",
    "\n",
    "final_unversioned_unambiguous_mutual_gene_id_set = \\\n",
    "    set(ver_unambiguous_adata_long_gene_id_list) \\\n",
    "    .intersection(ver_unambiguous_adata_short_gene_id_list) \\\n",
    "    .difference(gene_id_ambiguous_adata_long_unversioned_gene_id_set)\n",
    "\n",
    "print(f'adata_short_gene_id_set: {len(adata_short_gene_id_set)}')\n",
    "print(f'adata_long_gene_id_set: {len(adata_long_gene_id_set)}')\n",
    "print(f'ver_unambiguous_adata_short_gene_id_list: {len(ver_unambiguous_adata_short_gene_id_list)}')\n",
    "print(f'ver_unambiguous_adata_long_gene_id_list: {len(ver_unambiguous_adata_long_gene_id_list)}')\n",
    "print(f'gene_id_ambiguous_adata_long_unversioned_gene_id_set: {len(gene_id_ambiguous_adata_long_unversioned_gene_id_set)}')\n",
    "print(f'final_unversioned_unambiguous_mutual_gene_id_set: {len(final_unversioned_unambiguous_mutual_gene_id_set)}')"
   ]
  },
  {
   "cell_type": "code",
   "execution_count": null,
   "metadata": {},
   "outputs": [],
   "source": [
    "final_adata_short_mutual_keep_var_indices = [\n",
    "    var_idx\n",
    "    for var_idx, gene_id in enumerate(adata_short.var[ADATA_SHORT_GENE_IDS_COL])\n",
    "    if drop_version(gene_id) in final_unversioned_unambiguous_mutual_gene_id_set]\n",
    "\n",
    "final_adata_long_mutual_keep_var_indices = [\n",
    "    var_idx\n",
    "    for var_idx, gene_id in enumerate(adata_long.var[ADATA_LONG_GENE_IDS_COL])\n",
    "    if drop_version(gene_id) in final_unversioned_unambiguous_mutual_gene_id_set]\n",
    "\n",
    "# sort both by gene_ids\n",
    "final_adata_short_mutual_keep_var_indices = sorted(\n",
    "    final_adata_short_mutual_keep_var_indices,\n",
    "    key=lambda idx: drop_version(adata_short.var[ADATA_SHORT_GENE_IDS_COL].values[idx]))\n",
    "\n",
    "final_adata_long_mutual_keep_var_indices = sorted(\n",
    "    final_adata_long_mutual_keep_var_indices,\n",
    "    key=lambda idx: drop_version(adata_long.var[ADATA_LONG_GENE_IDS_COL].values[idx]))"
   ]
  },
  {
   "cell_type": "code",
   "execution_count": null,
   "metadata": {},
   "outputs": [],
   "source": [
    "# subset long adata barcodes to short adata\n",
    "adata_short_barcodes_set = set(adata_short.obs.index.values)\n",
    "adata_long_keep_indices = []\n",
    "found_barcodes_set = set()\n",
    "for idx, bc in enumerate(adata_long.obs.index.values):\n",
    "    if bc in adata_short_barcodes_set:\n",
    "        adata_long_keep_indices.append(idx)\n",
    "        found_barcodes_set.add(bc)\n",
    "not_found_barcodes_set = adata_short_barcodes_set.difference(found_barcodes_set)\n",
    "\n",
    "if len(not_found_barcodes_set) > 0:\n",
    "    print(f'{len(not_found_barcodes_set)} out of {len(adata_short_barcodes_set)} could not be found in the long reads adata!')\n",
    "else:\n",
    "    print(f'All {len(adata_short_barcodes_set)} barcodes could be found in the long reads adata.')\n",
    "\n",
    "found_barcodes_list = sorted(list(found_barcodes_set))\n",
    "\n",
    "adata_short_barcode_index_map = {\n",
    "    bc: idx for idx, bc in enumerate(adata_short.obs.index.values)}\n",
    "final_adata_short_keep_obs_indices = [\n",
    "    adata_short_barcode_index_map[barcode]\n",
    "    for barcode in found_barcodes_list]\n",
    "\n",
    "adata_long_barcode_index_map = {\n",
    "    bc: idx for idx, bc in enumerate(adata_long.obs.index.values)}\n",
    "final_adata_long_keep_obs_indices = [\n",
    "    adata_long_barcode_index_map[barcode]\n",
    "    for barcode in found_barcodes_list]"
   ]
  },
  {
   "cell_type": "code",
   "execution_count": null,
   "metadata": {},
   "outputs": [],
   "source": [
    "# finally, slice\n",
    "adata_short = adata_short[final_adata_short_keep_obs_indices]\n",
    "adata_short_mutual = adata_short[:, final_adata_short_mutual_keep_var_indices]\n",
    "adata_long = adata_long[final_adata_long_keep_obs_indices]\n",
    "adata_long_mutual = adata_long[:, final_adata_long_mutual_keep_var_indices]"
   ]
  },
  {
   "cell_type": "code",
   "execution_count": null,
   "metadata": {},
   "outputs": [],
   "source": [
    "adata_short"
   ]
  },
  {
   "cell_type": "code",
   "execution_count": null,
   "metadata": {},
   "outputs": [],
   "source": [
    "adata_long"
   ]
  },
  {
   "cell_type": "code",
   "execution_count": null,
   "metadata": {},
   "outputs": [],
   "source": [
    "adata_short_mutual"
   ]
  },
  {
   "cell_type": "code",
   "execution_count": null,
   "metadata": {},
   "outputs": [],
   "source": [
    "adata_long_mutual"
   ]
  },
  {
   "cell_type": "code",
   "execution_count": null,
   "metadata": {},
   "outputs": [],
   "source": [
    "adata_short.obs.head()"
   ]
  },
  {
   "cell_type": "code",
   "execution_count": null,
   "metadata": {},
   "outputs": [],
   "source": [
    "adata_long.obs.head()"
   ]
  },
  {
   "cell_type": "code",
   "execution_count": null,
   "metadata": {},
   "outputs": [],
   "source": [
    "adata_short.var"
   ]
  },
  {
   "cell_type": "code",
   "execution_count": null,
   "metadata": {},
   "outputs": [],
   "source": [
    "adata_long.var"
   ]
  },
  {
   "cell_type": "code",
   "execution_count": null,
   "metadata": {},
   "outputs": [],
   "source": [
    "# propagate some columns from short to long\n",
    "adata_short_obs_col_propagate = ['CD45_TotalSeqC', 'CD45R_B220_TotalSeqC', 'CD45RA_TotalSeqC', 'CD45RO_TotalSeqC']\n",
    "adata_short_obsm_col_propagate = ['X_pca', 'X_tsne']\n",
    "\n",
    "for col in adata_short_obs_col_propagate:\n",
    "    try:\n",
    "        adata_long.obs[col] = adata_short.obs[col].values.copy()\n",
    "        adata_long_mutual.obs[col] = adata_short.obs[col].values.copy()\n",
    "    except:\n",
    "        log_info(f'WARNING: Could not propagate {col}!')\n",
    "    \n",
    "for col in adata_short_obsm_col_propagate:\n",
    "    try:\n",
    "        adata_long.obsm[col] = adata_short.obsm[col].copy()\n",
    "        adata_long_mutual.obsm[col] = adata_short.obsm[col].copy()\n",
    "    except:\n",
    "        log_info(f'WARNING: Could not propagate {col}!')"
   ]
  },
  {
   "cell_type": "code",
   "execution_count": null,
   "metadata": {},
   "outputs": [],
   "source": [
    "adata_long_stripped = adata_long.copy()\n",
    "adata_long_stripped.obs = adata_long_stripped.obs.drop(list(adata_long.obs.columns), axis=1)\n",
    "adata_long_stripped.obsm.clear()\n",
    "\n",
    "adata_short_stripped = adata_short.copy()\n",
    "adata_short_stripped.obs = adata_short_stripped.obs.drop(list(adata_short.obs.columns), axis=1)\n",
    "adata_short_stripped.var = adata_short_stripped.var.drop(list(adata_short.var.columns), axis=1)\n",
    "adata_short_stripped.uns.clear()\n",
    "adata_short_stripped.obsm.clear()\n",
    "adata_short_stripped.varm.clear()\n",
    "adata_short_stripped.obsp.clear()"
   ]
  },
  {
   "cell_type": "code",
   "execution_count": null,
   "metadata": {},
   "outputs": [],
   "source": [
    "# save\n",
    "adata_long.write(harmonized_long_adata_h5_path)\n",
    "adata_short.write(harmonized_short_adata_h5_path)\n",
    "adata_long_mutual.write(harmonized_long_adata_mutual_genes_h5_path)\n",
    "adata_short_mutual.write(harmonized_short_adata_mutual_genes_h5_path)\n",
    "adata_long_stripped.write(harmonized_long_adata_seurat_input_h5_path)\n",
    "adata_short_stripped.write(harmonized_short_adata_seurat_input_h5_path)"
   ]
  },
  {
   "cell_type": "code",
   "execution_count": null,
   "metadata": {},
   "outputs": [],
   "source": [
    "adata_long"
   ]
  },
  {
   "cell_type": "markdown",
   "metadata": {},
   "source": [
    "## Concordance between short and long adata total GEX over mutual genes"
   ]
  },
  {
   "cell_type": "code",
   "execution_count": null,
   "metadata": {},
   "outputs": [],
   "source": [
    "adata_short = sc.read(harmonized_short_adata_mutual_genes_h5_path)\n",
    "adata_long = sc.read(harmonized_long_adata_mutual_genes_h5_path)"
   ]
  },
  {
   "cell_type": "code",
   "execution_count": null,
   "metadata": {},
   "outputs": [],
   "source": [
    "# highest expressed isoforms\n",
    "sc.pl.highest_expr_genes(adata_short, n_top=50)"
   ]
  },
  {
   "cell_type": "code",
   "execution_count": null,
   "metadata": {},
   "outputs": [],
   "source": [
    "adata_long"
   ]
  },
  {
   "cell_type": "code",
   "execution_count": null,
   "metadata": {},
   "outputs": [],
   "source": [
    "# highest expressed isoforms\n",
    "_adata_long = adata_long.copy()\n",
    "gene_txeq_names = [\n",
    "    gene_name + '__' + eq_class for gene_name, eq_class in zip(\n",
    "        adata_long.var['gene_names'].values, adata_long.var['transcript_eq_classes'].values)]\n",
    "_adata_long.var['gene_txeq_names'] = gene_txeq_names\n",
    "_adata_long.var.set_index('gene_txeq_names', inplace=True)\n",
    "sc.pl.highest_expr_genes(_adata_long, n_top=50)"
   ]
  },
  {
   "cell_type": "code",
   "execution_count": null,
   "metadata": {},
   "outputs": [],
   "source": [
    "total_tx_expr_long = np.asarray(adata_long.X.sum(0)).flatten()\n",
    "total_gene_expr_short = np.asarray(adata_short.X.sum(0)).flatten()"
   ]
  },
  {
   "cell_type": "code",
   "execution_count": null,
   "metadata": {},
   "outputs": [],
   "source": [
    "short_gene_ids = list(map(drop_version, adata_short.var[ADATA_SHORT_GENE_IDS_COL].values))\n",
    "long_gene_ids = list(map(drop_version, adata_long.var[ADATA_LONG_GENE_IDS_COL].values))"
   ]
  },
  {
   "cell_type": "code",
   "execution_count": null,
   "metadata": {},
   "outputs": [],
   "source": [
    "from itertools import groupby\n",
    "from operator import itemgetter\n",
    "\n",
    "gene_id_to_tx_indices_map = dict()\n",
    "for g in groupby(enumerate(long_gene_ids), key=itemgetter(1)):\n",
    "    gene_id = g[0]\n",
    "    tx_indices = list(map(itemgetter(0), g[1]))\n",
    "    gene_id_to_tx_indices_map[gene_id] = tx_indices\n",
    "    \n",
    "total_gene_expr_long = []\n",
    "for gene_id in short_gene_ids:\n",
    "    total_gene_expr_long.append(np.sum(total_tx_expr_long[gene_id_to_tx_indices_map[gene_id]]))\n",
    "total_gene_expr_long = np.asarray(total_gene_expr_long)"
   ]
  },
  {
   "cell_type": "code",
   "execution_count": null,
   "metadata": {},
   "outputs": [],
   "source": [
    "total_gene_expr_short_tpm = 1_000_000 * total_gene_expr_short / np.sum(total_gene_expr_short)\n",
    "total_gene_expr_long_tpm = 1_000_000 * total_gene_expr_long / np.sum(total_gene_expr_long)"
   ]
  },
  {
   "cell_type": "code",
   "execution_count": null,
   "metadata": {},
   "outputs": [],
   "source": [
    "import matplotlib as mpl\n",
    "mpl.rcParams.update(mpl.rcParamsDefault)"
   ]
  },
  {
   "cell_type": "code",
   "execution_count": null,
   "metadata": {},
   "outputs": [],
   "source": [
    "import matplotlib.ticker as tck\n",
    "from sklearn.metrics import r2_score\n",
    "\n",
    "fig, ax = plt.subplots(figsize=(4, 4))\n",
    "\n",
    "ax.plot([1e-1, 1e5], [1e-1, 1e5], '--', lw=1, color='black')\n",
    "ax.scatter(total_gene_expr_short_tpm, total_gene_expr_long_tpm, s=1, alpha=0.2, color='gray')\n",
    "r2 = r2_score(np.log1p(total_gene_expr_short_tpm), np.log1p(total_gene_expr_long_tpm))\n",
    "ax.text(0.15, 3e4, f'$R^2$ = {r2:.2f}', fontsize=10)\n",
    "ax.set_xscale('log')\n",
    "ax.set_yscale('log')\n",
    "ax.set_xticks([1e-1, 1e1, 1e3, 1e5])\n",
    "ax.set_yticks([1e-1, 1e1, 1e3, 1e5])\n",
    "ax.xaxis.set_minor_locator(tck.AutoMinorLocator())\n",
    "ax.yaxis.set_minor_locator(tck.AutoMinorLocator())\n",
    "ax.set_xlim((1e-1, 1e5))\n",
    "ax.set_ylim((1e-1, 1e5))\n",
    "ax.set_aspect('equal')\n",
    "# ax.set_title('M132TS')\n",
    "ax.set_xlabel('NGS total expression (TPM)')\n",
    "ax.set_ylabel('MAS-seq total expression (TPM)')\n",
    "\n",
    "fig.tight_layout()\n",
    "\n",
    "plt.savefig('./output/M132TS__short_long_gex_concordance.pdf')"
   ]
  },
  {
   "cell_type": "markdown",
   "metadata": {},
   "source": [
    "## Cell-level and gene-level summary statistics"
   ]
  },
  {
   "cell_type": "code",
   "execution_count": null,
   "metadata": {},
   "outputs": [],
   "source": [
    "import matplotlib as mpl\n",
    "mpl.rcParams.update(mpl.rcParamsDefault)"
   ]
  },
  {
   "cell_type": "code",
   "execution_count": null,
   "metadata": {},
   "outputs": [],
   "source": [
    "adata_short = sc.read(harmonized_short_adata_h5_path)\n",
    "adata_long = sc.read(harmonized_long_adata_h5_path)"
   ]
  },
  {
   "cell_type": "code",
   "execution_count": null,
   "metadata": {},
   "outputs": [],
   "source": [
    "umis_per_cell_short = np.median(np.asarray(adata_short.X.sum(-1)).flatten())\n",
    "print(f'Median UMIs per cell (short-reads dataset): {umis_per_cell_short}')"
   ]
  },
  {
   "cell_type": "code",
   "execution_count": null,
   "metadata": {},
   "outputs": [],
   "source": [
    "umis_per_cell_long = np.median(np.asarray(adata_long.X.sum(-1)).flatten())\n",
    "print(f'Median UMIs per cell (long-reads dataset): {umis_per_cell_long}')"
   ]
  },
  {
   "cell_type": "code",
   "execution_count": null,
   "metadata": {},
   "outputs": [],
   "source": [
    "adata_short_umi_counts_n = np.asarray(adata_short.X.sum(-1)).flatten()\n",
    "adata_short_unique_gene_counts_n = np.asarray((adata_short.X > 0).sum(-1)).flatten()"
   ]
  },
  {
   "cell_type": "code",
   "execution_count": null,
   "metadata": {},
   "outputs": [],
   "source": [
    "adata_long_umi_counts_n = np.asarray(adata_long.X.sum(-1)).flatten()\n",
    "adata_long_unique_transcript_counts_n = np.asarray((adata_long.X > 0).sum(-1)).flatten()"
   ]
  },
  {
   "cell_type": "code",
   "execution_count": null,
   "metadata": {},
   "outputs": [],
   "source": [
    "import scipy\n",
    "\n",
    "gid_set = set(adata_long.var[ADATA_LONG_GENE_IDS_COL].values)\n",
    "gid_to_g_idx = {gid: g_idx for g_idx, gid in enumerate(gid_set)}\n",
    "\n",
    "t_idx_list = []\n",
    "g_idx_list = []\n",
    "values = []\n",
    "for t_idx, gid in enumerate(adata_long.var[ADATA_LONG_GENE_IDS_COL].values):\n",
    "    t_idx_list.append(t_idx)\n",
    "    g_idx_list.append(gid_to_g_idx[gid])\n",
    "    values.append(1)\n",
    "    \n",
    "t_idx_to_g_idx_map = scipy.sparse.coo_matrix(\n",
    "    (values, (t_idx_list, g_idx_list)),\n",
    "    shape=[len(adata_long.var[ADATA_SHORT_GENE_IDS_COL].values), len(gid_set)])\n",
    "\n",
    "adata_long_X_cg = adata_long.X @ t_idx_to_g_idx_map\n",
    "adata_long_unique_gene_counts_n = np.asarray((adata_long_X_cg > 0).sum(-1)).flatten()"
   ]
  },
  {
   "cell_type": "code",
   "execution_count": null,
   "metadata": {},
   "outputs": [],
   "source": [
    "from scipy.optimize import curve_fit\n",
    "\n",
    "def exp_saturation_curve(x, a1, a2, b1, b2):\n",
    "    y = x / 10_000\n",
    "    return 10_000 * (a1 * y + a2 * y**2) / (1 + b1 * y + b2 * y**2)"
   ]
  },
  {
   "cell_type": "code",
   "execution_count": null,
   "metadata": {},
   "outputs": [],
   "source": [
    "x_fit = np.linspace(0, 30_000, num=100)\n",
    "\n",
    "umi_cutoff = 100\n",
    "\n",
    "popt, pcov = curve_fit(\n",
    "    exp_saturation_curve,\n",
    "    adata_short_umi_counts_n[adata_short_umi_counts_n > umi_cutoff],\n",
    "    adata_short_unique_gene_counts_n[adata_short_umi_counts_n > umi_cutoff], bounds=(0, 100.))\n",
    "\n",
    "adata_short_unique_gene_counts_n_fit = exp_saturation_curve(x_fit, *tuple(popt))\n",
    "\n",
    "popt, pcov = curve_fit(\n",
    "    exp_saturation_curve,\n",
    "    adata_long_umi_counts_n[adata_long_umi_counts_n > umi_cutoff],\n",
    "    adata_long_unique_transcript_counts_n[adata_long_umi_counts_n > umi_cutoff], bounds=(0, 100.))\n",
    "\n",
    "adata_long_unique_transcript_counts_n_fit = exp_saturation_curve(x_fit, *tuple(popt))\n",
    "\n",
    "popt, pcov = curve_fit(\n",
    "    exp_saturation_curve,\n",
    "    adata_long_umi_counts_n[adata_long_umi_counts_n > umi_cutoff],\n",
    "    adata_long_unique_gene_counts_n[adata_long_umi_counts_n > umi_cutoff], bounds=(0, 100.))\n",
    "\n",
    "adata_long_unique_gene_counts_n_fit = exp_saturation_curve(x_fit, *tuple(popt))"
   ]
  },
  {
   "cell_type": "code",
   "execution_count": null,
   "metadata": {},
   "outputs": [],
   "source": [
    "import colorcet as cc\n",
    "\n",
    "fig, ax = plt.subplots(figsize=(3, 3))\n",
    "\n",
    "alpha = 0.2\n",
    "s = 1\n",
    "lw = 1\n",
    "adata_short_unique_gene_counts_color = list(cc.cm.glasbey(9)[:3])\n",
    "adata_long_unique_gene_counts_color = list(cc.cm.glasbey(7)[:3])\n",
    "adata_long_unique_transcript_counts_color = list(cc.cm.glasbey(2)[:3])\n",
    "\n",
    "ax.scatter(adata_short_umi_counts_n, adata_short_unique_gene_counts_n, s=s, color=adata_short_unique_gene_counts_color + [alpha])\n",
    "ax.scatter(adata_long_umi_counts_n, adata_long_unique_gene_counts_n, s=s, color=adata_long_unique_gene_counts_color + [alpha])\n",
    "ax.scatter(adata_long_umi_counts_n, adata_long_unique_transcript_counts_n, s=s, color=adata_long_unique_transcript_counts_color + [alpha])\n",
    "\n",
    "ax.plot(x_fit, adata_short_unique_gene_counts_n_fit, color=adata_short_unique_gene_counts_color, lw=lw, linestyle='--', label='unique genes (Illumina)')\n",
    "ax.plot(x_fit, adata_long_unique_gene_counts_n_fit, color=adata_long_unique_gene_counts_color, lw=lw, linestyle='--', label='unique genes (MAS-ISO-seq)')\n",
    "ax.plot(x_fit, adata_long_unique_transcript_counts_n_fit, color=adata_long_unique_transcript_counts_color, lw=lw, linestyle='--', label='unique transcript equivalence\\nclasses (MAS-ISO-seq)')\n",
    "\n",
    "ax.set_xlim((0, 3e4))\n",
    "ax.set_ylim((1, 8e3))\n",
    "plt.ticklabel_format(style='sci', axis='y', scilimits=(0,1), useMathText=True)\n",
    "plt.ticklabel_format(style='sci', axis='x', scilimits=(0,1), useMathText=True)\n",
    "\n",
    "ax.legend(fontsize=7, loc='upper left')\n",
    "ax.set_xlabel('UMIs per cell')\n",
    "ax.set_ylabel('Counts per cell')\n",
    "\n",
    "fig.tight_layout()\n",
    "\n",
    "plt.savefig('./output/M132TS__saturation.pdf')"
   ]
  },
  {
   "cell_type": "code",
   "execution_count": null,
   "metadata": {},
   "outputs": [],
   "source": []
  }
 ],
 "metadata": {
  "environment": {
   "name": "pytorch-gpu.1-7.m65",
   "type": "gcloud",
   "uri": "gcr.io/deeplearning-platform-release/pytorch-gpu.1-7:m65"
  },
  "kernelspec": {
   "display_name": "Python 3",
   "language": "python",
   "name": "python3"
  },
  "language_info": {
   "codemirror_mode": {
    "name": "ipython",
    "version": 3
   },
   "file_extension": ".py",
   "mimetype": "text/x-python",
   "name": "python",
   "nbconvert_exporter": "python",
   "pygments_lexer": "ipython3",
   "version": "3.7.10"
  }
 },
 "nbformat": 4,
 "nbformat_minor": 4
}
